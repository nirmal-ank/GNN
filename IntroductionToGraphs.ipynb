{
  "cells": [
    {
      "cell_type": "markdown",
      "metadata": {
        "id": "view-in-github",
        "colab_type": "text"
      },
      "source": [
        "<a href=\"https://colab.research.google.com/github/nirmal-ank/GNN/blob/main/IntroductionToGraphs.ipynb\" target=\"_parent\"><img src=\"https://colab.research.google.com/assets/colab-badge.svg\" alt=\"Open In Colab\"/></a>"
      ]
    },
    {
      "cell_type": "code",
      "execution_count": 1,
      "id": "9f8a87f6",
      "metadata": {
        "colab": {
          "base_uri": "https://localhost:8080/"
        },
        "id": "9f8a87f6",
        "outputId": "17a16db1-3ca6-4c3a-addd-9d5f176ea876"
      },
      "outputs": [
        {
          "output_type": "stream",
          "name": "stdout",
          "text": [
            "Collecting torch_geometric\n",
            "  Downloading torch_geometric-2.6.1-py3-none-any.whl.metadata (63 kB)\n",
            "\u001b[?25l     \u001b[90m━━━━━━━━━━━━━━━━━━━━━━━━━━━━━━━━━━━━━━━━\u001b[0m \u001b[32m0.0/63.1 kB\u001b[0m \u001b[31m?\u001b[0m eta \u001b[36m-:--:--\u001b[0m\r\u001b[2K     \u001b[90m━━━━━━━━━━━━━━━━━━━━━━━━━━━━━━━━━━━━━━━━\u001b[0m \u001b[32m63.1/63.1 kB\u001b[0m \u001b[31m2.0 MB/s\u001b[0m eta \u001b[36m0:00:00\u001b[0m\n",
            "\u001b[?25hRequirement already satisfied: aiohttp in /usr/local/lib/python3.10/dist-packages (from torch_geometric) (3.11.10)\n",
            "Requirement already satisfied: fsspec in /usr/local/lib/python3.10/dist-packages (from torch_geometric) (2024.10.0)\n",
            "Requirement already satisfied: jinja2 in /usr/local/lib/python3.10/dist-packages (from torch_geometric) (3.1.4)\n",
            "Requirement already satisfied: numpy in /usr/local/lib/python3.10/dist-packages (from torch_geometric) (1.26.4)\n",
            "Requirement already satisfied: psutil>=5.8.0 in /usr/local/lib/python3.10/dist-packages (from torch_geometric) (5.9.5)\n",
            "Requirement already satisfied: pyparsing in /usr/local/lib/python3.10/dist-packages (from torch_geometric) (3.2.0)\n",
            "Requirement already satisfied: requests in /usr/local/lib/python3.10/dist-packages (from torch_geometric) (2.32.3)\n",
            "Requirement already satisfied: tqdm in /usr/local/lib/python3.10/dist-packages (from torch_geometric) (4.67.1)\n",
            "Requirement already satisfied: aiohappyeyeballs>=2.3.0 in /usr/local/lib/python3.10/dist-packages (from aiohttp->torch_geometric) (2.4.4)\n",
            "Requirement already satisfied: aiosignal>=1.1.2 in /usr/local/lib/python3.10/dist-packages (from aiohttp->torch_geometric) (1.3.2)\n",
            "Requirement already satisfied: async-timeout<6.0,>=4.0 in /usr/local/lib/python3.10/dist-packages (from aiohttp->torch_geometric) (4.0.3)\n",
            "Requirement already satisfied: attrs>=17.3.0 in /usr/local/lib/python3.10/dist-packages (from aiohttp->torch_geometric) (24.3.0)\n",
            "Requirement already satisfied: frozenlist>=1.1.1 in /usr/local/lib/python3.10/dist-packages (from aiohttp->torch_geometric) (1.5.0)\n",
            "Requirement already satisfied: multidict<7.0,>=4.5 in /usr/local/lib/python3.10/dist-packages (from aiohttp->torch_geometric) (6.1.0)\n",
            "Requirement already satisfied: propcache>=0.2.0 in /usr/local/lib/python3.10/dist-packages (from aiohttp->torch_geometric) (0.2.1)\n",
            "Requirement already satisfied: yarl<2.0,>=1.17.0 in /usr/local/lib/python3.10/dist-packages (from aiohttp->torch_geometric) (1.18.3)\n",
            "Requirement already satisfied: MarkupSafe>=2.0 in /usr/local/lib/python3.10/dist-packages (from jinja2->torch_geometric) (3.0.2)\n",
            "Requirement already satisfied: charset-normalizer<4,>=2 in /usr/local/lib/python3.10/dist-packages (from requests->torch_geometric) (3.4.0)\n",
            "Requirement already satisfied: idna<4,>=2.5 in /usr/local/lib/python3.10/dist-packages (from requests->torch_geometric) (3.10)\n",
            "Requirement already satisfied: urllib3<3,>=1.21.1 in /usr/local/lib/python3.10/dist-packages (from requests->torch_geometric) (2.2.3)\n",
            "Requirement already satisfied: certifi>=2017.4.17 in /usr/local/lib/python3.10/dist-packages (from requests->torch_geometric) (2024.12.14)\n",
            "Requirement already satisfied: typing-extensions>=4.1.0 in /usr/local/lib/python3.10/dist-packages (from multidict<7.0,>=4.5->aiohttp->torch_geometric) (4.12.2)\n",
            "Downloading torch_geometric-2.6.1-py3-none-any.whl (1.1 MB)\n",
            "\u001b[2K   \u001b[90m━━━━━━━━━━━━━━━━━━━━━━━━━━━━━━━━━━━━━━━━\u001b[0m \u001b[32m1.1/1.1 MB\u001b[0m \u001b[31m12.3 MB/s\u001b[0m eta \u001b[36m0:00:00\u001b[0m\n",
            "\u001b[?25hInstalling collected packages: torch_geometric\n",
            "Successfully installed torch_geometric-2.6.1\n"
          ]
        }
      ],
      "source": [
        "pip install torch_geometric"
      ]
    },
    {
      "cell_type": "code",
      "execution_count": 2,
      "id": "01847640-9d3c-49d8-bacf-70a214c03ff8",
      "metadata": {
        "colab": {
          "base_uri": "https://localhost:8080/"
        },
        "id": "01847640-9d3c-49d8-bacf-70a214c03ff8",
        "outputId": "07b93cfc-8b57-4ff6-b76b-e262a2b05dc3"
      },
      "outputs": [
        {
          "output_type": "stream",
          "name": "stdout",
          "text": [
            "Requirement already satisfied: sentence_transformers in /usr/local/lib/python3.10/dist-packages (3.3.1)\n",
            "Requirement already satisfied: transformers<5.0.0,>=4.41.0 in /usr/local/lib/python3.10/dist-packages (from sentence_transformers) (4.47.1)\n",
            "Requirement already satisfied: tqdm in /usr/local/lib/python3.10/dist-packages (from sentence_transformers) (4.67.1)\n",
            "Requirement already satisfied: torch>=1.11.0 in /usr/local/lib/python3.10/dist-packages (from sentence_transformers) (2.5.1+cu121)\n",
            "Requirement already satisfied: scikit-learn in /usr/local/lib/python3.10/dist-packages (from sentence_transformers) (1.6.0)\n",
            "Requirement already satisfied: scipy in /usr/local/lib/python3.10/dist-packages (from sentence_transformers) (1.13.1)\n",
            "Requirement already satisfied: huggingface-hub>=0.20.0 in /usr/local/lib/python3.10/dist-packages (from sentence_transformers) (0.27.0)\n",
            "Requirement already satisfied: Pillow in /usr/local/lib/python3.10/dist-packages (from sentence_transformers) (11.0.0)\n",
            "Requirement already satisfied: filelock in /usr/local/lib/python3.10/dist-packages (from huggingface-hub>=0.20.0->sentence_transformers) (3.16.1)\n",
            "Requirement already satisfied: fsspec>=2023.5.0 in /usr/local/lib/python3.10/dist-packages (from huggingface-hub>=0.20.0->sentence_transformers) (2024.10.0)\n",
            "Requirement already satisfied: packaging>=20.9 in /usr/local/lib/python3.10/dist-packages (from huggingface-hub>=0.20.0->sentence_transformers) (24.2)\n",
            "Requirement already satisfied: pyyaml>=5.1 in /usr/local/lib/python3.10/dist-packages (from huggingface-hub>=0.20.0->sentence_transformers) (6.0.2)\n",
            "Requirement already satisfied: requests in /usr/local/lib/python3.10/dist-packages (from huggingface-hub>=0.20.0->sentence_transformers) (2.32.3)\n",
            "Requirement already satisfied: typing-extensions>=3.7.4.3 in /usr/local/lib/python3.10/dist-packages (from huggingface-hub>=0.20.0->sentence_transformers) (4.12.2)\n",
            "Requirement already satisfied: networkx in /usr/local/lib/python3.10/dist-packages (from torch>=1.11.0->sentence_transformers) (3.4.2)\n",
            "Requirement already satisfied: jinja2 in /usr/local/lib/python3.10/dist-packages (from torch>=1.11.0->sentence_transformers) (3.1.4)\n",
            "Requirement already satisfied: sympy==1.13.1 in /usr/local/lib/python3.10/dist-packages (from torch>=1.11.0->sentence_transformers) (1.13.1)\n",
            "Requirement already satisfied: mpmath<1.4,>=1.1.0 in /usr/local/lib/python3.10/dist-packages (from sympy==1.13.1->torch>=1.11.0->sentence_transformers) (1.3.0)\n",
            "Requirement already satisfied: numpy>=1.17 in /usr/local/lib/python3.10/dist-packages (from transformers<5.0.0,>=4.41.0->sentence_transformers) (1.26.4)\n",
            "Requirement already satisfied: regex!=2019.12.17 in /usr/local/lib/python3.10/dist-packages (from transformers<5.0.0,>=4.41.0->sentence_transformers) (2024.11.6)\n",
            "Requirement already satisfied: tokenizers<0.22,>=0.21 in /usr/local/lib/python3.10/dist-packages (from transformers<5.0.0,>=4.41.0->sentence_transformers) (0.21.0)\n",
            "Requirement already satisfied: safetensors>=0.4.1 in /usr/local/lib/python3.10/dist-packages (from transformers<5.0.0,>=4.41.0->sentence_transformers) (0.4.5)\n",
            "Requirement already satisfied: joblib>=1.2.0 in /usr/local/lib/python3.10/dist-packages (from scikit-learn->sentence_transformers) (1.4.2)\n",
            "Requirement already satisfied: threadpoolctl>=3.1.0 in /usr/local/lib/python3.10/dist-packages (from scikit-learn->sentence_transformers) (3.5.0)\n",
            "Requirement already satisfied: MarkupSafe>=2.0 in /usr/local/lib/python3.10/dist-packages (from jinja2->torch>=1.11.0->sentence_transformers) (3.0.2)\n",
            "Requirement already satisfied: charset-normalizer<4,>=2 in /usr/local/lib/python3.10/dist-packages (from requests->huggingface-hub>=0.20.0->sentence_transformers) (3.4.0)\n",
            "Requirement already satisfied: idna<4,>=2.5 in /usr/local/lib/python3.10/dist-packages (from requests->huggingface-hub>=0.20.0->sentence_transformers) (3.10)\n",
            "Requirement already satisfied: urllib3<3,>=1.21.1 in /usr/local/lib/python3.10/dist-packages (from requests->huggingface-hub>=0.20.0->sentence_transformers) (2.2.3)\n",
            "Requirement already satisfied: certifi>=2017.4.17 in /usr/local/lib/python3.10/dist-packages (from requests->huggingface-hub>=0.20.0->sentence_transformers) (2024.12.14)\n"
          ]
        }
      ],
      "source": [
        "pip install sentence_transformers"
      ]
    },
    {
      "cell_type": "code",
      "execution_count": 3,
      "id": "599144dc-59a7-4e0f-92e2-05a6d0f5f7f1",
      "metadata": {
        "scrolled": true,
        "colab": {
          "base_uri": "https://localhost:8080/"
        },
        "id": "599144dc-59a7-4e0f-92e2-05a6d0f5f7f1",
        "outputId": "6a2d20a6-9392-49f1-dc0b-beb8ad3a8d18"
      },
      "outputs": [
        {
          "output_type": "stream",
          "name": "stdout",
          "text": [
            "Requirement already satisfied: matplotlib in /usr/local/lib/python3.10/dist-packages (3.8.0)\n",
            "Requirement already satisfied: pandas in /usr/local/lib/python3.10/dist-packages (2.2.2)\n",
            "Requirement already satisfied: scikit-learn in /usr/local/lib/python3.10/dist-packages (1.6.0)\n",
            "Requirement already satisfied: contourpy>=1.0.1 in /usr/local/lib/python3.10/dist-packages (from matplotlib) (1.3.1)\n",
            "Requirement already satisfied: cycler>=0.10 in /usr/local/lib/python3.10/dist-packages (from matplotlib) (0.12.1)\n",
            "Requirement already satisfied: fonttools>=4.22.0 in /usr/local/lib/python3.10/dist-packages (from matplotlib) (4.55.3)\n",
            "Requirement already satisfied: kiwisolver>=1.0.1 in /usr/local/lib/python3.10/dist-packages (from matplotlib) (1.4.7)\n",
            "Requirement already satisfied: numpy<2,>=1.21 in /usr/local/lib/python3.10/dist-packages (from matplotlib) (1.26.4)\n",
            "Requirement already satisfied: packaging>=20.0 in /usr/local/lib/python3.10/dist-packages (from matplotlib) (24.2)\n",
            "Requirement already satisfied: pillow>=6.2.0 in /usr/local/lib/python3.10/dist-packages (from matplotlib) (11.0.0)\n",
            "Requirement already satisfied: pyparsing>=2.3.1 in /usr/local/lib/python3.10/dist-packages (from matplotlib) (3.2.0)\n",
            "Requirement already satisfied: python-dateutil>=2.7 in /usr/local/lib/python3.10/dist-packages (from matplotlib) (2.8.2)\n",
            "Requirement already satisfied: pytz>=2020.1 in /usr/local/lib/python3.10/dist-packages (from pandas) (2024.2)\n",
            "Requirement already satisfied: tzdata>=2022.7 in /usr/local/lib/python3.10/dist-packages (from pandas) (2024.2)\n",
            "Requirement already satisfied: scipy>=1.6.0 in /usr/local/lib/python3.10/dist-packages (from scikit-learn) (1.13.1)\n",
            "Requirement already satisfied: joblib>=1.2.0 in /usr/local/lib/python3.10/dist-packages (from scikit-learn) (1.4.2)\n",
            "Requirement already satisfied: threadpoolctl>=3.1.0 in /usr/local/lib/python3.10/dist-packages (from scikit-learn) (3.5.0)\n",
            "Requirement already satisfied: six>=1.5 in /usr/local/lib/python3.10/dist-packages (from python-dateutil>=2.7->matplotlib) (1.17.0)\n"
          ]
        }
      ],
      "source": [
        "pip install matplotlib pandas scikit-learn"
      ]
    },
    {
      "cell_type": "markdown",
      "id": "325ac8a6-a5b3-4660-b033-092df2c8cf05",
      "metadata": {
        "id": "325ac8a6-a5b3-4660-b033-092df2c8cf05"
      },
      "source": [
        "Importing Libraries"
      ]
    },
    {
      "cell_type": "code",
      "execution_count": 4,
      "id": "3e5a9588-c9e5-4f4c-b837-df656f40133f",
      "metadata": {
        "id": "3e5a9588-c9e5-4f4c-b837-df656f40133f"
      },
      "outputs": [],
      "source": [
        "import torch\n",
        "import random\n",
        "import networkx as nx #visualize the graph\n",
        "import matplotlib.pyplot as plt"
      ]
    },
    {
      "cell_type": "markdown",
      "id": "319870a2-aa68-4f39-a0e1-d36fad7284e1",
      "metadata": {
        "id": "319870a2-aa68-4f39-a0e1-d36fad7284e1"
      },
      "source": [
        "Ref-doc-link-\n",
        "https://pytorch-geometric.readthedocs.io/en/latest/get_started/introduction.html#data-handling-of-graphs"
      ]
    },
    {
      "cell_type": "markdown",
      "id": "9795b1ff",
      "metadata": {
        "id": "9795b1ff"
      },
      "source": [
        "Showing a simple example of an unweighted and undirected graph with 3 nodes and 2 edges. Each node contains a single feature"
      ]
    },
    {
      "cell_type": "code",
      "execution_count": 5,
      "id": "29366675",
      "metadata": {
        "colab": {
          "base_uri": "https://localhost:8080/"
        },
        "id": "29366675",
        "outputId": "6b1e798c-29a1-4f31-a9e5-4e24bbbeae21"
      },
      "outputs": [
        {
          "output_type": "execute_result",
          "data": {
            "text/plain": [
              "Data(x=[3, 1], edge_index=[2, 4])"
            ]
          },
          "metadata": {},
          "execution_count": 5
        }
      ],
      "source": [
        "from torch_geometric.data import Data\n",
        "\n",
        "edge_index = torch.tensor([[0, 1, 1, 2],\n",
        "                           [1, 0, 2, 1]], dtype = torch.long)\n",
        "\n",
        "x = torch.tensor([[0], [1], [2]], dtype = torch.float)\n",
        "\n",
        "graph_data0 = Data(x = x, edge_index = edge_index)\n",
        "\n",
        "graph_data0"
      ]
    },
    {
      "cell_type": "markdown",
      "id": "dd6fd075-47f0-4b4c-aced-7cb55e14ead6",
      "metadata": {
        "id": "dd6fd075-47f0-4b4c-aced-7cb55e14ead6"
      },
      "source": [
        "Showing a simple example of an unweighted and undirected graph with 5 nodes and four edges. Each node contains 2 features"
      ]
    },
    {
      "cell_type": "code",
      "execution_count": 6,
      "id": "0761f96a",
      "metadata": {
        "colab": {
          "base_uri": "https://localhost:8080/"
        },
        "id": "0761f96a",
        "outputId": "92ee3fe2-379f-41ac-aa97-bfb5cc35f5db"
      },
      "outputs": [
        {
          "output_type": "execute_result",
          "data": {
            "text/plain": [
              "Data(x=[5, 2], edge_index=[2, 8])"
            ]
          },
          "metadata": {},
          "execution_count": 6
        }
      ],
      "source": [
        "edge_index = torch.tensor([[0, 1, 1, 2, 1, 3, 1, 4],\n",
        "                           [1, 0, 2, 1, 3, 1, 4, 1]], dtype = torch.long)\n",
        "\n",
        "x = torch.tensor([[1, 0], [0, 1], [-1, 2], [2, 0], [1, -1]], dtype = torch.float)\n",
        "\n",
        "graph_data1 = Data(x = x, edge_index = edge_index)\n",
        "\n",
        "graph_data1"
      ]
    },
    {
      "cell_type": "markdown",
      "id": "1ef774b5-32c4-4f4c-88f2-481e09ec0234",
      "metadata": {
        "id": "1ef774b5-32c4-4f4c-88f2-481e09ec0234"
      },
      "source": [
        "Note that edge_index, i.e. the tensor defining the source and target nodes of all edges, is not a list of index tuples. If we want to write your indices this way, we should transpose and call contiguous on it before passing them to the data constructor"
      ]
    },
    {
      "cell_type": "code",
      "execution_count": 7,
      "id": "9ef488f9-abb4-4deb-9508-ad10064eff90",
      "metadata": {
        "colab": {
          "base_uri": "https://localhost:8080/"
        },
        "id": "9ef488f9-abb4-4deb-9508-ad10064eff90",
        "outputId": "d29f079c-3cd1-4b67-ba0a-9050e14e5730"
      },
      "outputs": [
        {
          "output_type": "execute_result",
          "data": {
            "text/plain": [
              "Data(x=[5, 2], edge_index=[2, 8])"
            ]
          },
          "metadata": {},
          "execution_count": 7
        }
      ],
      "source": [
        "edge_index = torch.tensor([[0, 1],\n",
        "                           [1, 0],\n",
        "                           [1, 2],\n",
        "                           [2, 1],\n",
        "                           [1, 3],\n",
        "                           [3, 1],\n",
        "                           [1, 4],\n",
        "                           [4, 1]], dtype=torch.long)\n",
        "\n",
        "x = torch.tensor([[1, 0], [0, 1], [-1, 2], [2, 0], [1, -1]], dtype=torch.float)\n",
        "\n",
        "graph_data1 = Data(x = x, edge_index = edge_index.t().contiguous())\n",
        "\n",
        "graph_data1"
      ]
    },
    {
      "cell_type": "markdown",
      "id": "06e5b72a-8033-47ec-85a7-c2065e926454",
      "metadata": {
        "id": "06e5b72a-8033-47ec-85a7-c2065e926454"
      },
      "source": [
        "Converting the edge indices into pair wise tuples for plotting the graph"
      ]
    },
    {
      "cell_type": "code",
      "execution_count": 8,
      "id": "21cf88f8-d2e7-473c-8f2b-862d160bebe3",
      "metadata": {
        "colab": {
          "base_uri": "https://localhost:8080/"
        },
        "id": "21cf88f8-d2e7-473c-8f2b-862d160bebe3",
        "outputId": "566bd6b0-1aa5-43b0-cea6-cf8dc0edc207"
      },
      "outputs": [
        {
          "output_type": "execute_result",
          "data": {
            "text/plain": [
              "[(0, 1), (1, 0), (1, 2), (2, 1), (1, 3), (3, 1), (1, 4), (4, 1)]"
            ]
          },
          "metadata": {},
          "execution_count": 8
        }
      ],
      "source": [
        "edges = [(graph_data1.edge_index[0, i].item(), graph_data1.edge_index[1, i].item())\n",
        "             for i in range(graph_data1.edge_index.size(1))]\n",
        "\n",
        "edges"
      ]
    },
    {
      "cell_type": "markdown",
      "id": "c749bca9-68a7-44ec-a755-1e0e019f1c9e",
      "metadata": {
        "id": "c749bca9-68a7-44ec-a755-1e0e019f1c9e"
      },
      "source": [
        "Using networkx to plot graph with nodes and edges"
      ]
    },
    {
      "cell_type": "code",
      "execution_count": 9,
      "id": "090b71ca-bfd0-4d6e-8402-b4cf49265441",
      "metadata": {
        "colab": {
          "base_uri": "https://localhost:8080/",
          "height": 406
        },
        "id": "090b71ca-bfd0-4d6e-8402-b4cf49265441",
        "outputId": "f27bcf17-7d76-4da2-9542-7ab09cf0cfc5"
      },
      "outputs": [
        {
          "output_type": "display_data",
          "data": {
            "text/plain": [
              "<Figure size 640x480 with 1 Axes>"
            ],
            "image/png": "[encoded data removed]"
          },
          "metadata": {}
        }
      ],
      "source": [
        "# Creating an empty graph\n",
        "G = nx.Graph()\n",
        "\n",
        "# Adding nodes\n",
        "num_nodes = graph_data1.num_nodes\n",
        "G.add_nodes_from(range(num_nodes))\n",
        "\n",
        "# Adding edges\n",
        "G.add_edges_from(edges)\n",
        "\n",
        "# Positioning nodes using spring layout\n",
        "pos = nx.spring_layout(G)\n",
        "\n",
        "# Drawing graph\n",
        "nx.draw_networkx(G, pos, with_labels = True, font_weight = \"bold\")\n",
        "\n",
        "# Showing plot\n",
        "plt.show()"
      ]
    },
    {
      "cell_type": "markdown",
      "id": "e6f65da0-a2dc-49eb-b3e8-566c4494bb11",
      "metadata": {
        "id": "e6f65da0-a2dc-49eb-b3e8-566c4494bb11"
      },
      "source": [
        "Besides holding a number of node-level, edge-level or graph-level attributes, Data provides a number of useful utility functions, e.g.:"
      ]
    },
    {
      "cell_type": "code",
      "execution_count": 10,
      "id": "1d56ce5e-86aa-4c73-a4b2-2c3f6a24ae19",
      "metadata": {
        "colab": {
          "base_uri": "https://localhost:8080/"
        },
        "id": "1d56ce5e-86aa-4c73-a4b2-2c3f6a24ae19",
        "outputId": "8f09498e-9c0f-4a49-c6db-26673344199e"
      },
      "outputs": [
        {
          "output_type": "execute_result",
          "data": {
            "text/plain": [
              "['x', 'edge_index']"
            ]
          },
          "metadata": {},
          "execution_count": 10
        }
      ],
      "source": [
        "graph_data1.keys()"
      ]
    },
    {
      "cell_type": "code",
      "execution_count": 11,
      "id": "de46dbf6-a6b2-4605-80d1-c6f459225e35",
      "metadata": {
        "colab": {
          "base_uri": "https://localhost:8080/"
        },
        "id": "de46dbf6-a6b2-4605-80d1-c6f459225e35",
        "outputId": "840aaf0a-afe2-4033-ccbd-3640ddf8d6e6"
      },
      "outputs": [
        {
          "output_type": "execute_result",
          "data": {
            "text/plain": [
              "tensor([[ 1.,  0.],\n",
              "        [ 0.,  1.],\n",
              "        [-1.,  2.],\n",
              "        [ 2.,  0.],\n",
              "        [ 1., -1.]])"
            ]
          },
          "metadata": {},
          "execution_count": 11
        }
      ],
      "source": [
        "graph_data1['x']"
      ]
    },
    {
      "cell_type": "code",
      "execution_count": 12,
      "id": "9074487b-497e-4867-8a8d-8c73224e81ed",
      "metadata": {
        "colab": {
          "base_uri": "https://localhost:8080/"
        },
        "id": "9074487b-497e-4867-8a8d-8c73224e81ed",
        "outputId": "3d3d76a6-4963-4090-b852-eb6b09825f77"
      },
      "outputs": [
        {
          "output_type": "execute_result",
          "data": {
            "text/plain": [
              "tensor([[0, 1, 1, 2, 1, 3, 1, 4],\n",
              "        [1, 0, 2, 1, 3, 1, 4, 1]])"
            ]
          },
          "metadata": {},
          "execution_count": 12
        }
      ],
      "source": [
        "graph_data1[\"edge_index\"]"
      ]
    },
    {
      "cell_type": "code",
      "execution_count": 13,
      "id": "44ffda9f-f788-489a-bf71-687cd8c95a93",
      "metadata": {
        "colab": {
          "base_uri": "https://localhost:8080/"
        },
        "id": "44ffda9f-f788-489a-bf71-687cd8c95a93",
        "outputId": "a04cd6c8-3c3e-4881-8233-be1a4f6eb4d7"
      },
      "outputs": [
        {
          "output_type": "execute_result",
          "data": {
            "text/plain": [
              "5"
            ]
          },
          "metadata": {},
          "execution_count": 13
        }
      ],
      "source": [
        "graph_data1.num_nodes"
      ]
    },
    {
      "cell_type": "code",
      "execution_count": 14,
      "id": "5419fb4d-df3b-42ca-aaa3-4326fd4d0720",
      "metadata": {
        "colab": {
          "base_uri": "https://localhost:8080/"
        },
        "id": "5419fb4d-df3b-42ca-aaa3-4326fd4d0720",
        "outputId": "b4237290-e26a-4299-b905-6fcb16ba7947"
      },
      "outputs": [
        {
          "output_type": "execute_result",
          "data": {
            "text/plain": [
              "8"
            ]
          },
          "metadata": {},
          "execution_count": 14
        }
      ],
      "source": [
        "graph_data1.num_edges"
      ]
    },
    {
      "cell_type": "code",
      "execution_count": 15,
      "id": "9de6f2ff-8e7b-4036-920f-a87db8007138",
      "metadata": {
        "colab": {
          "base_uri": "https://localhost:8080/"
        },
        "id": "9de6f2ff-8e7b-4036-920f-a87db8007138",
        "outputId": "1deb0b45-81d2-46dd-fced-bdee8a6a0375"
      },
      "outputs": [
        {
          "output_type": "execute_result",
          "data": {
            "text/plain": [
              "2"
            ]
          },
          "metadata": {},
          "execution_count": 15
        }
      ],
      "source": [
        "graph_data1.num_node_features"
      ]
    },
    {
      "cell_type": "code",
      "execution_count": 16,
      "id": "d5358183-7c6b-466f-bb5a-0d0d5fc2ce5e",
      "metadata": {
        "colab": {
          "base_uri": "https://localhost:8080/"
        },
        "id": "d5358183-7c6b-466f-bb5a-0d0d5fc2ce5e",
        "outputId": "667b53d2-d29d-4e0a-b629-cae5c6bb5b89"
      },
      "outputs": [
        {
          "output_type": "execute_result",
          "data": {
            "text/plain": [
              "False"
            ]
          },
          "metadata": {},
          "execution_count": 16
        }
      ],
      "source": [
        "graph_data1.has_isolated_nodes()"
      ]
    },
    {
      "cell_type": "code",
      "execution_count": 17,
      "id": "0797f161-afaf-41b5-993d-4282c11824ff",
      "metadata": {
        "colab": {
          "base_uri": "https://localhost:8080/"
        },
        "id": "0797f161-afaf-41b5-993d-4282c11824ff",
        "outputId": "7e4c5961-6bb5-4021-e700-7fd8b743dbff"
      },
      "outputs": [
        {
          "output_type": "execute_result",
          "data": {
            "text/plain": [
              "False"
            ]
          },
          "metadata": {},
          "execution_count": 17
        }
      ],
      "source": [
        "graph_data1.has_self_loops()"
      ]
    },
    {
      "cell_type": "code",
      "execution_count": 18,
      "id": "57d65c1f-84b2-4fc6-8948-2e30e5fc4726",
      "metadata": {
        "colab": {
          "base_uri": "https://localhost:8080/"
        },
        "id": "57d65c1f-84b2-4fc6-8948-2e30e5fc4726",
        "outputId": "0d7c4298-c5f1-4bfe-ab71-0dab0c3bc1ea"
      },
      "outputs": [
        {
          "output_type": "execute_result",
          "data": {
            "text/plain": [
              "False"
            ]
          },
          "metadata": {},
          "execution_count": 18
        }
      ],
      "source": [
        "graph_data1.is_directed()"
      ]
    },
    {
      "cell_type": "code",
      "execution_count": 19,
      "id": "f8d77010-69f5-4ceb-8714-36a13b9a147b",
      "metadata": {
        "colab": {
          "base_uri": "https://localhost:8080/"
        },
        "id": "f8d77010-69f5-4ceb-8714-36a13b9a147b",
        "outputId": "09a20d7f-1f10-4c7f-de7c-c73eb16838dc"
      },
      "outputs": [
        {
          "output_type": "execute_result",
          "data": {
            "text/plain": [
              "tensor([[0, 1, 1, 2, 1, 3, 1, 4],\n",
              "        [1, 0, 2, 1, 3, 1, 4, 1]])"
            ]
          },
          "metadata": {},
          "execution_count": 19
        }
      ],
      "source": [
        "graph_data1.edge_index"
      ]
    },
    {
      "cell_type": "markdown",
      "id": "0cada420-cf04-421f-a940-889b1ff58cea",
      "metadata": {
        "id": "0cada420-cf04-421f-a940-889b1ff58cea"
      },
      "source": [
        "Creating adjacency matrix single dense batched adjacency matrix for the graph.\n",
        "https://pytorch-geometric.readthedocs.io/en/latest/modules/utils.html#torch_geometric.utils.to_dense_adj\n",
        "\n",
        "#### Convert edge index to dense adjacency matrix"
      ]
    },
    {
      "cell_type": "code",
      "execution_count": 20,
      "id": "1ff9cd2f-ca0b-4f24-87c3-bded8cf4832f",
      "metadata": {
        "colab": {
          "base_uri": "https://localhost:8080/"
        },
        "id": "1ff9cd2f-ca0b-4f24-87c3-bded8cf4832f",
        "outputId": "effab3ce-451a-4190-fe50-2699e7b06606"
      },
      "outputs": [
        {
          "output_type": "stream",
          "name": "stdout",
          "text": [
            "tensor([[[0., 1., 0., 0., 0.],\n",
            "         [1., 0., 1., 1., 1.],\n",
            "         [0., 1., 0., 0., 0.],\n",
            "         [0., 1., 0., 0., 0.],\n",
            "         [0., 1., 0., 0., 0.]]])\n"
          ]
        }
      ],
      "source": [
        "from torch_geometric.utils import to_dense_adj\n",
        "\n",
        "adjacency_matrix = to_dense_adj(graph_data1.edge_index)\n",
        "\n",
        "print(adjacency_matrix)"
      ]
    },
    {
      "cell_type": "markdown",
      "id": "c129edad-7e9c-4da9-be2b-41a4aa09edd3",
      "metadata": {
        "id": "c129edad-7e9c-4da9-be2b-41a4aa09edd3"
      },
      "source": [
        "Now we are creating a simple graph with isolated nodes and also having self loop"
      ]
    },
    {
      "cell_type": "code",
      "execution_count": 21,
      "id": "9636e623-ad0f-4149-80d5-04f0eb8c52f4",
      "metadata": {
        "colab": {
          "base_uri": "https://localhost:8080/"
        },
        "id": "9636e623-ad0f-4149-80d5-04f0eb8c52f4",
        "outputId": "bacb3af4-97aa-40be-9299-ebf256b95d98"
      },
      "outputs": [
        {
          "output_type": "execute_result",
          "data": {
            "text/plain": [
              "Data(x=[6, 2], edge_index=[2, 6])"
            ]
          },
          "metadata": {},
          "execution_count": 21
        }
      ],
      "source": [
        "edge_index = torch.tensor([[0, 1],\n",
        "                           [1, 0],\n",
        "                           [1, 2],\n",
        "                           [2, 1],\n",
        "                           [3, 4],\n",
        "                           [5, 5]], dtype = torch.long)\n",
        "\n",
        "x = torch.tensor([[1, 0], [0, 1], [-1, 2], [2, 0], [1, -1], [2, -2]], dtype = torch.float)\n",
        "\n",
        "graph_data2 = Data(x = x, edge_index = edge_index.t().contiguous())\n",
        "\n",
        "graph_data2"
      ]
    },
    {
      "cell_type": "markdown",
      "id": "77dcda9c-63ce-4f42-8c13-9b2634e8bbb1",
      "metadata": {
        "id": "77dcda9c-63ce-4f42-8c13-9b2634e8bbb1"
      },
      "source": [
        "Plotting the Graph"
      ]
    },
    {
      "cell_type": "code",
      "execution_count": 23,
      "id": "5bfff6e1-cbe1-4bff-8810-00e429e35c25",
      "metadata": {
        "colab": {
          "base_uri": "https://localhost:8080/",
          "height": 406
        },
        "id": "5bfff6e1-cbe1-4bff-8810-00e429e35c25",
        "outputId": "b76df288-7f1e-4ecd-bc80-7b739462daaf"
      },
      "outputs": [
        {
          "output_type": "display_data",
          "data": {
            "text/plain": [
              "<Figure size 640x480 with 1 Axes>"
            ],
            "image/png": "[encoded data removed]"
          },
          "metadata": {}
        }
      ],
      "source": [
        "# Creating an empty graph\n",
        "G = nx.DiGraph()\n",
        "\n",
        "# Addding nodes\n",
        "num_nodes = graph_data2.num_nodes\n",
        "G.add_nodes_from(range(num_nodes))\n",
        "\n",
        "# Adding edges\n",
        "edges = [(graph_data2.edge_index[0, i].item(), graph_data2.edge_index[1, i].item())\n",
        "             for i in range(graph_data2.edge_index.size(1))]\n",
        "G.add_edges_from(edges)\n",
        "\n",
        "# Positioning nodes using spring layout\n",
        "pos = nx.spring_layout(G)\n",
        "\n",
        "# Drawing graph\n",
        "nx.draw_networkx(G, pos, with_labels = True, font_weight = \"bold\")\n",
        "\n",
        "# Showing plot\n",
        "plt.show()"
      ]
    },
    {
      "cell_type": "code",
      "execution_count": 24,
      "id": "8fe3b718-223b-40b4-bedd-79a0efbcc0ee",
      "metadata": {
        "colab": {
          "base_uri": "https://localhost:8080/"
        },
        "id": "8fe3b718-223b-40b4-bedd-79a0efbcc0ee",
        "outputId": "e3f2d5de-7d10-434e-b92e-76774cb2b307"
      },
      "outputs": [
        {
          "output_type": "execute_result",
          "data": {
            "text/plain": [
              "6"
            ]
          },
          "metadata": {},
          "execution_count": 24
        }
      ],
      "source": [
        "graph_data2.num_nodes"
      ]
    },
    {
      "cell_type": "code",
      "execution_count": 25,
      "id": "1c26d4fe-2deb-42ec-a540-569d28de685a",
      "metadata": {
        "colab": {
          "base_uri": "https://localhost:8080/"
        },
        "id": "1c26d4fe-2deb-42ec-a540-569d28de685a",
        "outputId": "67524183-e17a-46ae-b52d-a7e6878d8f24"
      },
      "outputs": [
        {
          "output_type": "execute_result",
          "data": {
            "text/plain": [
              "6"
            ]
          },
          "metadata": {},
          "execution_count": 25
        }
      ],
      "source": [
        "graph_data2.num_edges"
      ]
    },
    {
      "cell_type": "code",
      "execution_count": 26,
      "id": "f27e01f6-58e5-4179-86db-1cf5440e743a",
      "metadata": {
        "colab": {
          "base_uri": "https://localhost:8080/"
        },
        "id": "f27e01f6-58e5-4179-86db-1cf5440e743a",
        "outputId": "71e879df-bd6f-4e4a-a971-ad6a70fa3e6b"
      },
      "outputs": [
        {
          "output_type": "execute_result",
          "data": {
            "text/plain": [
              "2"
            ]
          },
          "metadata": {},
          "execution_count": 26
        }
      ],
      "source": [
        "graph_data2.num_node_features"
      ]
    },
    {
      "cell_type": "markdown",
      "id": "48fb6a0b-1253-4b20-b998-bf7f496e9ee5",
      "metadata": {
        "id": "48fb6a0b-1253-4b20-b998-bf7f496e9ee5"
      },
      "source": [
        "Verifying presence of isolated nodes"
      ]
    },
    {
      "cell_type": "code",
      "execution_count": 27,
      "id": "70d76822-fbb8-4003-b5e8-8b4a2992075f",
      "metadata": {
        "colab": {
          "base_uri": "https://localhost:8080/"
        },
        "id": "70d76822-fbb8-4003-b5e8-8b4a2992075f",
        "outputId": "597df7bd-7fee-449a-b2b0-571b0f816f51"
      },
      "outputs": [
        {
          "output_type": "execute_result",
          "data": {
            "text/plain": [
              "True"
            ]
          },
          "metadata": {},
          "execution_count": 27
        }
      ],
      "source": [
        "graph_data2.has_isolated_nodes()"
      ]
    },
    {
      "cell_type": "markdown",
      "id": "61411d15-407e-4126-8078-0b76ecd7e64a",
      "metadata": {
        "id": "61411d15-407e-4126-8078-0b76ecd7e64a"
      },
      "source": [
        "Verifying presence of self loops"
      ]
    },
    {
      "cell_type": "code",
      "execution_count": 28,
      "id": "1c3cd9d7-cda4-42b1-8908-d1e9751082b6",
      "metadata": {
        "colab": {
          "base_uri": "https://localhost:8080/"
        },
        "id": "1c3cd9d7-cda4-42b1-8908-d1e9751082b6",
        "outputId": "a487e6cd-0e15-46d7-83d9-5f0db3869af1"
      },
      "outputs": [
        {
          "output_type": "execute_result",
          "data": {
            "text/plain": [
              "True"
            ]
          },
          "metadata": {},
          "execution_count": 28
        }
      ],
      "source": [
        "graph_data2.has_self_loops()"
      ]
    },
    {
      "cell_type": "markdown",
      "id": "324f272a-e4e5-48a0-8ee7-2e4219df327e",
      "metadata": {
        "id": "324f272a-e4e5-48a0-8ee7-2e4219df327e"
      },
      "source": [
        "Also the graph is directed (3 to 4)"
      ]
    },
    {
      "cell_type": "code",
      "execution_count": 29,
      "id": "205a732d-8fa7-4caa-ae36-1badb2873506",
      "metadata": {
        "colab": {
          "base_uri": "https://localhost:8080/"
        },
        "id": "205a732d-8fa7-4caa-ae36-1badb2873506",
        "outputId": "cc70b955-4161-49a5-a27b-7a97bca17790"
      },
      "outputs": [
        {
          "output_type": "execute_result",
          "data": {
            "text/plain": [
              "True"
            ]
          },
          "metadata": {},
          "execution_count": 29
        }
      ],
      "source": [
        "graph_data2.is_directed()"
      ]
    },
    {
      "cell_type": "markdown",
      "id": "0f880fa0-1d37-401f-952b-9c12af1717ec",
      "metadata": {
        "id": "0f880fa0-1d37-401f-952b-9c12af1717ec"
      },
      "source": [
        "Downloading bench mark datasets from torch geometric. Ref-doc-link-\n",
        "https://pytorch-geometric.readthedocs.io/en/latest/get_started/introduction.html#common-benchmark-datasets\n",
        "\n",
        "https://graphsandnetworks.com/the-cora-dataset/\n",
        "\n",
        "The Cora dataset consists of 2708 scientific publications classified into one of seven classes. The citation network consists of 5429 links. Each publication in the dataset is described by a 0/1-valued word vector indicating the absence/presence of the corresponding word from the dictionary. The dictionary consists of 1433 unique words."
      ]
    },
    {
      "cell_type": "code",
      "execution_count": 30,
      "id": "e6f7c6f9-c3a2-4bea-843a-8bb21c7a6d9a",
      "metadata": {
        "colab": {
          "base_uri": "https://localhost:8080/"
        },
        "id": "e6f7c6f9-c3a2-4bea-843a-8bb21c7a6d9a",
        "outputId": "bd086ed9-3831-435d-c2d9-5e80a1bc4e95"
      },
      "outputs": [
        {
          "output_type": "stream",
          "name": "stderr",
          "text": [
            "Downloading https://github.com/kimiyoung/planetoid/raw/master/data/ind.cora.x\n",
            "Downloading https://github.com/kimiyoung/planetoid/raw/master/data/ind.cora.tx\n",
            "Downloading https://github.com/kimiyoung/planetoid/raw/master/data/ind.cora.allx\n",
            "Downloading https://github.com/kimiyoung/planetoid/raw/master/data/ind.cora.y\n",
            "Downloading https://github.com/kimiyoung/planetoid/raw/master/data/ind.cora.ty\n",
            "Downloading https://github.com/kimiyoung/planetoid/raw/master/data/ind.cora.ally\n",
            "Downloading https://github.com/kimiyoung/planetoid/raw/master/data/ind.cora.graph\n",
            "Downloading https://github.com/kimiyoung/planetoid/raw/master/data/ind.cora.test.index\n",
            "Processing...\n",
            "Done!\n"
          ]
        },
        {
          "output_type": "execute_result",
          "data": {
            "text/plain": [
              "Cora()"
            ]
          },
          "metadata": {},
          "execution_count": 30
        }
      ],
      "source": [
        "from torch_geometric.datasets import Planetoid\n",
        "\n",
        "cora_dataset = Planetoid(root = \"Cora_data\", name = \"Cora\")\n",
        "\n",
        "cora_dataset"
      ]
    },
    {
      "cell_type": "code",
      "execution_count": 31,
      "id": "ece9fbaf",
      "metadata": {
        "colab": {
          "base_uri": "https://localhost:8080/"
        },
        "id": "ece9fbaf",
        "outputId": "1a2a4c73-25a4-474d-a875-c2a68c7bcbd4"
      },
      "outputs": [
        {
          "output_type": "execute_result",
          "data": {
            "text/plain": [
              "1"
            ]
          },
          "metadata": {},
          "execution_count": 31
        }
      ],
      "source": [
        "len(cora_dataset)"
      ]
    },
    {
      "cell_type": "code",
      "execution_count": 32,
      "id": "07e3214f-b39b-4556-b437-ba5577c8b185",
      "metadata": {
        "colab": {
          "base_uri": "https://localhost:8080/",
          "height": 36
        },
        "id": "07e3214f-b39b-4556-b437-ba5577c8b185",
        "outputId": "c40d78a4-f326-469e-c000-2451b425fce4"
      },
      "outputs": [
        {
          "output_type": "execute_result",
          "data": {
            "text/plain": [
              "'https://github.com/kimiyoung/planetoid/raw/master/data'"
            ],
            "application/vnd.google.colaboratory.intrinsic+json": {
              "type": "string"
            }
          },
          "metadata": {},
          "execution_count": 32
        }
      ],
      "source": [
        "cora_dataset.url"
      ]
    },
    {
      "cell_type": "markdown",
      "id": "c33b2352-687c-4db8-8745-3201b7175dd7",
      "metadata": {
        "id": "c33b2352-687c-4db8-8745-3201b7175dd7"
      },
      "source": [
        "Seven classes of nodes - {'Case_Based',\n",
        " 'Genetic_Algorithms',\n",
        " 'Neural_Networks',\n",
        " 'Probabilistic_Methods',\n",
        " 'Reinforcement_Learning',\n",
        " 'Rule_Learning',\n",
        " 'Theory'}"
      ]
    },
    {
      "cell_type": "code",
      "execution_count": 33,
      "id": "582b48dd",
      "metadata": {
        "colab": {
          "base_uri": "https://localhost:8080/"
        },
        "id": "582b48dd",
        "outputId": "0df5f614-f9c9-414b-d599-86d5354a72ee"
      },
      "outputs": [
        {
          "output_type": "execute_result",
          "data": {
            "text/plain": [
              "7"
            ]
          },
          "metadata": {},
          "execution_count": 33
        }
      ],
      "source": [
        "cora_dataset.num_classes"
      ]
    },
    {
      "cell_type": "code",
      "execution_count": 34,
      "id": "e48f47c0",
      "metadata": {
        "colab": {
          "base_uri": "https://localhost:8080/"
        },
        "id": "e48f47c0",
        "outputId": "77a009d4-8165-4110-c5cf-3d0b87358bd1"
      },
      "outputs": [
        {
          "output_type": "execute_result",
          "data": {
            "text/plain": [
              "1433"
            ]
          },
          "metadata": {},
          "execution_count": 34
        }
      ],
      "source": [
        "cora_dataset.num_features"
      ]
    },
    {
      "cell_type": "code",
      "execution_count": 35,
      "id": "e9fc8c88-1943-4895-9adf-26743bab34df",
      "metadata": {
        "colab": {
          "base_uri": "https://localhost:8080/"
        },
        "id": "e9fc8c88-1943-4895-9adf-26743bab34df",
        "outputId": "79ac8888-d43e-4232-be3b-786a036fdf60"
      },
      "outputs": [
        {
          "output_type": "execute_result",
          "data": {
            "text/plain": [
              "Data(x=[2708, 1433], edge_index=[2, 10556], y=[2708], train_mask=[2708], val_mask=[2708], test_mask=[2708])"
            ]
          },
          "metadata": {},
          "execution_count": 35
        }
      ],
      "source": [
        "cora_graph = cora_dataset[0]\n",
        "\n",
        "cora_graph"
      ]
    },
    {
      "cell_type": "code",
      "execution_count": 36,
      "id": "b1e62433-0bab-4a4e-98e4-3a0c2f39608d",
      "metadata": {
        "colab": {
          "base_uri": "https://localhost:8080/"
        },
        "id": "b1e62433-0bab-4a4e-98e4-3a0c2f39608d",
        "outputId": "da0cf77f-11de-484e-932d-a27760f02931"
      },
      "outputs": [
        {
          "output_type": "execute_result",
          "data": {
            "text/plain": [
              "tensor([[0., 0., 0.,  ..., 0., 0., 0.],\n",
              "        [0., 0., 0.,  ..., 0., 0., 0.],\n",
              "        [0., 0., 0.,  ..., 0., 0., 0.],\n",
              "        ...,\n",
              "        [0., 0., 0.,  ..., 0., 0., 0.],\n",
              "        [0., 0., 0.,  ..., 0., 0., 0.],\n",
              "        [0., 0., 0.,  ..., 0., 0., 0.]])"
            ]
          },
          "metadata": {},
          "execution_count": 36
        }
      ],
      "source": [
        "cora_graph.x"
      ]
    },
    {
      "cell_type": "code",
      "execution_count": 38,
      "id": "3798105d-2f22-4c1d-b55d-e8eab22eb06f",
      "metadata": {
        "colab": {
          "base_uri": "https://localhost:8080/"
        },
        "id": "3798105d-2f22-4c1d-b55d-e8eab22eb06f",
        "outputId": "786d85a0-f612-43ec-acc5-56030f948166"
      },
      "outputs": [
        {
          "output_type": "execute_result",
          "data": {
            "text/plain": [
              "tensor([[ 633, 1862, 2582,  ...,  598, 1473, 2706],\n",
              "        [   0,    0,    0,  ..., 2707, 2707, 2707]])"
            ]
          },
          "metadata": {},
          "execution_count": 38
        }
      ],
      "source": [
        "cora_graph.edge_index"
      ]
    },
    {
      "cell_type": "code",
      "execution_count": 39,
      "id": "522b6585-eacb-4c0b-b314-6684f24ddb45",
      "metadata": {
        "colab": {
          "base_uri": "https://localhost:8080/"
        },
        "id": "522b6585-eacb-4c0b-b314-6684f24ddb45",
        "outputId": "a2e5b138-bdb5-4ba7-af76-da32be3fe9bd"
      },
      "outputs": [
        {
          "output_type": "execute_result",
          "data": {
            "text/plain": [
              "torch.Size([2, 10556])"
            ]
          },
          "metadata": {},
          "execution_count": 39
        }
      ],
      "source": [
        "cora_graph.edge_index.shape"
      ]
    },
    {
      "cell_type": "code",
      "execution_count": 40,
      "id": "318c3f43-4eaa-4f5c-b417-dcfc7b409cd1",
      "metadata": {
        "colab": {
          "base_uri": "https://localhost:8080/"
        },
        "id": "318c3f43-4eaa-4f5c-b417-dcfc7b409cd1",
        "outputId": "9f0ab339-4579-4ddf-c70b-1acc6b74569c"
      },
      "outputs": [
        {
          "output_type": "execute_result",
          "data": {
            "text/plain": [
              "tensor([3, 4, 4,  ..., 3, 3, 3])"
            ]
          },
          "metadata": {},
          "execution_count": 40
        }
      ],
      "source": [
        "cora_graph.y"
      ]
    },
    {
      "cell_type": "markdown",
      "id": "dd4caa51-1d23-4e62-8543-52ceb5a1a91e",
      "metadata": {
        "id": "dd4caa51-1d23-4e62-8543-52ceb5a1a91e"
      },
      "source": [
        "This time, the Data objects holds a label for each node, and additional node-level attributes: train_mask, val_mask and test_mask, where\n",
        "\n",
        "train_mask denotes against which nodes to train (140 nodes),\n",
        "\n",
        "val_mask denotes which nodes to use for validation, e.g., to perform early stopping (500 nodes),\n",
        "\n",
        "test_mask denotes against which nodes to test (1000 nodes)."
      ]
    },
    {
      "cell_type": "code",
      "execution_count": 41,
      "id": "dfe60864-5780-47a0-b1fd-11d57ac19599",
      "metadata": {
        "colab": {
          "base_uri": "https://localhost:8080/"
        },
        "id": "dfe60864-5780-47a0-b1fd-11d57ac19599",
        "outputId": "a776fa8e-59b9-45c3-90a6-84f710295eff"
      },
      "outputs": [
        {
          "output_type": "execute_result",
          "data": {
            "text/plain": [
              "(140, 500, 1000)"
            ]
          },
          "metadata": {},
          "execution_count": 41
        }
      ],
      "source": [
        "cora_graph.train_mask.sum().item(), cora_graph.val_mask.sum().item(), cora_graph.test_mask.sum().item()"
      ]
    },
    {
      "cell_type": "code",
      "execution_count": 42,
      "id": "ce01faf2-a4b8-47b3-afc2-ec8947042b1b",
      "metadata": {
        "colab": {
          "base_uri": "https://localhost:8080/",
          "height": 807
        },
        "id": "ce01faf2-a4b8-47b3-afc2-ec8947042b1b",
        "outputId": "06c9780f-b4ab-471a-b191-f412a927e74f"
      },
      "outputs": [
        {
          "output_type": "display_data",
          "data": {
            "text/plain": [
              "<Figure size 1200x1000 with 1 Axes>"
            ],
            "image/png": "[encoded data removed]"
          },
          "metadata": {}
        }
      ],
      "source": [
        "from torch_geometric.utils import to_networkx\n",
        "\n",
        "# Define label names and colors\n",
        "label_dict = {\n",
        "    0: \"Theory\",\n",
        "    1: \"Reinforcement_Learning\",\n",
        "    2: \"Genetic_Algorithms\",\n",
        "    3: \"Neural_Networks\",\n",
        "    4: \"Probabilistic_Methods\",\n",
        "    5: \"Case_Based\",\n",
        "    6: \"Rule_Learning\"\n",
        "}\n",
        "\n",
        "colorlist = ['#1f77b4', '#ff7f0e', '#2ca02c', '#d62728', '#9467bd', '#8c564b', '#e377c2']\n",
        "\n",
        "# Convert PyG graph to NetworkX graph\n",
        "G = to_networkx(cora_graph, to_undirected = False)\n",
        "\n",
        "# Prepare node colors and legends\n",
        "node_color = [colorlist[int(label)] for label in cora_graph.y]\n",
        "labellist = [label_dict[int(label)] for label in cora_graph.y]\n",
        "\n",
        "# Plot the graph\n",
        "pos = nx.spring_layout(G, seed = 123)\n",
        "plt.figure(figsize = (12, 10))\n",
        "nx.draw_networkx_nodes(G, pos, node_size = 5, node_color = node_color)\n",
        "nx.draw_networkx_edges(G, pos, width = 0.25)\n",
        "\n",
        "# Add legends\n",
        "for label, color in zip(label_dict.values(), colorlist):\n",
        "    plt.scatter([], [], c = color, label = label)\n",
        "\n",
        "plt.legend(bbox_to_anchor = (1, 1), loc = \"upper left\")\n",
        "\n",
        "plt.show()\n"
      ]
    },
    {
      "cell_type": "markdown",
      "id": "7466c65b-079b-43bb-aa5f-9adda41bdffb",
      "metadata": {
        "id": "7466c65b-079b-43bb-aa5f-9adda41bdffb"
      },
      "source": [
        "Now we are loading another dataset from TUD.\n",
        "https://chrsmrrs.github.io/datasets/docs/datasets/\n",
        "PROTEINS is a dataset of proteins that are classified as enzymes or non-enzymes. Nodes represent the amino acids and two nodes are connected by an edge if they are less than 6 Angstroms apart."
      ]
    },
    {
      "cell_type": "code",
      "execution_count": 43,
      "id": "612eb77a-d781-4234-ad38-b4f17fb3f116",
      "metadata": {
        "colab": {
          "base_uri": "https://localhost:8080/"
        },
        "id": "612eb77a-d781-4234-ad38-b4f17fb3f116",
        "outputId": "00e49cc9-356e-4bb2-d9e8-0dc57d2b2142"
      },
      "outputs": [
        {
          "output_type": "stream",
          "name": "stderr",
          "text": [
            "Downloading https://www.chrsmrrs.com/graphkerneldatasets/PROTEINS_full.zip\n",
            "Processing...\n",
            "Done!\n"
          ]
        },
        {
          "output_type": "execute_result",
          "data": {
            "text/plain": [
              "PROTEINS_full(1113)"
            ]
          },
          "metadata": {},
          "execution_count": 43
        }
      ],
      "source": [
        "from torch_geometric.datasets import TUDataset\n",
        "\n",
        "proteins_dataset = TUDataset(root = \"Proteins\", name = \"PROTEINS_full\")\n",
        "\n",
        "proteins_dataset"
      ]
    },
    {
      "cell_type": "markdown",
      "id": "ec85c203-8267-498d-b226-932ea9c2f1ea",
      "metadata": {
        "id": "ec85c203-8267-498d-b226-932ea9c2f1ea"
      },
      "source": [
        "1113 graphs are there within 2 classes(Enzymes or Non-Enzymes)"
      ]
    },
    {
      "cell_type": "code",
      "execution_count": 44,
      "id": "54e105cb-f00a-4ec1-bb1f-455f764cecb6",
      "metadata": {
        "colab": {
          "base_uri": "https://localhost:8080/"
        },
        "id": "54e105cb-f00a-4ec1-bb1f-455f764cecb6",
        "outputId": "4a29a9ed-0635-4379-b369-122af8fd0da2"
      },
      "outputs": [
        {
          "output_type": "execute_result",
          "data": {
            "text/plain": [
              "1113"
            ]
          },
          "metadata": {},
          "execution_count": 44
        }
      ],
      "source": [
        "len(proteins_dataset)"
      ]
    },
    {
      "cell_type": "code",
      "execution_count": 45,
      "id": "9dde1095-b8fe-48c9-b23c-ca81d542296d",
      "metadata": {
        "colab": {
          "base_uri": "https://localhost:8080/"
        },
        "id": "9dde1095-b8fe-48c9-b23c-ca81d542296d",
        "outputId": "a49035f9-821d-4379-d0c1-64fb71ea693a"
      },
      "outputs": [
        {
          "output_type": "execute_result",
          "data": {
            "text/plain": [
              "2"
            ]
          },
          "metadata": {},
          "execution_count": 45
        }
      ],
      "source": [
        "proteins_dataset.num_classes"
      ]
    },
    {
      "cell_type": "code",
      "execution_count": 46,
      "id": "6ae14fa4-44ef-417d-ae6a-9ced979ef10b",
      "metadata": {
        "colab": {
          "base_uri": "https://localhost:8080/"
        },
        "id": "6ae14fa4-44ef-417d-ae6a-9ced979ef10b",
        "outputId": "17cd9471-7218-417a-bf70-fa5cbb04742e"
      },
      "outputs": [
        {
          "output_type": "execute_result",
          "data": {
            "text/plain": [
              "3"
            ]
          },
          "metadata": {},
          "execution_count": 46
        }
      ],
      "source": [
        "proteins_dataset.num_node_features"
      ]
    },
    {
      "cell_type": "code",
      "execution_count": 47,
      "id": "5ca6b3b8-8722-4b0b-830a-8ba9eb124a8b",
      "metadata": {
        "colab": {
          "base_uri": "https://localhost:8080/"
        },
        "id": "5ca6b3b8-8722-4b0b-830a-8ba9eb124a8b",
        "outputId": "0e990616-03d1-48d1-8015-30fce7575e33"
      },
      "outputs": [
        {
          "output_type": "execute_result",
          "data": {
            "text/plain": [
              "Data(edge_index=[2, 162], x=[42, 3], y=[1])"
            ]
          },
          "metadata": {},
          "execution_count": 47
        }
      ],
      "source": [
        "graph_protein = proteins_dataset[0]\n",
        "\n",
        "graph_protein"
      ]
    },
    {
      "cell_type": "code",
      "execution_count": 48,
      "id": "bc1c9c4d-ee82-47a5-ae97-fa451c68fb46",
      "metadata": {
        "colab": {
          "base_uri": "https://localhost:8080/"
        },
        "id": "bc1c9c4d-ee82-47a5-ae97-fa451c68fb46",
        "outputId": "21093382-b1a1-4462-b662-2791071287da"
      },
      "outputs": [
        {
          "output_type": "execute_result",
          "data": {
            "text/plain": [
              "True"
            ]
          },
          "metadata": {},
          "execution_count": 48
        }
      ],
      "source": [
        "graph_protein.is_undirected()"
      ]
    },
    {
      "cell_type": "markdown",
      "id": "4f50eab7-33e0-4fd1-9142-4565a8eafd66",
      "metadata": {
        "id": "4f50eab7-33e0-4fd1-9142-4565a8eafd66"
      },
      "source": [
        "Neural networks are usually trained in a batch-wise fashion. PyG achieves parallelization over a mini-batch by creating sparse block diagonal adjacency matrices (defined by edge_index) and concatenating feature and target matrices in the node dimension. This composition allows differing number of nodes and edges over examples in one batch.\n",
        "\n",
        "Ref-doc-link-https://pytorch-geometric.readthedocs.io/en/latest/get_started/introduction.html#mini-batches"
      ]
    },
    {
      "cell_type": "code",
      "execution_count": 49,
      "id": "c9b5d0fa-8a2c-46cc-9f9e-e3a90d0920e4",
      "metadata": {
        "colab": {
          "base_uri": "https://localhost:8080/"
        },
        "id": "c9b5d0fa-8a2c-46cc-9f9e-e3a90d0920e4",
        "outputId": "e876012b-6da2-43a4-a467-e1379f2fd369"
      },
      "outputs": [
        {
          "output_type": "stream",
          "name": "stdout",
          "text": [
            "DataBatch(edge_index=[2, 4488], x=[1143, 3], y=[32], batch=[1143], ptr=[33])\n",
            "DataBatch(edge_index=[2, 4300], x=[1145, 3], y=[32], batch=[1145], ptr=[33])\n",
            "DataBatch(edge_index=[2, 6710], x=[1864, 3], y=[32], batch=[1864], ptr=[33])\n",
            "DataBatch(edge_index=[2, 3124], x=[826, 3], y=[32], batch=[826], ptr=[33])\n",
            "DataBatch(edge_index=[2, 4166], x=[1106, 3], y=[32], batch=[1106], ptr=[33])\n",
            "DataBatch(edge_index=[2, 4516], x=[1242, 3], y=[32], batch=[1242], ptr=[33])\n",
            "DataBatch(edge_index=[2, 4618], x=[1177, 3], y=[32], batch=[1177], ptr=[33])\n",
            "DataBatch(edge_index=[2, 3496], x=[923, 3], y=[32], batch=[923], ptr=[33])\n",
            "DataBatch(edge_index=[2, 4492], x=[1163, 3], y=[32], batch=[1163], ptr=[33])\n",
            "DataBatch(edge_index=[2, 4622], x=[1271, 3], y=[32], batch=[1271], ptr=[33])\n",
            "DataBatch(edge_index=[2, 5434], x=[1540, 3], y=[32], batch=[1540], ptr=[33])\n",
            "DataBatch(edge_index=[2, 4328], x=[1150, 3], y=[32], batch=[1150], ptr=[33])\n",
            "DataBatch(edge_index=[2, 4248], x=[1151, 3], y=[32], batch=[1151], ptr=[33])\n",
            "DataBatch(edge_index=[2, 3928], x=[1119, 3], y=[32], batch=[1119], ptr=[33])\n",
            "DataBatch(edge_index=[2, 4428], x=[1150, 3], y=[32], batch=[1150], ptr=[33])\n",
            "DataBatch(edge_index=[2, 5006], x=[1397, 3], y=[32], batch=[1397], ptr=[33])\n",
            "DataBatch(edge_index=[2, 2972], x=[803, 3], y=[32], batch=[803], ptr=[33])\n",
            "DataBatch(edge_index=[2, 3922], x=[1044, 3], y=[32], batch=[1044], ptr=[33])\n",
            "DataBatch(edge_index=[2, 7514], x=[1974, 3], y=[32], batch=[1974], ptr=[33])\n",
            "DataBatch(edge_index=[2, 8234], x=[2219, 3], y=[32], batch=[2219], ptr=[33])\n",
            "DataBatch(edge_index=[2, 4654], x=[1244, 3], y=[32], batch=[1244], ptr=[33])\n",
            "DataBatch(edge_index=[2, 4774], x=[1335, 3], y=[32], batch=[1335], ptr=[33])\n",
            "DataBatch(edge_index=[2, 3428], x=[919, 3], y=[32], batch=[919], ptr=[33])\n",
            "DataBatch(edge_index=[2, 3708], x=[1018, 3], y=[32], batch=[1018], ptr=[33])\n",
            "DataBatch(edge_index=[2, 5066], x=[1358, 3], y=[32], batch=[1358], ptr=[33])\n",
            "DataBatch(edge_index=[2, 3938], x=[1047, 3], y=[32], batch=[1047], ptr=[33])\n",
            "DataBatch(edge_index=[2, 4690], x=[1256, 3], y=[32], batch=[1256], ptr=[33])\n",
            "DataBatch(edge_index=[2, 4688], x=[1273, 3], y=[32], batch=[1273], ptr=[33])\n",
            "DataBatch(edge_index=[2, 5386], x=[1374, 3], y=[32], batch=[1374], ptr=[33])\n",
            "DataBatch(edge_index=[2, 5702], x=[1467, 3], y=[32], batch=[1467], ptr=[33])\n",
            "DataBatch(edge_index=[2, 5080], x=[1334, 3], y=[32], batch=[1334], ptr=[33])\n",
            "DataBatch(edge_index=[2, 4634], x=[1282, 3], y=[32], batch=[1282], ptr=[33])\n",
            "DataBatch(edge_index=[2, 4390], x=[1163, 3], y=[32], batch=[1163], ptr=[33])\n",
            "DataBatch(edge_index=[2, 4246], x=[1120, 3], y=[32], batch=[1120], ptr=[33])\n",
            "DataBatch(edge_index=[2, 3158], x=[874, 3], y=[25], batch=[874], ptr=[26])\n"
          ]
        }
      ],
      "source": [
        "from torch_geometric.loader import DataLoader\n",
        "\n",
        "protein_loader = DataLoader(proteins_dataset, batch_size = 32, shuffle = True)\n",
        "\n",
        "for batch in protein_loader:\n",
        "    print(batch)"
      ]
    },
    {
      "cell_type": "code",
      "execution_count": 50,
      "id": "03ba7e45-ca38-4fb3-8bfc-058cdc3b1705",
      "metadata": {
        "colab": {
          "base_uri": "https://localhost:8080/"
        },
        "id": "03ba7e45-ca38-4fb3-8bfc-058cdc3b1705",
        "outputId": "f902b4fb-741f-4cb5-d62f-887cc3dfd06a"
      },
      "outputs": [
        {
          "output_type": "execute_result",
          "data": {
            "text/plain": [
              "DataBatch(edge_index=[2, 3956], x=[1069, 3], y=[32], batch=[1069], ptr=[33])"
            ]
          },
          "metadata": {},
          "execution_count": 50
        }
      ],
      "source": [
        "batch_proteins_data = next(iter(protein_loader))\n",
        "\n",
        "batch_proteins_data"
      ]
    },
    {
      "cell_type": "markdown",
      "id": "4807b72a-0066-4730-9493-dbfb72975499",
      "metadata": {
        "id": "4807b72a-0066-4730-9493-dbfb72975499"
      },
      "source": [
        "Heterogenous graphs -\n",
        "https://pytorch-geometric.readthedocs.io/en/latest/notes/heterogeneous.html...Creating a fake social network graph.\n",
        "We define node features for two types of nodes: 'user' and 'post'.\n",
        "\n",
        "We define edge indices for two types of relationships: 'follows' (between users), 'liked_by' (from posts to users), and 'posted_by' (from posts to users).\n",
        "\n",
        "We create a HeteroData object and add node features and edge indices for each node and edge type using the appropriate keys."
      ]
    },
    {
      "cell_type": "code",
      "execution_count": 51,
      "id": "ae822522-55f3-456e-9335-3152b37bcb22",
      "metadata": {
        "colab": {
          "base_uri": "https://localhost:8080/"
        },
        "id": "ae822522-55f3-456e-9335-3152b37bcb22",
        "outputId": "8f78bf32-4c81-4e6f-b1f7-bffb53be2f66"
      },
      "outputs": [
        {
          "output_type": "execute_result",
          "data": {
            "text/plain": [
              "tensor([[-0.5753,  0.4135, -0.5536,  0.3705,  1.9680, -1.7476, -0.7603,  0.6284],\n",
              "        [ 0.1650,  0.0300,  1.3078,  1.4851, -1.1668,  0.5513,  0.6604, -1.1673],\n",
              "        [ 0.8552,  0.6902, -0.7866, -0.6122,  1.8114, -0.0517, -0.6013, -0.7685],\n",
              "        [-0.3887, -0.6393,  0.4142,  0.1694,  1.0871, -2.3164,  1.3315,  0.5121],\n",
              "        [-1.7566,  1.0258, -1.8393, -0.9446,  0.3543,  1.7097, -1.9072, -0.9847],\n",
              "        [ 0.7458,  0.2564,  1.2768,  1.1300,  0.3895, -0.4797,  0.4839, -0.1432],\n",
              "        [ 2.6087, -0.1221,  2.2552, -0.3660,  0.6699, -0.2522, -1.6585,  0.6862],\n",
              "        [ 0.2659,  2.2547, -0.3065, -0.3278, -0.0584, -0.3045, -1.8595, -0.5305],\n",
              "        [-0.0456, -0.4601,  0.1193, -0.4954, -2.4257,  1.5767,  0.4699,  0.7630],\n",
              "        [-2.0546, -0.1949, -0.1527, -0.4508,  0.0684,  0.4001,  1.5812, -0.5335]])"
            ]
          },
          "metadata": {},
          "execution_count": 51
        }
      ],
      "source": [
        "from torch_geometric.data import HeteroData\n",
        "\n",
        "num_users = 10\n",
        "num_posts = 40\n",
        "\n",
        "# Features for user nodes (10 nodes, 8 features each)\n",
        "user_features = torch.randn(num_users, 8)\n",
        "\n",
        "# Features for post nodes (40 nodes, 5 features each)\n",
        "post_features = torch.randn(num_posts, 5)\n",
        "\n",
        "follows_edges = torch.tensor([[0, 1], [1, 2], [2, 3], [3, 4], [4, 5]])\n",
        "posted_by_edges = torch.tensor([[0, 1], [1, 0], [3, 1]])\n",
        "liked_by_edges = torch.tensor([[3, 1], [5, 6], [6, 5], [4, 2]])\n",
        "\n",
        "follows_features = torch.randn(follows_edges.shape[0], 3)\n",
        "posted_by_features = torch.randn(posted_by_edges.shape[0], 2)\n",
        "liked_by_features = torch.randn(liked_by_edges.shape[0], 1)\n",
        "\n",
        "user_features"
      ]
    },
    {
      "cell_type": "code",
      "execution_count": 52,
      "id": "ffcde18c-58ec-4185-94c6-d94319bd0dd9",
      "metadata": {
        "colab": {
          "base_uri": "https://localhost:8080/"
        },
        "id": "ffcde18c-58ec-4185-94c6-d94319bd0dd9",
        "outputId": "dcc403db-b974-4018-8fb8-2ce1061fcc52"
      },
      "outputs": [
        {
          "output_type": "execute_result",
          "data": {
            "text/plain": [
              "tensor([[ 0.2268, -2.0988, -0.6495, -0.1159, -0.6536],\n",
              "        [-1.2984,  1.5567, -0.3052,  0.6716, -0.3014],\n",
              "        [-0.3749,  0.6077,  0.1203,  0.2089, -0.9424],\n",
              "        [ 0.0739, -0.5775, -0.5993, -0.8698,  0.2112],\n",
              "        [-0.8715,  0.5541, -0.3459, -0.1607,  0.1439],\n",
              "        [ 0.9136, -0.9173, -0.7664, -0.3380,  0.0546],\n",
              "        [ 0.7277, -0.7793, -1.7803, -0.6017,  1.8466],\n",
              "        [-0.8109, -0.8449,  0.4762,  0.9944,  0.9838],\n",
              "        [-0.9138,  1.3699,  0.1565, -1.0031, -0.1655],\n",
              "        [-0.4881, -2.6250, -1.1881,  2.2043, -1.8433],\n",
              "        [-1.6534,  0.9658, -1.0556,  0.1465,  1.9014],\n",
              "        [-1.5366, -0.5795,  1.4370, -0.9298, -0.6138],\n",
              "        [-0.3387,  1.9908,  1.5296, -1.6381, -0.7467],\n",
              "        [-0.5490, -2.5229,  0.9488,  0.0713,  0.1135],\n",
              "        [-1.3828,  1.2071,  0.5007, -1.0030, -1.2031],\n",
              "        [-1.8469,  0.1501,  1.2818,  0.9519,  1.4426],\n",
              "        [-0.7800,  0.6481,  0.9309, -0.5753,  0.2657],\n",
              "        [-0.3110, -0.1523, -0.7661,  0.0226,  0.7612],\n",
              "        [-0.3502,  2.3866,  0.6530,  0.4689, -0.4975],\n",
              "        [ 0.3960, -0.3725, -0.3395,  1.0379,  1.7259],\n",
              "        [-0.8717,  1.7386, -0.7537, -0.5036, -1.0127],\n",
              "        [-0.0423,  0.9501, -1.1662, -1.1687,  0.2300],\n",
              "        [-1.5157, -0.3942, -0.7652, -0.0861,  0.1766],\n",
              "        [ 0.7592,  0.0715, -1.3997, -1.3753,  0.2837],\n",
              "        [-0.3551, -1.5771,  0.7460,  1.4929, -0.5154],\n",
              "        [ 0.2994,  1.9189, -0.1392,  1.5937, -1.3924],\n",
              "        [-1.2502,  1.2975, -0.0238,  0.1652,  0.9506],\n",
              "        [ 0.0972,  2.5023,  0.2389, -0.0285, -1.6315],\n",
              "        [-0.5089,  0.3204,  0.7782,  2.4495, -1.6880],\n",
              "        [ 0.7524, -0.7262, -0.2103,  2.1256, -1.0150],\n",
              "        [ 0.2349,  0.4182,  0.0093, -0.8347,  0.2207],\n",
              "        [-1.1308,  0.7316, -0.6274,  1.8064,  0.2222],\n",
              "        [-0.3563,  0.9784,  1.4872, -1.0729, -0.2809],\n",
              "        [ 0.1311,  2.0180,  0.2578,  0.3012,  1.8871],\n",
              "        [-0.9229, -0.4917, -0.7257, -0.1682,  1.4301],\n",
              "        [ 0.2441,  1.4416,  0.1329,  0.5889, -0.3326],\n",
              "        [ 0.1045, -1.2696, -0.2292,  1.7654,  1.2306],\n",
              "        [ 1.1698,  0.1936,  0.1563, -1.5109,  0.1710],\n",
              "        [ 0.8847,  0.5006, -0.6634, -0.8060,  0.0171],\n",
              "        [-1.4722, -0.3451,  0.4694, -0.5942,  0.4393]])"
            ]
          },
          "metadata": {},
          "execution_count": 52
        }
      ],
      "source": [
        "post_features"
      ]
    },
    {
      "cell_type": "markdown",
      "id": "87f59c2f-5b8a-45ca-9357-a0fccc9f645a",
      "metadata": {
        "id": "87f59c2f-5b8a-45ca-9357-a0fccc9f645a"
      },
      "source": [
        "Defining edge indices and edge features for different types of relationships\n",
        "For example, 'follows' edges between users,'posted_by'  and 'liked_by' edges from posts to users"
      ]
    },
    {
      "cell_type": "code",
      "execution_count": 53,
      "id": "8fbbe6d9-ad6c-4671-88f9-738c5bbf8737",
      "metadata": {
        "colab": {
          "base_uri": "https://localhost:8080/"
        },
        "id": "8fbbe6d9-ad6c-4671-88f9-738c5bbf8737",
        "outputId": "f6ebdf5d-3fa2-47e7-a16f-235abc730025"
      },
      "outputs": [
        {
          "output_type": "stream",
          "name": "stdout",
          "text": [
            "HeteroData(\n",
            "  user={ x=[10, 8] },\n",
            "  post={ x=[40, 5] },\n",
            "  (user, follows, user)={\n",
            "    edge_index=[2, 5],\n",
            "    edge_attr=[5, 3],\n",
            "  },\n",
            "  (post, posted_by, user)={\n",
            "    edge_index=[2, 3],\n",
            "    edge_attr=[3, 2],\n",
            "  },\n",
            "  (post, liked_by, user)={\n",
            "    edge_index=[2, 4],\n",
            "    edge_attr=[4, 1],\n",
            "  }\n",
            ")\n"
          ]
        }
      ],
      "source": [
        "# Create a HeteroData object\n",
        "social_network_data = HeteroData()\n",
        "\n",
        "# Add node features for each node type\n",
        "social_network_data[\"user\"].x = user_features\n",
        "social_network_data[\"post\"].x = post_features\n",
        "\n",
        "# Transpose edge indices for correct orientation (num_edges, 2) -> (2. num_edges)\n",
        "social_network_data[\"user\", \"follows\", \"user\"].edge_index = follows_edges.t()\n",
        "social_network_data[\"post\", \"posted_by\", \"user\"].edge_index = posted_by_edges.t()\n",
        "social_network_data[\"post\", \"liked_by\", \"user\"].edge_index = liked_by_edges.t()\n",
        "\n",
        "# Assign edge attributes\n",
        "social_network_data[\"user\", \"follows\", \"user\"].edge_attr = follows_features\n",
        "social_network_data[\"post\", \"posted_by\", \"user\"].edge_attr = posted_by_features\n",
        "social_network_data[\"post\", \"liked_by\", \"user\"].edge_attr = liked_by_features\n",
        "\n",
        "print(social_network_data)"
      ]
    },
    {
      "cell_type": "markdown",
      "id": "9f60a0bd-763a-4a18-8125-7e34f8055562",
      "metadata": {
        "id": "9f60a0bd-763a-4a18-8125-7e34f8055562"
      },
      "source": [
        "Downloading Movielens data\n",
        "\n",
        "We are going to use the MovieLens dataset collected by the GroupLens research group. This toy dataset describes 5-star rating and tagging activity from MovieLens. The dataset contains approximately 100k ratings across more than 9k movies from more than 600 users. We are going to use this dataset to generate two node types holding data for movies and users, respectively, and one edge type connecting users and movies, representing the relation of how a user has rated a specific movie."
      ]
    },
    {
      "cell_type": "code",
      "execution_count": 54,
      "id": "e2bde89b-ab42-4698-ac8f-0c560388b488",
      "metadata": {
        "colab": {
          "base_uri": "https://localhost:8080/",
          "height": 612,
          "referenced_widgets": [
            "47d397f9490846098e5625f78eef7aea",
            "48ff29ab978d43c9b9699e8afa2fbfbc",
            "e3dd6c13767340399f923b5f4be13c04",
            "7e02dc331edb45aca699c6cfcf1c1f73",
            "f90442d42a424f03afb1c8a30771b62f",
            "d83fb8f10dbb499cbff58f760ffddcb1",
            "d86250d60a5240af8480e4f47e51aeda",
            "a6687418c0074f5c9a7b9c0ccf4bb380",
            "259d2bbd20fb40a88c9ff8f8e7e57a38",
            "0cde5f5a770d46dba92984162c56c7f4",
            "17efa40aa5e94870ae2cfc03de831f64",
            "925549279e534b68a39ec2dd08491b65",
            "fc54261abb314bbea1b314d8812f2a4f",
            "b4c3928c30594ab29283a8a372131bb3",
            "771c5f24eb7c4ee3877ca048429e2d56",
            "01b456118fa24db2ae82d8999d159fab",
            "5d8f05b5174c45518763829304b7a31d",
            "07d4325f8598415a930544c86de91cb7",
            "e7383eccd8554d378833529dc4a35520",
            "5f9fcf102a7d44199dc818242028b78c",
            "a57b7b2058c84bfeaaf9b305cf547ecb",
            "cfabd6f422224a21a20316b8813429ed",
            "0ad9a64a1dc64900bf35f6efb2644302",
            "b52c19049dba42d488e6cfbc22c93655",
            "e1b2dbc166bd4324964b36b8a3f4b112",
            "931fce65b28348d1b37412b82f03b7d1",
            "0241597f667446669773dd6de7f029b2",
            "67a2c96f60a44354b87f1db67caa6d3c",
            "7b1d22295c6d4effb35171b01a4c7a7e",
            "81f6bfd09481499f912a8a93f1f0d5ca",
            "59b1d1b446da49e5a4d5f032589a37be",
            "de4873673ddb4b19b645f28ef2d163b6",
            "7304772be2d143c6a3f05d8973493b66",
            "530929cd80194e5183a9ad93ce597403",
            "f0dfabca3b4243758952d1b466775687",
            "eb27e4ade099481db16d10c420e5e383",
            "29114c88d4ee4c8db0af283f9541d7f0",
            "d6660bd966b8473fb9ddb2a9f3019c19",
            "34aa1b9b8a4248129ee668d14381051f",
            "7ec2fb41dc4b46d58e9af6002425dcfe",
            "3e2ab4489fd348efbd57aa3381533a4f",
            "05af8b0ee35c419d87090cbb3bf172a4",
            "a84179c3fd93453c9be5f521650dc2b3",
            "6f4bc968fad545eba5f36c3c2f3e71a3",
            "ab28ad02d5c04c8d9a9ea6988ffbd227",
            "2061a5a93d0c42cd92815b07020816ff",
            "9c547ba5c2f3459a9d109c50a7325c86",
            "585f5f10ab5740649701bab2cb24cc6f",
            "afeb25ce1fa745779ec944fb2e180a78",
            "9ddd71af15c941c1a0e0e0e6e8850355",
            "d7d930f2ef5245a8835c4d1c33c876db",
            "9ea2aefbf7984569839e75d712da93ae",
            "02c0eb1be85749c4b70e84fb02067f6a",
            "2eb5789194544a84885754fb2c36fcc1",
            "571e21b345b54ee1aa12c3595a22aa20",
            "680d0ea6944d4c7590ac4662dc2149b6",
            "99e13249fbf24e17a7ad8b5683a426f6",
            "30d1e396ca504850a09eeafefd0c458d",
            "0b3f61e18e01420a8d74fb94eb08e631",
            "d046d655f66e4464bb16ad5f4eecae89",
            "e8d8a4fe2ef94bacaf04e9649f4117e1",
            "7bb2d506ff2c437096745c906911e5a5",
            "f5f6fd0e91f34ea78f2a9683506d1577",
            "416e723e1c8442798603c14e111a1faf",
            "1cf19a1c69ad4ea28248fc6fa5c0b523",
            "8a8f93b2e3c64063afbb04d597bb20e8",
            "79f2e6bcfe58465daef872b58abfab93",
            "41d8814d96d64d138a1d5ea440f3c79f",
            "27b5182cb0f7486da0eadae7691a6bc1",
            "cf60a6447f6a4197a8109645003aa9e1",
            "076f11a3bf3d4dad9f10561638d828cf",
            "1c609e2c095b41adbb1d5c528b5a398a",
            "3ad2c12a6fd94456b3e01b14ec5f28c2",
            "9a24455e1d824dac94b05faf72139c88",
            "e1557e7451c54337a6ea8f41630387d3",
            "166e96d21bc94baab5eba7de194c498e",
            "3efe023b3f7740809c997a3b2b4a97ee",
            "04a9bfdd2dc24d0ea4741f7e25e0050d",
            "f02db6bb269c49bfa8182abcd81d421f",
            "927da627b36d403a852b3b8b28fe2f0f",
            "f6c93a09a6774e53bef8a4d6245a2550",
            "9555a6f41f4d405d8bbeb1307acbaf55",
            "63670e2cd3f14e3c9d4106e7c907aea3",
            "a844947978734e2095d46f00dd4fb0f5",
            "73e79c484d154d99bf5ddb6f46e25c27",
            "3bd1c1fd98bc4bcdba4f18a95ae70d7b",
            "99241ac223984807ae9e5dd7c22f0ae2",
            "1bf1f176fea9477b8056582aaceb7391",
            "9515bf9d583a401cbebef0fb974806aa",
            "c517a21aa1f54664a9353cda9ee56a87",
            "c360b5902db64ce1ad07e291dd338fdb",
            "aaf97141dbae4f6c8db8d044c4a009cc",
            "12a92b9afae94eb89b69d5b4378d6b90",
            "6c0af766583e436fad48e4e1fe3f6fc1",
            "e80ca9678d084a2688358fd3ef6369e4",
            "8eced9d3eba04e75817d75ea1da1c698",
            "f27fae75192b4722bb83e8c546c7896c",
            "35b26872155742739fe1d3ca36b1f213",
            "35fef3233b444b4b9293f34020fac4d1",
            "63ca6e262b23435f870300422dc979b6",
            "ff987cfbc8ba4c9099a363caae9c14cd",
            "07f215ee9d5e41cea21826e52e6a2259",
            "e82d7c18b79a4c3eb53baa259f40810a",
            "1d7da468b683417291a5819c8d99f9a8",
            "a4b7e7021ffb43b581544e7ca0309340",
            "e4771465e0c246d9b3c45d40f126a178",
            "784685e2e2bc403ba2d961e8120b4712",
            "18db85c3914a4c91aa04f53bb1ab2784",
            "d8d24b3419e648d491e3976e19603ca7",
            "f81fbf30ce04496e82565bd62203f93f",
            "320ee947af104010984f0814973fff65",
            "6bac8c213dd44989a25cb275f823574a",
            "6842c6cb8a0a4c3aaffc52ac3aa00982",
            "0c2f0f327a5d488eb864f2f2a8ab58d5",
            "6b90f28fe2eb454fbcb1178c68c5f429",
            "2b494392ba5143c2896564d3207081a6",
            "4a179517151146508b5ab180620d156b",
            "69e23703e9af4be699d68366268228df",
            "adc867d781bf4912b5522c29e92faa93",
            "59abf3ee21d14356b80a0f60e022bf3d",
            "b389ba0d3a274df49ba671339defdfa5",
            "c1daf1e1617c4d42b60a4a68baf09409",
            "a4cce779e1244e2aa5b4c1340856e5e7",
            "08a9144d14b340e88b96e92bd62e2c0e",
            "68d56302fc8747c79e0ae30a5497423c",
            "6a1f9ab1e73041c0826a13077b69193c",
            "4d87494544ff40109a265d9af74956f7",
            "74d67591a409417a82f7849fd0541c2b",
            "0c8fe021277c44c7a11cca7d819023fc",
            "79245b42b0e6481d83288354219ed996",
            "d12947cc4288499690494ffc9d2d6ede",
            "f2e0504ff8364f10a59c2c910a4964ec"
          ]
        },
        "id": "e2bde89b-ab42-4698-ac8f-0c560388b488",
        "outputId": "1e8f133a-9515-438d-d544-937646a8c236"
      },
      "outputs": [
        {
          "output_type": "stream",
          "name": "stderr",
          "text": [
            "Downloading https://files.grouplens.org/datasets/movielens/ml-latest-small.zip\n",
            "Extracting Movielens/raw/ml-latest-small.zip\n",
            "Processing...\n",
            "/usr/local/lib/python3.10/dist-packages/huggingface_hub/utils/_auth.py:94: UserWarning: \n",
            "The secret `HF_TOKEN` does not exist in your Colab secrets.\n",
            "To authenticate with the Hugging Face Hub, create a token in your settings tab (https://huggingface.co/settings/tokens), set it as secret in your Google Colab and restart your session.\n",
            "You will be able to reuse this secret in all of your notebooks.\n",
            "Please note that authentication is recommended but still optional to access public models or datasets.\n",
            "  warnings.warn(\n"
          ]
        },
        {
          "output_type": "display_data",
          "data": {
            "text/plain": [
              "modules.json:   0%|          | 0.00/349 [00:00<?, ?B/s]"
            ],
            "application/vnd.jupyter.widget-view+json": {
              "version_major": 2,
              "version_minor": 0,
              "model_id": "47d397f9490846098e5625f78eef7aea"
            }
          },
          "metadata": {}
        },
        {
          "output_type": "display_data",
          "data": {
            "text/plain": [
              "config_sentence_transformers.json:   0%|          | 0.00/116 [00:00<?, ?B/s]"
            ],
            "application/vnd.jupyter.widget-view+json": {
              "version_major": 2,
              "version_minor": 0,
              "model_id": "925549279e534b68a39ec2dd08491b65"
            }
          },
          "metadata": {}
        },
        {
          "output_type": "display_data",
          "data": {
            "text/plain": [
              "README.md:   0%|          | 0.00/10.7k [00:00<?, ?B/s]"
            ],
            "application/vnd.jupyter.widget-view+json": {
              "version_major": 2,
              "version_minor": 0,
              "model_id": "0ad9a64a1dc64900bf35f6efb2644302"
            }
          },
          "metadata": {}
        },
        {
          "output_type": "display_data",
          "data": {
            "text/plain": [
              "sentence_bert_config.json:   0%|          | 0.00/53.0 [00:00<?, ?B/s]"
            ],
            "application/vnd.jupyter.widget-view+json": {
              "version_major": 2,
              "version_minor": 0,
              "model_id": "530929cd80194e5183a9ad93ce597403"
            }
          },
          "metadata": {}
        },
        {
          "output_type": "display_data",
          "data": {
            "text/plain": [
              "config.json:   0%|          | 0.00/612 [00:00<?, ?B/s]"
            ],
            "application/vnd.jupyter.widget-view+json": {
              "version_major": 2,
              "version_minor": 0,
              "model_id": "ab28ad02d5c04c8d9a9ea6988ffbd227"
            }
          },
          "metadata": {}
        },
        {
          "output_type": "display_data",
          "data": {
            "text/plain": [
              "model.safetensors:   0%|          | 0.00/90.9M [00:00<?, ?B/s]"
            ],
            "application/vnd.jupyter.widget-view+json": {
              "version_major": 2,
              "version_minor": 0,
              "model_id": "680d0ea6944d4c7590ac4662dc2149b6"
            }
          },
          "metadata": {}
        },
        {
          "output_type": "display_data",
          "data": {
            "text/plain": [
              "tokenizer_config.json:   0%|          | 0.00/350 [00:00<?, ?B/s]"
            ],
            "application/vnd.jupyter.widget-view+json": {
              "version_major": 2,
              "version_minor": 0,
              "model_id": "79f2e6bcfe58465daef872b58abfab93"
            }
          },
          "metadata": {}
        },
        {
          "output_type": "display_data",
          "data": {
            "text/plain": [
              "vocab.txt:   0%|          | 0.00/232k [00:00<?, ?B/s]"
            ],
            "application/vnd.jupyter.widget-view+json": {
              "version_major": 2,
              "version_minor": 0,
              "model_id": "04a9bfdd2dc24d0ea4741f7e25e0050d"
            }
          },
          "metadata": {}
        },
        {
          "output_type": "display_data",
          "data": {
            "text/plain": [
              "tokenizer.json:   0%|          | 0.00/466k [00:00<?, ?B/s]"
            ],
            "application/vnd.jupyter.widget-view+json": {
              "version_major": 2,
              "version_minor": 0,
              "model_id": "9515bf9d583a401cbebef0fb974806aa"
            }
          },
          "metadata": {}
        },
        {
          "output_type": "display_data",
          "data": {
            "text/plain": [
              "special_tokens_map.json:   0%|          | 0.00/112 [00:00<?, ?B/s]"
            ],
            "application/vnd.jupyter.widget-view+json": {
              "version_major": 2,
              "version_minor": 0,
              "model_id": "63ca6e262b23435f870300422dc979b6"
            }
          },
          "metadata": {}
        },
        {
          "output_type": "display_data",
          "data": {
            "text/plain": [
              "1_Pooling/config.json:   0%|          | 0.00/190 [00:00<?, ?B/s]"
            ],
            "application/vnd.jupyter.widget-view+json": {
              "version_major": 2,
              "version_minor": 0,
              "model_id": "320ee947af104010984f0814973fff65"
            }
          },
          "metadata": {}
        },
        {
          "output_type": "display_data",
          "data": {
            "text/plain": [
              "Batches:   0%|          | 0/305 [00:00<?, ?it/s]"
            ],
            "application/vnd.jupyter.widget-view+json": {
              "version_major": 2,
              "version_minor": 0,
              "model_id": "c1daf1e1617c4d42b60a4a68baf09409"
            }
          },
          "metadata": {}
        },
        {
          "output_type": "stream",
          "name": "stderr",
          "text": [
            "Done!\n"
          ]
        },
        {
          "output_type": "execute_result",
          "data": {
            "text/plain": [
              "MovieLens()"
            ]
          },
          "metadata": {},
          "execution_count": 54
        }
      ],
      "source": [
        "from torch_geometric.datasets import MovieLens\n",
        "\n",
        "movielens_dataset = MovieLens(root = \"Movielens\")\n",
        "\n",
        "movielens_dataset"
      ]
    },
    {
      "cell_type": "code",
      "execution_count": 55,
      "id": "2b1cd969-65dd-4421-bc03-011b0d0b3176",
      "metadata": {
        "colab": {
          "base_uri": "https://localhost:8080/"
        },
        "id": "2b1cd969-65dd-4421-bc03-011b0d0b3176",
        "outputId": "9969ee0d-d00a-4e0a-cd9b-c4a713ae63eb"
      },
      "outputs": [
        {
          "output_type": "execute_result",
          "data": {
            "text/plain": [
              "1"
            ]
          },
          "metadata": {},
          "execution_count": 55
        }
      ],
      "source": [
        "len(movielens_dataset)"
      ]
    },
    {
      "cell_type": "code",
      "execution_count": 56,
      "id": "50f5f682-4ca8-4f01-800a-bdd457757e51",
      "metadata": {
        "colab": {
          "base_uri": "https://localhost:8080/"
        },
        "id": "50f5f682-4ca8-4f01-800a-bdd457757e51",
        "outputId": "ed401895-f3db-4d28-8426-a36a957b48e8"
      },
      "outputs": [
        {
          "output_type": "execute_result",
          "data": {
            "text/plain": [
              "HeteroData(\n",
              "  movie={ x=[9742, 404] },\n",
              "  user={ num_nodes=610 },\n",
              "  (user, rates, movie)={\n",
              "    edge_index=[2, 100836],\n",
              "    edge_label=[100836],\n",
              "    time=[100836],\n",
              "  }\n",
              ")"
            ]
          },
          "metadata": {},
          "execution_count": 56
        }
      ],
      "source": [
        "movielens_graph = movielens_dataset[0]\n",
        "\n",
        "movielens_graph"
      ]
    },
    {
      "cell_type": "markdown",
      "id": "4ecbbee9-38cc-49b5-ade9-d726dbc1a1ae",
      "metadata": {
        "id": "4ecbbee9-38cc-49b5-ade9-d726dbc1a1ae"
      },
      "source": [
        "Details can be extracted"
      ]
    },
    {
      "cell_type": "code",
      "execution_count": 57,
      "id": "c5af45e8-4029-449e-a7f5-f8059d262790",
      "metadata": {
        "colab": {
          "base_uri": "https://localhost:8080/"
        },
        "id": "c5af45e8-4029-449e-a7f5-f8059d262790",
        "outputId": "94bd18b5-6b5b-4fed-f458-505b0a59524b"
      },
      "outputs": [
        {
          "output_type": "execute_result",
          "data": {
            "text/plain": [
              "{'x': tensor([[-0.0828,  0.0530,  0.0536,  ...,  0.0000,  0.0000,  0.0000],\n",
              "        [-0.1053,  0.1508, -0.0264,  ...,  0.0000,  0.0000,  0.0000],\n",
              "        [-0.0988,  0.0176, -0.0527,  ...,  0.0000,  0.0000,  0.0000],\n",
              "        ...,\n",
              "        [-0.1115,  0.0310, -0.0177,  ...,  0.0000,  0.0000,  0.0000],\n",
              "        [ 0.0366,  0.0137,  0.0315,  ...,  0.0000,  0.0000,  0.0000],\n",
              "        [-0.0500, -0.0141, -0.0031,  ...,  0.0000,  0.0000,  0.0000]])}"
            ]
          },
          "metadata": {},
          "execution_count": 57
        }
      ],
      "source": [
        "movielens_graph[\"movie\"]"
      ]
    },
    {
      "cell_type": "code",
      "execution_count": 58,
      "id": "77b7e994-d891-46e0-bfc3-7b4af48664ca",
      "metadata": {
        "colab": {
          "base_uri": "https://localhost:8080/"
        },
        "id": "77b7e994-d891-46e0-bfc3-7b4af48664ca",
        "outputId": "b00b89ff-c672-4716-924e-906985e2d919"
      },
      "outputs": [
        {
          "output_type": "execute_result",
          "data": {
            "text/plain": [
              "{'edge_index': tensor([[   0,    0,    0,  ...,  609,  609,  609],\n",
              "        [   0,    2,    5,  ..., 9462, 9463, 9503]]), 'edge_label': tensor([4, 4, 4,  ..., 5, 5, 3]), 'time': tensor([ 964982703,  964981247,  964982224,  ..., 1494273047, 1493846352,\n",
              "        1493846415])}"
            ]
          },
          "metadata": {},
          "execution_count": 58
        }
      ],
      "source": [
        "movielens_graph[\"user\", \"rates\", \"movie\"]"
      ]
    },
    {
      "cell_type": "markdown",
      "id": "c357d49f-9a3a-4307-9c0a-1dd08c74c258",
      "metadata": {
        "id": "c357d49f-9a3a-4307-9c0a-1dd08c74c258"
      },
      "source": [
        "Loading IMDB graph data-\n",
        "Ref.doc-link-\n",
        "https://docs.graphcore.ai/projects/tutorials/en/latest/pytorch_geometric/6_heterogeneous_graphs/README.html#introduction-to-heterogeneous-graphs"
      ]
    },
    {
      "cell_type": "code",
      "execution_count": 59,
      "id": "710002d6",
      "metadata": {
        "colab": {
          "base_uri": "https://localhost:8080/"
        },
        "id": "710002d6",
        "outputId": "47e1bf99-d910-40ca-b0ec-f17c07447383"
      },
      "outputs": [
        {
          "output_type": "stream",
          "name": "stderr",
          "text": [
            "Downloading https://www.dropbox.com/s/g0btk9ctr1es39x/IMDB_processed.zip?dl=1\n",
            "Extracting IMDB/raw/IMDB_processed.zip\n",
            "Processing...\n",
            "Done!\n"
          ]
        },
        {
          "output_type": "execute_result",
          "data": {
            "text/plain": [
              "IMDB()"
            ]
          },
          "metadata": {},
          "execution_count": 59
        }
      ],
      "source": [
        "from torch_geometric.datasets import IMDB\n",
        "\n",
        "imdb_dataset = IMDB(root = \"IMDB\")\n",
        "imdb_dataset"
      ]
    },
    {
      "cell_type": "markdown",
      "id": "3b2c2623-bba7-4da7-a893-8626342b77d8",
      "metadata": {
        "id": "3b2c2623-bba7-4da7-a893-8626342b77d8"
      },
      "source": [
        "Only one graph present"
      ]
    },
    {
      "cell_type": "code",
      "execution_count": 60,
      "id": "d22aa4e8-d9f4-4b89-8917-84a6945ebdb8",
      "metadata": {
        "colab": {
          "base_uri": "https://localhost:8080/"
        },
        "id": "d22aa4e8-d9f4-4b89-8917-84a6945ebdb8",
        "outputId": "7ac0cd7a-7f53-4c1a-a65c-d48dc7ad95b0"
      },
      "outputs": [
        {
          "output_type": "execute_result",
          "data": {
            "text/plain": [
              "1"
            ]
          },
          "metadata": {},
          "execution_count": 60
        }
      ],
      "source": [
        "len(imdb_dataset)"
      ]
    },
    {
      "cell_type": "markdown",
      "id": "8ba4c151-9974-4d34-b37b-4e7267499195",
      "metadata": {
        "id": "8ba4c151-9974-4d34-b37b-4e7267499195"
      },
      "source": [
        "This dataset is heterogenous"
      ]
    },
    {
      "cell_type": "code",
      "execution_count": 61,
      "id": "c9c6dac8-6a75-40b3-973c-cad2ccea8cb0",
      "metadata": {
        "colab": {
          "base_uri": "https://localhost:8080/"
        },
        "id": "c9c6dac8-6a75-40b3-973c-cad2ccea8cb0",
        "outputId": "8992f77f-7f46-42ac-e98b-67d97040a15b"
      },
      "outputs": [
        {
          "output_type": "execute_result",
          "data": {
            "text/plain": [
              "HeteroData(\n",
              "  movie={\n",
              "    x=[4278, 3066],\n",
              "    y=[4278],\n",
              "    train_mask=[4278],\n",
              "    val_mask=[4278],\n",
              "    test_mask=[4278],\n",
              "  },\n",
              "  director={ x=[2081, 3066] },\n",
              "  actor={ x=[5257, 3066] },\n",
              "  (movie, to, director)={ edge_index=[2, 4278] },\n",
              "  (movie, to, actor)={ edge_index=[2, 12828] },\n",
              "  (director, to, movie)={ edge_index=[2, 4278] },\n",
              "  (actor, to, movie)={ edge_index=[2, 12828] }\n",
              ")"
            ]
          },
          "metadata": {},
          "execution_count": 61
        }
      ],
      "source": [
        "imdb_data = imdb_dataset[0]\n",
        "\n",
        "imdb_data"
      ]
    }
  ],
  "metadata": {
    "kernelspec": {
      "display_name": "Python 3 (ipykernel)",
      "language": "python",
      "name": "python3"
    },
    "language_info": {
      "codemirror_mode": {
        "name": "ipython",
        "version": 3
      },
      "file_extension": ".py",
      "mimetype": "text/x-python",
      "name": "python",
      "nbconvert_exporter": "python",
      "pygments_lexer": "ipython3",
      "version": "3.10.9"
    },
    "colab": {
      "provenance": [],
      "include_colab_link": true
    },
    "widgets": {
      "application/vnd.jupyter.widget-state+json": {
        "47d397f9490846098e5625f78eef7aea": {
          "model_module": "@jupyter-widgets/controls",
          "model_name": "HBoxModel",
          "model_module_version": "1.5.0",
          "state": {
            "_dom_classes": [],
            "_model_module": "@jupyter-widgets/controls",
            "_model_module_version": "1.5.0",
            "_model_name": "HBoxModel",
            "_view_count": null,
            "_view_module": "@jupyter-widgets/controls",
            "_view_module_version": "1.5.0",
            "_view_name": "HBoxView",
            "box_style": "",
            "children": [
              "IPY_MODEL_48ff29ab978d43c9b9699e8afa2fbfbc",
              "IPY_MODEL_e3dd6c13767340399f923b5f4be13c04",
              "IPY_MODEL_7e02dc331edb45aca699c6cfcf1c1f73"
            ],
            "layout": "IPY_MODEL_f90442d42a424f03afb1c8a30771b62f"
          }
        },
        "48ff29ab978d43c9b9699e8afa2fbfbc": {
          "model_module": "@jupyter-widgets/controls",
          "model_name": "HTMLModel",
          "model_module_version": "1.5.0",
          "state": {
            "_dom_classes": [],
            "_model_module": "@jupyter-widgets/controls",
            "_model_module_version": "1.5.0",
            "_model_name": "HTMLModel",
            "_view_count": null,
            "_view_module": "@jupyter-widgets/controls",
            "_view_module_version": "1.5.0",
            "_view_name": "HTMLView",
            "description": "",
            "description_tooltip": null,
            "layout": "IPY_MODEL_d83fb8f10dbb499cbff58f760ffddcb1",
            "placeholder": "​",
            "style": "IPY_MODEL_d86250d60a5240af8480e4f47e51aeda",
            "value": "modules.json: 100%"
          }
        },
        "e3dd6c13767340399f923b5f4be13c04": {
          "model_module": "@jupyter-widgets/controls",
          "model_name": "FloatProgressModel",
          "model_module_version": "1.5.0",
          "state": {
            "_dom_classes": [],
            "_model_module": "@jupyter-widgets/controls",
            "_model_module_version": "1.5.0",
            "_model_name": "FloatProgressModel",
            "_view_count": null,
            "_view_module": "@jupyter-widgets/controls",
            "_view_module_version": "1.5.0",
            "_view_name": "ProgressView",
            "bar_style": "success",
            "description": "",
            "description_tooltip": null,
            "layout": "IPY_MODEL_a6687418c0074f5c9a7b9c0ccf4bb380",
            "max": 349,
            "min": 0,
            "orientation": "horizontal",
            "style": "IPY_MODEL_259d2bbd20fb40a88c9ff8f8e7e57a38",
            "value": 349
          }
        },
        "7e02dc331edb45aca699c6cfcf1c1f73": {
          "model_module": "@jupyter-widgets/controls",
          "model_name": "HTMLModel",
          "model_module_version": "1.5.0",
          "state": {
            "_dom_classes": [],
            "_model_module": "@jupyter-widgets/controls",
            "_model_module_version": "1.5.0",
            "_model_name": "HTMLModel",
            "_view_count": null,
            "_view_module": "@jupyter-widgets/controls",
            "_view_module_version": "1.5.0",
            "_view_name": "HTMLView",
            "description": "",
            "description_tooltip": null,
            "layout": "IPY_MODEL_0cde5f5a770d46dba92984162c56c7f4",
            "placeholder": "​",
            "style": "IPY_MODEL_17efa40aa5e94870ae2cfc03de831f64",
            "value": " 349/349 [00:00&lt;00:00, 13.5kB/s]"
          }
        },
        "f90442d42a424f03afb1c8a30771b62f": {
          "model_module": "@jupyter-widgets/base",
          "model_name": "LayoutModel",
          "model_module_version": "1.2.0",
          "state": {
            "_model_module": "@jupyter-widgets/base",
            "_model_module_version": "1.2.0",
            "_model_name": "LayoutModel",
            "_view_count": null,
            "_view_module": "@jupyter-widgets/base",
            "_view_module_version": "1.2.0",
            "_view_name": "LayoutView",
            "align_content": null,
            "align_items": null,
            "align_self": null,
            "border": null,
            "bottom": null,
            "display": null,
            "flex": null,
            "flex_flow": null,
            "grid_area": null,
            "grid_auto_columns": null,
            "grid_auto_flow": null,
            "grid_auto_rows": null,
            "grid_column": null,
            "grid_gap": null,
            "grid_row": null,
            "grid_template_areas": null,
            "grid_template_columns": null,
            "grid_template_rows": null,
            "height": null,
            "justify_content": null,
            "justify_items": null,
            "left": null,
            "margin": null,
            "max_height": null,
            "max_width": null,
            "min_height": null,
            "min_width": null,
            "object_fit": null,
            "object_position": null,
            "order": null,
            "overflow": null,
            "overflow_x": null,
            "overflow_y": null,
            "padding": null,
            "right": null,
            "top": null,
            "visibility": null,
            "width": null
          }
        },
        "d83fb8f10dbb499cbff58f760ffddcb1": {
          "model_module": "@jupyter-widgets/base",
          "model_name": "LayoutModel",
          "model_module_version": "1.2.0",
          "state": {
            "_model_module": "@jupyter-widgets/base",
            "_model_module_version": "1.2.0",
            "_model_name": "LayoutModel",
            "_view_count": null,
            "_view_module": "@jupyter-widgets/base",
            "_view_module_version": "1.2.0",
            "_view_name": "LayoutView",
            "align_content": null,
            "align_items": null,
            "align_self": null,
            "border": null,
            "bottom": null,
            "display": null,
            "flex": null,
            "flex_flow": null,
            "grid_area": null,
            "grid_auto_columns": null,
            "grid_auto_flow": null,
            "grid_auto_rows": null,
            "grid_column": null,
            "grid_gap": null,
            "grid_row": null,
            "grid_template_areas": null,
            "grid_template_columns": null,
            "grid_template_rows": null,
            "height": null,
            "justify_content": null,
            "justify_items": null,
            "left": null,
            "margin": null,
            "max_height": null,
            "max_width": null,
            "min_height": null,
            "min_width": null,
            "object_fit": null,
            "object_position": null,
            "order": null,
            "overflow": null,
            "overflow_x": null,
            "overflow_y": null,
            "padding": null,
            "right": null,
            "top": null,
            "visibility": null,
            "width": null
          }
        },
        "d86250d60a5240af8480e4f47e51aeda": {
          "model_module": "@jupyter-widgets/controls",
          "model_name": "DescriptionStyleModel",
          "model_module_version": "1.5.0",
          "state": {
            "_model_module": "@jupyter-widgets/controls",
            "_model_module_version": "1.5.0",
            "_model_name": "DescriptionStyleModel",
            "_view_count": null,
            "_view_module": "@jupyter-widgets/base",
            "_view_module_version": "1.2.0",
            "_view_name": "StyleView",
            "description_width": ""
          }
        },
        "a6687418c0074f5c9a7b9c0ccf4bb380": {
          "model_module": "@jupyter-widgets/base",
          "model_name": "LayoutModel",
          "model_module_version": "1.2.0",
          "state": {
            "_model_module": "@jupyter-widgets/base",
            "_model_module_version": "1.2.0",
            "_model_name": "LayoutModel",
            "_view_count": null,
            "_view_module": "@jupyter-widgets/base",
            "_view_module_version": "1.2.0",
            "_view_name": "LayoutView",
            "align_content": null,
            "align_items": null,
            "align_self": null,
            "border": null,
            "bottom": null,
            "display": null,
            "flex": null,
            "flex_flow": null,
            "grid_area": null,
            "grid_auto_columns": null,
            "grid_auto_flow": null,
            "grid_auto_rows": null,
            "grid_column": null,
            "grid_gap": null,
            "grid_row": null,
            "grid_template_areas": null,
            "grid_template_columns": null,
            "grid_template_rows": null,
            "height": null,
            "justify_content": null,
            "justify_items": null,
            "left": null,
            "margin": null,
            "max_height": null,
            "max_width": null,
            "min_height": null,
            "min_width": null,
            "object_fit": null,
            "object_position": null,
            "order": null,
            "overflow": null,
            "overflow_x": null,
            "overflow_y": null,
            "padding": null,
            "right": null,
            "top": null,
            "visibility": null,
            "width": null
          }
        },
        "259d2bbd20fb40a88c9ff8f8e7e57a38": {
          "model_module": "@jupyter-widgets/controls",
          "model_name": "ProgressStyleModel",
          "model_module_version": "1.5.0",
          "state": {
            "_model_module": "@jupyter-widgets/controls",
            "_model_module_version": "1.5.0",
            "_model_name": "ProgressStyleModel",
            "_view_count": null,
            "_view_module": "@jupyter-widgets/base",
            "_view_module_version": "1.2.0",
            "_view_name": "StyleView",
            "bar_color": null,
            "description_width": ""
          }
        },
        "0cde5f5a770d46dba92984162c56c7f4": {
          "model_module": "@jupyter-widgets/base",
          "model_name": "LayoutModel",
          "model_module_version": "1.2.0",
          "state": {
            "_model_module": "@jupyter-widgets/base",
            "_model_module_version": "1.2.0",
            "_model_name": "LayoutModel",
            "_view_count": null,
            "_view_module": "@jupyter-widgets/base",
            "_view_module_version": "1.2.0",
            "_view_name": "LayoutView",
            "align_content": null,
            "align_items": null,
            "align_self": null,
            "border": null,
            "bottom": null,
            "display": null,
            "flex": null,
            "flex_flow": null,
            "grid_area": null,
            "grid_auto_columns": null,
            "grid_auto_flow": null,
            "grid_auto_rows": null,
            "grid_column": null,
            "grid_gap": null,
            "grid_row": null,
            "grid_template_areas": null,
            "grid_template_columns": null,
            "grid_template_rows": null,
            "height": null,
            "justify_content": null,
            "justify_items": null,
            "left": null,
            "margin": null,
            "max_height": null,
            "max_width": null,
            "min_height": null,
            "min_width": null,
            "object_fit": null,
            "object_position": null,
            "order": null,
            "overflow": null,
            "overflow_x": null,
            "overflow_y": null,
            "padding": null,
            "right": null,
            "top": null,
            "visibility": null,
            "width": null
          }
        },
        "17efa40aa5e94870ae2cfc03de831f64": {
          "model_module": "@jupyter-widgets/controls",
          "model_name": "DescriptionStyleModel",
          "model_module_version": "1.5.0",
          "state": {
            "_model_module": "@jupyter-widgets/controls",
            "_model_module_version": "1.5.0",
            "_model_name": "DescriptionStyleModel",
            "_view_count": null,
            "_view_module": "@jupyter-widgets/base",
            "_view_module_version": "1.2.0",
            "_view_name": "StyleView",
            "description_width": ""
          }
        },
        "925549279e534b68a39ec2dd08491b65": {
          "model_module": "@jupyter-widgets/controls",
          "model_name": "HBoxModel",
          "model_module_version": "1.5.0",
          "state": {
            "_dom_classes": [],
            "_model_module": "@jupyter-widgets/controls",
            "_model_module_version": "1.5.0",
            "_model_name": "HBoxModel",
            "_view_count": null,
            "_view_module": "@jupyter-widgets/controls",
            "_view_module_version": "1.5.0",
            "_view_name": "HBoxView",
            "box_style": "",
            "children": [
              "IPY_MODEL_fc54261abb314bbea1b314d8812f2a4f",
              "IPY_MODEL_b4c3928c30594ab29283a8a372131bb3",
              "IPY_MODEL_771c5f24eb7c4ee3877ca048429e2d56"
            ],
            "layout": "IPY_MODEL_01b456118fa24db2ae82d8999d159fab"
          }
        },
        "fc54261abb314bbea1b314d8812f2a4f": {
          "model_module": "@jupyter-widgets/controls",
          "model_name": "HTMLModel",
          "model_module_version": "1.5.0",
          "state": {
            "_dom_classes": [],
            "_model_module": "@jupyter-widgets/controls",
            "_model_module_version": "1.5.0",
            "_model_name": "HTMLModel",
            "_view_count": null,
            "_view_module": "@jupyter-widgets/controls",
            "_view_module_version": "1.5.0",
            "_view_name": "HTMLView",
            "description": "",
            "description_tooltip": null,
            "layout": "IPY_MODEL_5d8f05b5174c45518763829304b7a31d",
            "placeholder": "​",
            "style": "IPY_MODEL_07d4325f8598415a930544c86de91cb7",
            "value": "config_sentence_transformers.json: 100%"
          }
        },
        "b4c3928c30594ab29283a8a372131bb3": {
          "model_module": "@jupyter-widgets/controls",
          "model_name": "FloatProgressModel",
          "model_module_version": "1.5.0",
          "state": {
            "_dom_classes": [],
            "_model_module": "@jupyter-widgets/controls",
            "_model_module_version": "1.5.0",
            "_model_name": "FloatProgressModel",
            "_view_count": null,
            "_view_module": "@jupyter-widgets/controls",
            "_view_module_version": "1.5.0",
            "_view_name": "ProgressView",
            "bar_style": "success",
            "description": "",
            "description_tooltip": null,
            "layout": "IPY_MODEL_e7383eccd8554d378833529dc4a35520",
            "max": 116,
            "min": 0,
            "orientation": "horizontal",
            "style": "IPY_MODEL_5f9fcf102a7d44199dc818242028b78c",
            "value": 116
          }
        },
        "771c5f24eb7c4ee3877ca048429e2d56": {
          "model_module": "@jupyter-widgets/controls",
          "model_name": "HTMLModel",
          "model_module_version": "1.5.0",
          "state": {
            "_dom_classes": [],
            "_model_module": "@jupyter-widgets/controls",
            "_model_module_version": "1.5.0",
            "_model_name": "HTMLModel",
            "_view_count": null,
            "_view_module": "@jupyter-widgets/controls",
            "_view_module_version": "1.5.0",
            "_view_name": "HTMLView",
            "description": "",
            "description_tooltip": null,
            "layout": "IPY_MODEL_a57b7b2058c84bfeaaf9b305cf547ecb",
            "placeholder": "​",
            "style": "IPY_MODEL_cfabd6f422224a21a20316b8813429ed",
            "value": " 116/116 [00:00&lt;00:00, 3.65kB/s]"
          }
        },
        "01b456118fa24db2ae82d8999d159fab": {
          "model_module": "@jupyter-widgets/base",
          "model_name": "LayoutModel",
          "model_module_version": "1.2.0",
          "state": {
            "_model_module": "@jupyter-widgets/base",
            "_model_module_version": "1.2.0",
            "_model_name": "LayoutModel",
            "_view_count": null,
            "_view_module": "@jupyter-widgets/base",
            "_view_module_version": "1.2.0",
            "_view_name": "LayoutView",
            "align_content": null,
            "align_items": null,
            "align_self": null,
            "border": null,
            "bottom": null,
            "display": null,
            "flex": null,
            "flex_flow": null,
            "grid_area": null,
            "grid_auto_columns": null,
            "grid_auto_flow": null,
            "grid_auto_rows": null,
            "grid_column": null,
            "grid_gap": null,
            "grid_row": null,
            "grid_template_areas": null,
            "grid_template_columns": null,
            "grid_template_rows": null,
            "height": null,
            "justify_content": null,
            "justify_items": null,
            "left": null,
            "margin": null,
            "max_height": null,
            "max_width": null,
            "min_height": null,
            "min_width": null,
            "object_fit": null,
            "object_position": null,
            "order": null,
            "overflow": null,
            "overflow_x": null,
            "overflow_y": null,
            "padding": null,
            "right": null,
            "top": null,
            "visibility": null,
            "width": null
          }
        },
        "5d8f05b5174c45518763829304b7a31d": {
          "model_module": "@jupyter-widgets/base",
          "model_name": "LayoutModel",
          "model_module_version": "1.2.0",
          "state": {
            "_model_module": "@jupyter-widgets/base",
            "_model_module_version": "1.2.0",
            "_model_name": "LayoutModel",
            "_view_count": null,
            "_view_module": "@jupyter-widgets/base",
            "_view_module_version": "1.2.0",
            "_view_name": "LayoutView",
            "align_content": null,
            "align_items": null,
            "align_self": null,
            "border": null,
            "bottom": null,
            "display": null,
            "flex": null,
            "flex_flow": null,
            "grid_area": null,
            "grid_auto_columns": null,
            "grid_auto_flow": null,
            "grid_auto_rows": null,
            "grid_column": null,
            "grid_gap": null,
            "grid_row": null,
            "grid_template_areas": null,
            "grid_template_columns": null,
            "grid_template_rows": null,
            "height": null,
            "justify_content": null,
            "justify_items": null,
            "left": null,
            "margin": null,
            "max_height": null,
            "max_width": null,
            "min_height": null,
            "min_width": null,
            "object_fit": null,
            "object_position": null,
            "order": null,
            "overflow": null,
            "overflow_x": null,
            "overflow_y": null,
            "padding": null,
            "right": null,
            "top": null,
            "visibility": null,
            "width": null
          }
        },
        "07d4325f8598415a930544c86de91cb7": {
          "model_module": "@jupyter-widgets/controls",
          "model_name": "DescriptionStyleModel",
          "model_module_version": "1.5.0",
          "state": {
            "_model_module": "@jupyter-widgets/controls",
            "_model_module_version": "1.5.0",
            "_model_name": "DescriptionStyleModel",
            "_view_count": null,
            "_view_module": "@jupyter-widgets/base",
            "_view_module_version": "1.2.0",
            "_view_name": "StyleView",
            "description_width": ""
          }
        },
        "e7383eccd8554d378833529dc4a35520": {
          "model_module": "@jupyter-widgets/base",
          "model_name": "LayoutModel",
          "model_module_version": "1.2.0",
          "state": {
            "_model_module": "@jupyter-widgets/base",
            "_model_module_version": "1.2.0",
            "_model_name": "LayoutModel",
            "_view_count": null,
            "_view_module": "@jupyter-widgets/base",
            "_view_module_version": "1.2.0",
            "_view_name": "LayoutView",
            "align_content": null,
            "align_items": null,
            "align_self": null,
            "border": null,
            "bottom": null,
            "display": null,
            "flex": null,
            "flex_flow": null,
            "grid_area": null,
            "grid_auto_columns": null,
            "grid_auto_flow": null,
            "grid_auto_rows": null,
            "grid_column": null,
            "grid_gap": null,
            "grid_row": null,
            "grid_template_areas": null,
            "grid_template_columns": null,
            "grid_template_rows": null,
            "height": null,
            "justify_content": null,
            "justify_items": null,
            "left": null,
            "margin": null,
            "max_height": null,
            "max_width": null,
            "min_height": null,
            "min_width": null,
            "object_fit": null,
            "object_position": null,
            "order": null,
            "overflow": null,
            "overflow_x": null,
            "overflow_y": null,
            "padding": null,
            "right": null,
            "top": null,
            "visibility": null,
            "width": null
          }
        },
        "5f9fcf102a7d44199dc818242028b78c": {
          "model_module": "@jupyter-widgets/controls",
          "model_name": "ProgressStyleModel",
          "model_module_version": "1.5.0",
          "state": {
            "_model_module": "@jupyter-widgets/controls",
            "_model_module_version": "1.5.0",
            "_model_name": "ProgressStyleModel",
            "_view_count": null,
            "_view_module": "@jupyter-widgets/base",
            "_view_module_version": "1.2.0",
            "_view_name": "StyleView",
            "bar_color": null,
            "description_width": ""
          }
        },
        "a57b7b2058c84bfeaaf9b305cf547ecb": {
          "model_module": "@jupyter-widgets/base",
          "model_name": "LayoutModel",
          "model_module_version": "1.2.0",
          "state": {
            "_model_module": "@jupyter-widgets/base",
            "_model_module_version": "1.2.0",
            "_model_name": "LayoutModel",
            "_view_count": null,
            "_view_module": "@jupyter-widgets/base",
            "_view_module_version": "1.2.0",
            "_view_name": "LayoutView",
            "align_content": null,
            "align_items": null,
            "align_self": null,
            "border": null,
            "bottom": null,
            "display": null,
            "flex": null,
            "flex_flow": null,
            "grid_area": null,
            "grid_auto_columns": null,
            "grid_auto_flow": null,
            "grid_auto_rows": null,
            "grid_column": null,
            "grid_gap": null,
            "grid_row": null,
            "grid_template_areas": null,
            "grid_template_columns": null,
            "grid_template_rows": null,
            "height": null,
            "justify_content": null,
            "justify_items": null,
            "left": null,
            "margin": null,
            "max_height": null,
            "max_width": null,
            "min_height": null,
            "min_width": null,
            "object_fit": null,
            "object_position": null,
            "order": null,
            "overflow": null,
            "overflow_x": null,
            "overflow_y": null,
            "padding": null,
            "right": null,
            "top": null,
            "visibility": null,
            "width": null
          }
        },
        "cfabd6f422224a21a20316b8813429ed": {
          "model_module": "@jupyter-widgets/controls",
          "model_name": "DescriptionStyleModel",
          "model_module_version": "1.5.0",
          "state": {
            "_model_module": "@jupyter-widgets/controls",
            "_model_module_version": "1.5.0",
            "_model_name": "DescriptionStyleModel",
            "_view_count": null,
            "_view_module": "@jupyter-widgets/base",
            "_view_module_version": "1.2.0",
            "_view_name": "StyleView",
            "description_width": ""
          }
        },
        "0ad9a64a1dc64900bf35f6efb2644302": {
          "model_module": "@jupyter-widgets/controls",
          "model_name": "HBoxModel",
          "model_module_version": "1.5.0",
          "state": {
            "_dom_classes": [],
            "_model_module": "@jupyter-widgets/controls",
            "_model_module_version": "1.5.0",
            "_model_name": "HBoxModel",
            "_view_count": null,
            "_view_module": "@jupyter-widgets/controls",
            "_view_module_version": "1.5.0",
            "_view_name": "HBoxView",
            "box_style": "",
            "children": [
              "IPY_MODEL_b52c19049dba42d488e6cfbc22c93655",
              "IPY_MODEL_e1b2dbc166bd4324964b36b8a3f4b112",
              "IPY_MODEL_931fce65b28348d1b37412b82f03b7d1"
            ],
            "layout": "IPY_MODEL_0241597f667446669773dd6de7f029b2"
          }
        },
        "b52c19049dba42d488e6cfbc22c93655": {
          "model_module": "@jupyter-widgets/controls",
          "model_name": "HTMLModel",
          "model_module_version": "1.5.0",
          "state": {
            "_dom_classes": [],
            "_model_module": "@jupyter-widgets/controls",
            "_model_module_version": "1.5.0",
            "_model_name": "HTMLModel",
            "_view_count": null,
            "_view_module": "@jupyter-widgets/controls",
            "_view_module_version": "1.5.0",
            "_view_name": "HTMLView",
            "description": "",
            "description_tooltip": null,
            "layout": "IPY_MODEL_67a2c96f60a44354b87f1db67caa6d3c",
            "placeholder": "​",
            "style": "IPY_MODEL_7b1d22295c6d4effb35171b01a4c7a7e",
            "value": "README.md: 100%"
          }
        },
        "e1b2dbc166bd4324964b36b8a3f4b112": {
          "model_module": "@jupyter-widgets/controls",
          "model_name": "FloatProgressModel",
          "model_module_version": "1.5.0",
          "state": {
            "_dom_classes": [],
            "_model_module": "@jupyter-widgets/controls",
            "_model_module_version": "1.5.0",
            "_model_name": "FloatProgressModel",
            "_view_count": null,
            "_view_module": "@jupyter-widgets/controls",
            "_view_module_version": "1.5.0",
            "_view_name": "ProgressView",
            "bar_style": "success",
            "description": "",
            "description_tooltip": null,
            "layout": "IPY_MODEL_81f6bfd09481499f912a8a93f1f0d5ca",
            "max": 10659,
            "min": 0,
            "orientation": "horizontal",
            "style": "IPY_MODEL_59b1d1b446da49e5a4d5f032589a37be",
            "value": 10659
          }
        },
        "931fce65b28348d1b37412b82f03b7d1": {
          "model_module": "@jupyter-widgets/controls",
          "model_name": "HTMLModel",
          "model_module_version": "1.5.0",
          "state": {
            "_dom_classes": [],
            "_model_module": "@jupyter-widgets/controls",
            "_model_module_version": "1.5.0",
            "_model_name": "HTMLModel",
            "_view_count": null,
            "_view_module": "@jupyter-widgets/controls",
            "_view_module_version": "1.5.0",
            "_view_name": "HTMLView",
            "description": "",
            "description_tooltip": null,
            "layout": "IPY_MODEL_de4873673ddb4b19b645f28ef2d163b6",
            "placeholder": "​",
            "style": "IPY_MODEL_7304772be2d143c6a3f05d8973493b66",
            "value": " 10.7k/10.7k [00:00&lt;00:00, 446kB/s]"
          }
        },
        "0241597f667446669773dd6de7f029b2": {
          "model_module": "@jupyter-widgets/base",
          "model_name": "LayoutModel",
          "model_module_version": "1.2.0",
          "state": {
            "_model_module": "@jupyter-widgets/base",
            "_model_module_version": "1.2.0",
            "_model_name": "LayoutModel",
            "_view_count": null,
            "_view_module": "@jupyter-widgets/base",
            "_view_module_version": "1.2.0",
            "_view_name": "LayoutView",
            "align_content": null,
            "align_items": null,
            "align_self": null,
            "border": null,
            "bottom": null,
            "display": null,
            "flex": null,
            "flex_flow": null,
            "grid_area": null,
            "grid_auto_columns": null,
            "grid_auto_flow": null,
            "grid_auto_rows": null,
            "grid_column": null,
            "grid_gap": null,
            "grid_row": null,
            "grid_template_areas": null,
            "grid_template_columns": null,
            "grid_template_rows": null,
            "height": null,
            "justify_content": null,
            "justify_items": null,
            "left": null,
            "margin": null,
            "max_height": null,
            "max_width": null,
            "min_height": null,
            "min_width": null,
            "object_fit": null,
            "object_position": null,
            "order": null,
            "overflow": null,
            "overflow_x": null,
            "overflow_y": null,
            "padding": null,
            "right": null,
            "top": null,
            "visibility": null,
            "width": null
          }
        },
        "67a2c96f60a44354b87f1db67caa6d3c": {
          "model_module": "@jupyter-widgets/base",
          "model_name": "LayoutModel",
          "model_module_version": "1.2.0",
          "state": {
            "_model_module": "@jupyter-widgets/base",
            "_model_module_version": "1.2.0",
            "_model_name": "LayoutModel",
            "_view_count": null,
            "_view_module": "@jupyter-widgets/base",
            "_view_module_version": "1.2.0",
            "_view_name": "LayoutView",
            "align_content": null,
            "align_items": null,
            "align_self": null,
            "border": null,
            "bottom": null,
            "display": null,
            "flex": null,
            "flex_flow": null,
            "grid_area": null,
            "grid_auto_columns": null,
            "grid_auto_flow": null,
            "grid_auto_rows": null,
            "grid_column": null,
            "grid_gap": null,
            "grid_row": null,
            "grid_template_areas": null,
            "grid_template_columns": null,
            "grid_template_rows": null,
            "height": null,
            "justify_content": null,
            "justify_items": null,
            "left": null,
            "margin": null,
            "max_height": null,
            "max_width": null,
            "min_height": null,
            "min_width": null,
            "object_fit": null,
            "object_position": null,
            "order": null,
            "overflow": null,
            "overflow_x": null,
            "overflow_y": null,
            "padding": null,
            "right": null,
            "top": null,
            "visibility": null,
            "width": null
          }
        },
        "7b1d22295c6d4effb35171b01a4c7a7e": {
          "model_module": "@jupyter-widgets/controls",
          "model_name": "DescriptionStyleModel",
          "model_module_version": "1.5.0",
          "state": {
            "_model_module": "@jupyter-widgets/controls",
            "_model_module_version": "1.5.0",
            "_model_name": "DescriptionStyleModel",
            "_view_count": null,
            "_view_module": "@jupyter-widgets/base",
            "_view_module_version": "1.2.0",
            "_view_name": "StyleView",
            "description_width": ""
          }
        },
        "81f6bfd09481499f912a8a93f1f0d5ca": {
          "model_module": "@jupyter-widgets/base",
          "model_name": "LayoutModel",
          "model_module_version": "1.2.0",
          "state": {
            "_model_module": "@jupyter-widgets/base",
            "_model_module_version": "1.2.0",
            "_model_name": "LayoutModel",
            "_view_count": null,
            "_view_module": "@jupyter-widgets/base",
            "_view_module_version": "1.2.0",
            "_view_name": "LayoutView",
            "align_content": null,
            "align_items": null,
            "align_self": null,
            "border": null,
            "bottom": null,
            "display": null,
            "flex": null,
            "flex_flow": null,
            "grid_area": null,
            "grid_auto_columns": null,
            "grid_auto_flow": null,
            "grid_auto_rows": null,
            "grid_column": null,
            "grid_gap": null,
            "grid_row": null,
            "grid_template_areas": null,
            "grid_template_columns": null,
            "grid_template_rows": null,
            "height": null,
            "justify_content": null,
            "justify_items": null,
            "left": null,
            "margin": null,
            "max_height": null,
            "max_width": null,
            "min_height": null,
            "min_width": null,
            "object_fit": null,
            "object_position": null,
            "order": null,
            "overflow": null,
            "overflow_x": null,
            "overflow_y": null,
            "padding": null,
            "right": null,
            "top": null,
            "visibility": null,
            "width": null
          }
        },
        "59b1d1b446da49e5a4d5f032589a37be": {
          "model_module": "@jupyter-widgets/controls",
          "model_name": "ProgressStyleModel",
          "model_module_version": "1.5.0",
          "state": {
            "_model_module": "@jupyter-widgets/controls",
            "_model_module_version": "1.5.0",
            "_model_name": "ProgressStyleModel",
            "_view_count": null,
            "_view_module": "@jupyter-widgets/base",
            "_view_module_version": "1.2.0",
            "_view_name": "StyleView",
            "bar_color": null,
            "description_width": ""
          }
        },
        "de4873673ddb4b19b645f28ef2d163b6": {
          "model_module": "@jupyter-widgets/base",
          "model_name": "LayoutModel",
          "model_module_version": "1.2.0",
          "state": {
            "_model_module": "@jupyter-widgets/base",
            "_model_module_version": "1.2.0",
            "_model_name": "LayoutModel",
            "_view_count": null,
            "_view_module": "@jupyter-widgets/base",
            "_view_module_version": "1.2.0",
            "_view_name": "LayoutView",
            "align_content": null,
            "align_items": null,
            "align_self": null,
            "border": null,
            "bottom": null,
            "display": null,
            "flex": null,
            "flex_flow": null,
            "grid_area": null,
            "grid_auto_columns": null,
            "grid_auto_flow": null,
            "grid_auto_rows": null,
            "grid_column": null,
            "grid_gap": null,
            "grid_row": null,
            "grid_template_areas": null,
            "grid_template_columns": null,
            "grid_template_rows": null,
            "height": null,
            "justify_content": null,
            "justify_items": null,
            "left": null,
            "margin": null,
            "max_height": null,
            "max_width": null,
            "min_height": null,
            "min_width": null,
            "object_fit": null,
            "object_position": null,
            "order": null,
            "overflow": null,
            "overflow_x": null,
            "overflow_y": null,
            "padding": null,
            "right": null,
            "top": null,
            "visibility": null,
            "width": null
          }
        },
        "7304772be2d143c6a3f05d8973493b66": {
          "model_module": "@jupyter-widgets/controls",
          "model_name": "DescriptionStyleModel",
          "model_module_version": "1.5.0",
          "state": {
            "_model_module": "@jupyter-widgets/controls",
            "_model_module_version": "1.5.0",
            "_model_name": "DescriptionStyleModel",
            "_view_count": null,
            "_view_module": "@jupyter-widgets/base",
            "_view_module_version": "1.2.0",
            "_view_name": "StyleView",
            "description_width": ""
          }
        },
        "530929cd80194e5183a9ad93ce597403": {
          "model_module": "@jupyter-widgets/controls",
          "model_name": "HBoxModel",
          "model_module_version": "1.5.0",
          "state": {
            "_dom_classes": [],
            "_model_module": "@jupyter-widgets/controls",
            "_model_module_version": "1.5.0",
            "_model_name": "HBoxModel",
            "_view_count": null,
            "_view_module": "@jupyter-widgets/controls",
            "_view_module_version": "1.5.0",
            "_view_name": "HBoxView",
            "box_style": "",
            "children": [
              "IPY_MODEL_f0dfabca3b4243758952d1b466775687",
              "IPY_MODEL_eb27e4ade099481db16d10c420e5e383",
              "IPY_MODEL_29114c88d4ee4c8db0af283f9541d7f0"
            ],
            "layout": "IPY_MODEL_d6660bd966b8473fb9ddb2a9f3019c19"
          }
        },
        "f0dfabca3b4243758952d1b466775687": {
          "model_module": "@jupyter-widgets/controls",
          "model_name": "HTMLModel",
          "model_module_version": "1.5.0",
          "state": {
            "_dom_classes": [],
            "_model_module": "@jupyter-widgets/controls",
            "_model_module_version": "1.5.0",
            "_model_name": "HTMLModel",
            "_view_count": null,
            "_view_module": "@jupyter-widgets/controls",
            "_view_module_version": "1.5.0",
            "_view_name": "HTMLView",
            "description": "",
            "description_tooltip": null,
            "layout": "IPY_MODEL_34aa1b9b8a4248129ee668d14381051f",
            "placeholder": "​",
            "style": "IPY_MODEL_7ec2fb41dc4b46d58e9af6002425dcfe",
            "value": "sentence_bert_config.json: 100%"
          }
        },
        "eb27e4ade099481db16d10c420e5e383": {
          "model_module": "@jupyter-widgets/controls",
          "model_name": "FloatProgressModel",
          "model_module_version": "1.5.0",
          "state": {
            "_dom_classes": [],
            "_model_module": "@jupyter-widgets/controls",
            "_model_module_version": "1.5.0",
            "_model_name": "FloatProgressModel",
            "_view_count": null,
            "_view_module": "@jupyter-widgets/controls",
            "_view_module_version": "1.5.0",
            "_view_name": "ProgressView",
            "bar_style": "success",
            "description": "",
            "description_tooltip": null,
            "layout": "IPY_MODEL_3e2ab4489fd348efbd57aa3381533a4f",
            "max": 53,
            "min": 0,
            "orientation": "horizontal",
            "style": "IPY_MODEL_05af8b0ee35c419d87090cbb3bf172a4",
            "value": 53
          }
        },
        "29114c88d4ee4c8db0af283f9541d7f0": {
          "model_module": "@jupyter-widgets/controls",
          "model_name": "HTMLModel",
          "model_module_version": "1.5.0",
          "state": {
            "_dom_classes": [],
            "_model_module": "@jupyter-widgets/controls",
            "_model_module_version": "1.5.0",
            "_model_name": "HTMLModel",
            "_view_count": null,
            "_view_module": "@jupyter-widgets/controls",
            "_view_module_version": "1.5.0",
            "_view_name": "HTMLView",
            "description": "",
            "description_tooltip": null,
            "layout": "IPY_MODEL_a84179c3fd93453c9be5f521650dc2b3",
            "placeholder": "​",
            "style": "IPY_MODEL_6f4bc968fad545eba5f36c3c2f3e71a3",
            "value": " 53.0/53.0 [00:00&lt;00:00, 1.98kB/s]"
          }
        },
        "d6660bd966b8473fb9ddb2a9f3019c19": {
          "model_module": "@jupyter-widgets/base",
          "model_name": "LayoutModel",
          "model_module_version": "1.2.0",
          "state": {
            "_model_module": "@jupyter-widgets/base",
            "_model_module_version": "1.2.0",
            "_model_name": "LayoutModel",
            "_view_count": null,
            "_view_module": "@jupyter-widgets/base",
            "_view_module_version": "1.2.0",
            "_view_name": "LayoutView",
            "align_content": null,
            "align_items": null,
            "align_self": null,
            "border": null,
            "bottom": null,
            "display": null,
            "flex": null,
            "flex_flow": null,
            "grid_area": null,
            "grid_auto_columns": null,
            "grid_auto_flow": null,
            "grid_auto_rows": null,
            "grid_column": null,
            "grid_gap": null,
            "grid_row": null,
            "grid_template_areas": null,
            "grid_template_columns": null,
            "grid_template_rows": null,
            "height": null,
            "justify_content": null,
            "justify_items": null,
            "left": null,
            "margin": null,
            "max_height": null,
            "max_width": null,
            "min_height": null,
            "min_width": null,
            "object_fit": null,
            "object_position": null,
            "order": null,
            "overflow": null,
            "overflow_x": null,
            "overflow_y": null,
            "padding": null,
            "right": null,
            "top": null,
            "visibility": null,
            "width": null
          }
        },
        "34aa1b9b8a4248129ee668d14381051f": {
          "model_module": "@jupyter-widgets/base",
          "model_name": "LayoutModel",
          "model_module_version": "1.2.0",
          "state": {
            "_model_module": "@jupyter-widgets/base",
            "_model_module_version": "1.2.0",
            "_model_name": "LayoutModel",
            "_view_count": null,
            "_view_module": "@jupyter-widgets/base",
            "_view_module_version": "1.2.0",
            "_view_name": "LayoutView",
            "align_content": null,
            "align_items": null,
            "align_self": null,
            "border": null,
            "bottom": null,
            "display": null,
            "flex": null,
            "flex_flow": null,
            "grid_area": null,
            "grid_auto_columns": null,
            "grid_auto_flow": null,
            "grid_auto_rows": null,
            "grid_column": null,
            "grid_gap": null,
            "grid_row": null,
            "grid_template_areas": null,
            "grid_template_columns": null,
            "grid_template_rows": null,
            "height": null,
            "justify_content": null,
            "justify_items": null,
            "left": null,
            "margin": null,
            "max_height": null,
            "max_width": null,
            "min_height": null,
            "min_width": null,
            "object_fit": null,
            "object_position": null,
            "order": null,
            "overflow": null,
            "overflow_x": null,
            "overflow_y": null,
            "padding": null,
            "right": null,
            "top": null,
            "visibility": null,
            "width": null
          }
        },
        "7ec2fb41dc4b46d58e9af6002425dcfe": {
          "model_module": "@jupyter-widgets/controls",
          "model_name": "DescriptionStyleModel",
          "model_module_version": "1.5.0",
          "state": {
            "_model_module": "@jupyter-widgets/controls",
            "_model_module_version": "1.5.0",
            "_model_name": "DescriptionStyleModel",
            "_view_count": null,
            "_view_module": "@jupyter-widgets/base",
            "_view_module_version": "1.2.0",
            "_view_name": "StyleView",
            "description_width": ""
          }
        },
        "3e2ab4489fd348efbd57aa3381533a4f": {
          "model_module": "@jupyter-widgets/base",
          "model_name": "LayoutModel",
          "model_module_version": "1.2.0",
          "state": {
            "_model_module": "@jupyter-widgets/base",
            "_model_module_version": "1.2.0",
            "_model_name": "LayoutModel",
            "_view_count": null,
            "_view_module": "@jupyter-widgets/base",
            "_view_module_version": "1.2.0",
            "_view_name": "LayoutView",
            "align_content": null,
            "align_items": null,
            "align_self": null,
            "border": null,
            "bottom": null,
            "display": null,
            "flex": null,
            "flex_flow": null,
            "grid_area": null,
            "grid_auto_columns": null,
            "grid_auto_flow": null,
            "grid_auto_rows": null,
            "grid_column": null,
            "grid_gap": null,
            "grid_row": null,
            "grid_template_areas": null,
            "grid_template_columns": null,
            "grid_template_rows": null,
            "height": null,
            "justify_content": null,
            "justify_items": null,
            "left": null,
            "margin": null,
            "max_height": null,
            "max_width": null,
            "min_height": null,
            "min_width": null,
            "object_fit": null,
            "object_position": null,
            "order": null,
            "overflow": null,
            "overflow_x": null,
            "overflow_y": null,
            "padding": null,
            "right": null,
            "top": null,
            "visibility": null,
            "width": null
          }
        },
        "05af8b0ee35c419d87090cbb3bf172a4": {
          "model_module": "@jupyter-widgets/controls",
          "model_name": "ProgressStyleModel",
          "model_module_version": "1.5.0",
          "state": {
            "_model_module": "@jupyter-widgets/controls",
            "_model_module_version": "1.5.0",
            "_model_name": "ProgressStyleModel",
            "_view_count": null,
            "_view_module": "@jupyter-widgets/base",
            "_view_module_version": "1.2.0",
            "_view_name": "StyleView",
            "bar_color": null,
            "description_width": ""
          }
        },
        "a84179c3fd93453c9be5f521650dc2b3": {
          "model_module": "@jupyter-widgets/base",
          "model_name": "LayoutModel",
          "model_module_version": "1.2.0",
          "state": {
            "_model_module": "@jupyter-widgets/base",
            "_model_module_version": "1.2.0",
            "_model_name": "LayoutModel",
            "_view_count": null,
            "_view_module": "@jupyter-widgets/base",
            "_view_module_version": "1.2.0",
            "_view_name": "LayoutView",
            "align_content": null,
            "align_items": null,
            "align_self": null,
            "border": null,
            "bottom": null,
            "display": null,
            "flex": null,
            "flex_flow": null,
            "grid_area": null,
            "grid_auto_columns": null,
            "grid_auto_flow": null,
            "grid_auto_rows": null,
            "grid_column": null,
            "grid_gap": null,
            "grid_row": null,
            "grid_template_areas": null,
            "grid_template_columns": null,
            "grid_template_rows": null,
            "height": null,
            "justify_content": null,
            "justify_items": null,
            "left": null,
            "margin": null,
            "max_height": null,
            "max_width": null,
            "min_height": null,
            "min_width": null,
            "object_fit": null,
            "object_position": null,
            "order": null,
            "overflow": null,
            "overflow_x": null,
            "overflow_y": null,
            "padding": null,
            "right": null,
            "top": null,
            "visibility": null,
            "width": null
          }
        },
        "6f4bc968fad545eba5f36c3c2f3e71a3": {
          "model_module": "@jupyter-widgets/controls",
          "model_name": "DescriptionStyleModel",
          "model_module_version": "1.5.0",
          "state": {
            "_model_module": "@jupyter-widgets/controls",
            "_model_module_version": "1.5.0",
            "_model_name": "DescriptionStyleModel",
            "_view_count": null,
            "_view_module": "@jupyter-widgets/base",
            "_view_module_version": "1.2.0",
            "_view_name": "StyleView",
            "description_width": ""
          }
        },
        "ab28ad02d5c04c8d9a9ea6988ffbd227": {
          "model_module": "@jupyter-widgets/controls",
          "model_name": "HBoxModel",
          "model_module_version": "1.5.0",
          "state": {
            "_dom_classes": [],
            "_model_module": "@jupyter-widgets/controls",
            "_model_module_version": "1.5.0",
            "_model_name": "HBoxModel",
            "_view_count": null,
            "_view_module": "@jupyter-widgets/controls",
            "_view_module_version": "1.5.0",
            "_view_name": "HBoxView",
            "box_style": "",
            "children": [
              "IPY_MODEL_2061a5a93d0c42cd92815b07020816ff",
              "IPY_MODEL_9c547ba5c2f3459a9d109c50a7325c86",
              "IPY_MODEL_585f5f10ab5740649701bab2cb24cc6f"
            ],
            "layout": "IPY_MODEL_afeb25ce1fa745779ec944fb2e180a78"
          }
        },
        "2061a5a93d0c42cd92815b07020816ff": {
          "model_module": "@jupyter-widgets/controls",
          "model_name": "HTMLModel",
          "model_module_version": "1.5.0",
          "state": {
            "_dom_classes": [],
            "_model_module": "@jupyter-widgets/controls",
            "_model_module_version": "1.5.0",
            "_model_name": "HTMLModel",
            "_view_count": null,
            "_view_module": "@jupyter-widgets/controls",
            "_view_module_version": "1.5.0",
            "_view_name": "HTMLView",
            "description": "",
            "description_tooltip": null,
            "layout": "IPY_MODEL_9ddd71af15c941c1a0e0e0e6e8850355",
            "placeholder": "​",
            "style": "IPY_MODEL_d7d930f2ef5245a8835c4d1c33c876db",
            "value": "config.json: 100%"
          }
        },
        "9c547ba5c2f3459a9d109c50a7325c86": {
          "model_module": "@jupyter-widgets/controls",
          "model_name": "FloatProgressModel",
          "model_module_version": "1.5.0",
          "state": {
            "_dom_classes": [],
            "_model_module": "@jupyter-widgets/controls",
            "_model_module_version": "1.5.0",
            "_model_name": "FloatProgressModel",
            "_view_count": null,
            "_view_module": "@jupyter-widgets/controls",
            "_view_module_version": "1.5.0",
            "_view_name": "ProgressView",
            "bar_style": "success",
            "description": "",
            "description_tooltip": null,
            "layout": "IPY_MODEL_9ea2aefbf7984569839e75d712da93ae",
            "max": 612,
            "min": 0,
            "orientation": "horizontal",
            "style": "IPY_MODEL_02c0eb1be85749c4b70e84fb02067f6a",
            "value": 612
          }
        },
        "585f5f10ab5740649701bab2cb24cc6f": {
          "model_module": "@jupyter-widgets/controls",
          "model_name": "HTMLModel",
          "model_module_version": "1.5.0",
          "state": {
            "_dom_classes": [],
            "_model_module": "@jupyter-widgets/controls",
            "_model_module_version": "1.5.0",
            "_model_name": "HTMLModel",
            "_view_count": null,
            "_view_module": "@jupyter-widgets/controls",
            "_view_module_version": "1.5.0",
            "_view_name": "HTMLView",
            "description": "",
            "description_tooltip": null,
            "layout": "IPY_MODEL_2eb5789194544a84885754fb2c36fcc1",
            "placeholder": "​",
            "style": "IPY_MODEL_571e21b345b54ee1aa12c3595a22aa20",
            "value": " 612/612 [00:00&lt;00:00, 1.06kB/s]"
          }
        },
        "afeb25ce1fa745779ec944fb2e180a78": {
          "model_module": "@jupyter-widgets/base",
          "model_name": "LayoutModel",
          "model_module_version": "1.2.0",
          "state": {
            "_model_module": "@jupyter-widgets/base",
            "_model_module_version": "1.2.0",
            "_model_name": "LayoutModel",
            "_view_count": null,
            "_view_module": "@jupyter-widgets/base",
            "_view_module_version": "1.2.0",
            "_view_name": "LayoutView",
            "align_content": null,
            "align_items": null,
            "align_self": null,
            "border": null,
            "bottom": null,
            "display": null,
            "flex": null,
            "flex_flow": null,
            "grid_area": null,
            "grid_auto_columns": null,
            "grid_auto_flow": null,
            "grid_auto_rows": null,
            "grid_column": null,
            "grid_gap": null,
            "grid_row": null,
            "grid_template_areas": null,
            "grid_template_columns": null,
            "grid_template_rows": null,
            "height": null,
            "justify_content": null,
            "justify_items": null,
            "left": null,
            "margin": null,
            "max_height": null,
            "max_width": null,
            "min_height": null,
            "min_width": null,
            "object_fit": null,
            "object_position": null,
            "order": null,
            "overflow": null,
            "overflow_x": null,
            "overflow_y": null,
            "padding": null,
            "right": null,
            "top": null,
            "visibility": null,
            "width": null
          }
        },
        "9ddd71af15c941c1a0e0e0e6e8850355": {
          "model_module": "@jupyter-widgets/base",
          "model_name": "LayoutModel",
          "model_module_version": "1.2.0",
          "state": {
            "_model_module": "@jupyter-widgets/base",
            "_model_module_version": "1.2.0",
            "_model_name": "LayoutModel",
            "_view_count": null,
            "_view_module": "@jupyter-widgets/base",
            "_view_module_version": "1.2.0",
            "_view_name": "LayoutView",
            "align_content": null,
            "align_items": null,
            "align_self": null,
            "border": null,
            "bottom": null,
            "display": null,
            "flex": null,
            "flex_flow": null,
            "grid_area": null,
            "grid_auto_columns": null,
            "grid_auto_flow": null,
            "grid_auto_rows": null,
            "grid_column": null,
            "grid_gap": null,
            "grid_row": null,
            "grid_template_areas": null,
            "grid_template_columns": null,
            "grid_template_rows": null,
            "height": null,
            "justify_content": null,
            "justify_items": null,
            "left": null,
            "margin": null,
            "max_height": null,
            "max_width": null,
            "min_height": null,
            "min_width": null,
            "object_fit": null,
            "object_position": null,
            "order": null,
            "overflow": null,
            "overflow_x": null,
            "overflow_y": null,
            "padding": null,
            "right": null,
            "top": null,
            "visibility": null,
            "width": null
          }
        },
        "d7d930f2ef5245a8835c4d1c33c876db": {
          "model_module": "@jupyter-widgets/controls",
          "model_name": "DescriptionStyleModel",
          "model_module_version": "1.5.0",
          "state": {
            "_model_module": "@jupyter-widgets/controls",
            "_model_module_version": "1.5.0",
            "_model_name": "DescriptionStyleModel",
            "_view_count": null,
            "_view_module": "@jupyter-widgets/base",
            "_view_module_version": "1.2.0",
            "_view_name": "StyleView",
            "description_width": ""
          }
        },
        "9ea2aefbf7984569839e75d712da93ae": {
          "model_module": "@jupyter-widgets/base",
          "model_name": "LayoutModel",
          "model_module_version": "1.2.0",
          "state": {
            "_model_module": "@jupyter-widgets/base",
            "_model_module_version": "1.2.0",
            "_model_name": "LayoutModel",
            "_view_count": null,
            "_view_module": "@jupyter-widgets/base",
            "_view_module_version": "1.2.0",
            "_view_name": "LayoutView",
            "align_content": null,
            "align_items": null,
            "align_self": null,
            "border": null,
            "bottom": null,
            "display": null,
            "flex": null,
            "flex_flow": null,
            "grid_area": null,
            "grid_auto_columns": null,
            "grid_auto_flow": null,
            "grid_auto_rows": null,
            "grid_column": null,
            "grid_gap": null,
            "grid_row": null,
            "grid_template_areas": null,
            "grid_template_columns": null,
            "grid_template_rows": null,
            "height": null,
            "justify_content": null,
            "justify_items": null,
            "left": null,
            "margin": null,
            "max_height": null,
            "max_width": null,
            "min_height": null,
            "min_width": null,
            "object_fit": null,
            "object_position": null,
            "order": null,
            "overflow": null,
            "overflow_x": null,
            "overflow_y": null,
            "padding": null,
            "right": null,
            "top": null,
            "visibility": null,
            "width": null
          }
        },
        "02c0eb1be85749c4b70e84fb02067f6a": {
          "model_module": "@jupyter-widgets/controls",
          "model_name": "ProgressStyleModel",
          "model_module_version": "1.5.0",
          "state": {
            "_model_module": "@jupyter-widgets/controls",
            "_model_module_version": "1.5.0",
            "_model_name": "ProgressStyleModel",
            "_view_count": null,
            "_view_module": "@jupyter-widgets/base",
            "_view_module_version": "1.2.0",
            "_view_name": "StyleView",
            "bar_color": null,
            "description_width": ""
          }
        },
        "2eb5789194544a84885754fb2c36fcc1": {
          "model_module": "@jupyter-widgets/base",
          "model_name": "LayoutModel",
          "model_module_version": "1.2.0",
          "state": {
            "_model_module": "@jupyter-widgets/base",
            "_model_module_version": "1.2.0",
            "_model_name": "LayoutModel",
            "_view_count": null,
            "_view_module": "@jupyter-widgets/base",
            "_view_module_version": "1.2.0",
            "_view_name": "LayoutView",
            "align_content": null,
            "align_items": null,
            "align_self": null,
            "border": null,
            "bottom": null,
            "display": null,
            "flex": null,
            "flex_flow": null,
            "grid_area": null,
            "grid_auto_columns": null,
            "grid_auto_flow": null,
            "grid_auto_rows": null,
            "grid_column": null,
            "grid_gap": null,
            "grid_row": null,
            "grid_template_areas": null,
            "grid_template_columns": null,
            "grid_template_rows": null,
            "height": null,
            "justify_content": null,
            "justify_items": null,
            "left": null,
            "margin": null,
            "max_height": null,
            "max_width": null,
            "min_height": null,
            "min_width": null,
            "object_fit": null,
            "object_position": null,
            "order": null,
            "overflow": null,
            "overflow_x": null,
            "overflow_y": null,
            "padding": null,
            "right": null,
            "top": null,
            "visibility": null,
            "width": null
          }
        },
        "571e21b345b54ee1aa12c3595a22aa20": {
          "model_module": "@jupyter-widgets/controls",
          "model_name": "DescriptionStyleModel",
          "model_module_version": "1.5.0",
          "state": {
            "_model_module": "@jupyter-widgets/controls",
            "_model_module_version": "1.5.0",
            "_model_name": "DescriptionStyleModel",
            "_view_count": null,
            "_view_module": "@jupyter-widgets/base",
            "_view_module_version": "1.2.0",
            "_view_name": "StyleView",
            "description_width": ""
          }
        },
        "680d0ea6944d4c7590ac4662dc2149b6": {
          "model_module": "@jupyter-widgets/controls",
          "model_name": "HBoxModel",
          "model_module_version": "1.5.0",
          "state": {
            "_dom_classes": [],
            "_model_module": "@jupyter-widgets/controls",
            "_model_module_version": "1.5.0",
            "_model_name": "HBoxModel",
            "_view_count": null,
            "_view_module": "@jupyter-widgets/controls",
            "_view_module_version": "1.5.0",
            "_view_name": "HBoxView",
            "box_style": "",
            "children": [
              "IPY_MODEL_99e13249fbf24e17a7ad8b5683a426f6",
              "IPY_MODEL_30d1e396ca504850a09eeafefd0c458d",
              "IPY_MODEL_0b3f61e18e01420a8d74fb94eb08e631"
            ],
            "layout": "IPY_MODEL_d046d655f66e4464bb16ad5f4eecae89"
          }
        },
        "99e13249fbf24e17a7ad8b5683a426f6": {
          "model_module": "@jupyter-widgets/controls",
          "model_name": "HTMLModel",
          "model_module_version": "1.5.0",
          "state": {
            "_dom_classes": [],
            "_model_module": "@jupyter-widgets/controls",
            "_model_module_version": "1.5.0",
            "_model_name": "HTMLModel",
            "_view_count": null,
            "_view_module": "@jupyter-widgets/controls",
            "_view_module_version": "1.5.0",
            "_view_name": "HTMLView",
            "description": "",
            "description_tooltip": null,
            "layout": "IPY_MODEL_e8d8a4fe2ef94bacaf04e9649f4117e1",
            "placeholder": "​",
            "style": "IPY_MODEL_7bb2d506ff2c437096745c906911e5a5",
            "value": "model.safetensors: 100%"
          }
        },
        "30d1e396ca504850a09eeafefd0c458d": {
          "model_module": "@jupyter-widgets/controls",
          "model_name": "FloatProgressModel",
          "model_module_version": "1.5.0",
          "state": {
            "_dom_classes": [],
            "_model_module": "@jupyter-widgets/controls",
            "_model_module_version": "1.5.0",
            "_model_name": "FloatProgressModel",
            "_view_count": null,
            "_view_module": "@jupyter-widgets/controls",
            "_view_module_version": "1.5.0",
            "_view_name": "ProgressView",
            "bar_style": "success",
            "description": "",
            "description_tooltip": null,
            "layout": "IPY_MODEL_f5f6fd0e91f34ea78f2a9683506d1577",
            "max": 90868376,
            "min": 0,
            "orientation": "horizontal",
            "style": "IPY_MODEL_416e723e1c8442798603c14e111a1faf",
            "value": 90868376
          }
        },
        "0b3f61e18e01420a8d74fb94eb08e631": {
          "model_module": "@jupyter-widgets/controls",
          "model_name": "HTMLModel",
          "model_module_version": "1.5.0",
          "state": {
            "_dom_classes": [],
            "_model_module": "@jupyter-widgets/controls",
            "_model_module_version": "1.5.0",
            "_model_name": "HTMLModel",
            "_view_count": null,
            "_view_module": "@jupyter-widgets/controls",
            "_view_module_version": "1.5.0",
            "_view_name": "HTMLView",
            "description": "",
            "description_tooltip": null,
            "layout": "IPY_MODEL_1cf19a1c69ad4ea28248fc6fa5c0b523",
            "placeholder": "​",
            "style": "IPY_MODEL_8a8f93b2e3c64063afbb04d597bb20e8",
            "value": " 90.9M/90.9M [00:00&lt;00:00, 129MB/s]"
          }
        },
        "d046d655f66e4464bb16ad5f4eecae89": {
          "model_module": "@jupyter-widgets/base",
          "model_name": "LayoutModel",
          "model_module_version": "1.2.0",
          "state": {
            "_model_module": "@jupyter-widgets/base",
            "_model_module_version": "1.2.0",
            "_model_name": "LayoutModel",
            "_view_count": null,
            "_view_module": "@jupyter-widgets/base",
            "_view_module_version": "1.2.0",
            "_view_name": "LayoutView",
            "align_content": null,
            "align_items": null,
            "align_self": null,
            "border": null,
            "bottom": null,
            "display": null,
            "flex": null,
            "flex_flow": null,
            "grid_area": null,
            "grid_auto_columns": null,
            "grid_auto_flow": null,
            "grid_auto_rows": null,
            "grid_column": null,
            "grid_gap": null,
            "grid_row": null,
            "grid_template_areas": null,
            "grid_template_columns": null,
            "grid_template_rows": null,
            "height": null,
            "justify_content": null,
            "justify_items": null,
            "left": null,
            "margin": null,
            "max_height": null,
            "max_width": null,
            "min_height": null,
            "min_width": null,
            "object_fit": null,
            "object_position": null,
            "order": null,
            "overflow": null,
            "overflow_x": null,
            "overflow_y": null,
            "padding": null,
            "right": null,
            "top": null,
            "visibility": null,
            "width": null
          }
        },
        "e8d8a4fe2ef94bacaf04e9649f4117e1": {
          "model_module": "@jupyter-widgets/base",
          "model_name": "LayoutModel",
          "model_module_version": "1.2.0",
          "state": {
            "_model_module": "@jupyter-widgets/base",
            "_model_module_version": "1.2.0",
            "_model_name": "LayoutModel",
            "_view_count": null,
            "_view_module": "@jupyter-widgets/base",
            "_view_module_version": "1.2.0",
            "_view_name": "LayoutView",
            "align_content": null,
            "align_items": null,
            "align_self": null,
            "border": null,
            "bottom": null,
            "display": null,
            "flex": null,
            "flex_flow": null,
            "grid_area": null,
            "grid_auto_columns": null,
            "grid_auto_flow": null,
            "grid_auto_rows": null,
            "grid_column": null,
            "grid_gap": null,
            "grid_row": null,
            "grid_template_areas": null,
            "grid_template_columns": null,
            "grid_template_rows": null,
            "height": null,
            "justify_content": null,
            "justify_items": null,
            "left": null,
            "margin": null,
            "max_height": null,
            "max_width": null,
            "min_height": null,
            "min_width": null,
            "object_fit": null,
            "object_position": null,
            "order": null,
            "overflow": null,
            "overflow_x": null,
            "overflow_y": null,
            "padding": null,
            "right": null,
            "top": null,
            "visibility": null,
            "width": null
          }
        },
        "7bb2d506ff2c437096745c906911e5a5": {
          "model_module": "@jupyter-widgets/controls",
          "model_name": "DescriptionStyleModel",
          "model_module_version": "1.5.0",
          "state": {
            "_model_module": "@jupyter-widgets/controls",
            "_model_module_version": "1.5.0",
            "_model_name": "DescriptionStyleModel",
            "_view_count": null,
            "_view_module": "@jupyter-widgets/base",
            "_view_module_version": "1.2.0",
            "_view_name": "StyleView",
            "description_width": ""
          }
        },
        "f5f6fd0e91f34ea78f2a9683506d1577": {
          "model_module": "@jupyter-widgets/base",
          "model_name": "LayoutModel",
          "model_module_version": "1.2.0",
          "state": {
            "_model_module": "@jupyter-widgets/base",
            "_model_module_version": "1.2.0",
            "_model_name": "LayoutModel",
            "_view_count": null,
            "_view_module": "@jupyter-widgets/base",
            "_view_module_version": "1.2.0",
            "_view_name": "LayoutView",
            "align_content": null,
            "align_items": null,
            "align_self": null,
            "border": null,
            "bottom": null,
            "display": null,
            "flex": null,
            "flex_flow": null,
            "grid_area": null,
            "grid_auto_columns": null,
            "grid_auto_flow": null,
            "grid_auto_rows": null,
            "grid_column": null,
            "grid_gap": null,
            "grid_row": null,
            "grid_template_areas": null,
            "grid_template_columns": null,
            "grid_template_rows": null,
            "height": null,
            "justify_content": null,
            "justify_items": null,
            "left": null,
            "margin": null,
            "max_height": null,
            "max_width": null,
            "min_height": null,
            "min_width": null,
            "object_fit": null,
            "object_position": null,
            "order": null,
            "overflow": null,
            "overflow_x": null,
            "overflow_y": null,
            "padding": null,
            "right": null,
            "top": null,
            "visibility": null,
            "width": null
          }
        },
        "416e723e1c8442798603c14e111a1faf": {
          "model_module": "@jupyter-widgets/controls",
          "model_name": "ProgressStyleModel",
          "model_module_version": "1.5.0",
          "state": {
            "_model_module": "@jupyter-widgets/controls",
            "_model_module_version": "1.5.0",
            "_model_name": "ProgressStyleModel",
            "_view_count": null,
            "_view_module": "@jupyter-widgets/base",
            "_view_module_version": "1.2.0",
            "_view_name": "StyleView",
            "bar_color": null,
            "description_width": ""
          }
        },
        "1cf19a1c69ad4ea28248fc6fa5c0b523": {
          "model_module": "@jupyter-widgets/base",
          "model_name": "LayoutModel",
          "model_module_version": "1.2.0",
          "state": {
            "_model_module": "@jupyter-widgets/base",
            "_model_module_version": "1.2.0",
            "_model_name": "LayoutModel",
            "_view_count": null,
            "_view_module": "@jupyter-widgets/base",
            "_view_module_version": "1.2.0",
            "_view_name": "LayoutView",
            "align_content": null,
            "align_items": null,
            "align_self": null,
            "border": null,
            "bottom": null,
            "display": null,
            "flex": null,
            "flex_flow": null,
            "grid_area": null,
            "grid_auto_columns": null,
            "grid_auto_flow": null,
            "grid_auto_rows": null,
            "grid_column": null,
            "grid_gap": null,
            "grid_row": null,
            "grid_template_areas": null,
            "grid_template_columns": null,
            "grid_template_rows": null,
            "height": null,
            "justify_content": null,
            "justify_items": null,
            "left": null,
            "margin": null,
            "max_height": null,
            "max_width": null,
            "min_height": null,
            "min_width": null,
            "object_fit": null,
            "object_position": null,
            "order": null,
            "overflow": null,
            "overflow_x": null,
            "overflow_y": null,
            "padding": null,
            "right": null,
            "top": null,
            "visibility": null,
            "width": null
          }
        },
        "8a8f93b2e3c64063afbb04d597bb20e8": {
          "model_module": "@jupyter-widgets/controls",
          "model_name": "DescriptionStyleModel",
          "model_module_version": "1.5.0",
          "state": {
            "_model_module": "@jupyter-widgets/controls",
            "_model_module_version": "1.5.0",
            "_model_name": "DescriptionStyleModel",
            "_view_count": null,
            "_view_module": "@jupyter-widgets/base",
            "_view_module_version": "1.2.0",
            "_view_name": "StyleView",
            "description_width": ""
          }
        },
        "79f2e6bcfe58465daef872b58abfab93": {
          "model_module": "@jupyter-widgets/controls",
          "model_name": "HBoxModel",
          "model_module_version": "1.5.0",
          "state": {
            "_dom_classes": [],
            "_model_module": "@jupyter-widgets/controls",
            "_model_module_version": "1.5.0",
            "_model_name": "HBoxModel",
            "_view_count": null,
            "_view_module": "@jupyter-widgets/controls",
            "_view_module_version": "1.5.0",
            "_view_name": "HBoxView",
            "box_style": "",
            "children": [
              "IPY_MODEL_41d8814d96d64d138a1d5ea440f3c79f",
              "IPY_MODEL_27b5182cb0f7486da0eadae7691a6bc1",
              "IPY_MODEL_cf60a6447f6a4197a8109645003aa9e1"
            ],
            "layout": "IPY_MODEL_076f11a3bf3d4dad9f10561638d828cf"
          }
        },
        "41d8814d96d64d138a1d5ea440f3c79f": {
          "model_module": "@jupyter-widgets/controls",
          "model_name": "HTMLModel",
          "model_module_version": "1.5.0",
          "state": {
            "_dom_classes": [],
            "_model_module": "@jupyter-widgets/controls",
            "_model_module_version": "1.5.0",
            "_model_name": "HTMLModel",
            "_view_count": null,
            "_view_module": "@jupyter-widgets/controls",
            "_view_module_version": "1.5.0",
            "_view_name": "HTMLView",
            "description": "",
            "description_tooltip": null,
            "layout": "IPY_MODEL_1c609e2c095b41adbb1d5c528b5a398a",
            "placeholder": "​",
            "style": "IPY_MODEL_3ad2c12a6fd94456b3e01b14ec5f28c2",
            "value": "tokenizer_config.json: 100%"
          }
        },
        "27b5182cb0f7486da0eadae7691a6bc1": {
          "model_module": "@jupyter-widgets/controls",
          "model_name": "FloatProgressModel",
          "model_module_version": "1.5.0",
          "state": {
            "_dom_classes": [],
            "_model_module": "@jupyter-widgets/controls",
            "_model_module_version": "1.5.0",
            "_model_name": "FloatProgressModel",
            "_view_count": null,
            "_view_module": "@jupyter-widgets/controls",
            "_view_module_version": "1.5.0",
            "_view_name": "ProgressView",
            "bar_style": "success",
            "description": "",
            "description_tooltip": null,
            "layout": "IPY_MODEL_9a24455e1d824dac94b05faf72139c88",
            "max": 350,
            "min": 0,
            "orientation": "horizontal",
            "style": "IPY_MODEL_e1557e7451c54337a6ea8f41630387d3",
            "value": 350
          }
        },
        "cf60a6447f6a4197a8109645003aa9e1": {
          "model_module": "@jupyter-widgets/controls",
          "model_name": "HTMLModel",
          "model_module_version": "1.5.0",
          "state": {
            "_dom_classes": [],
            "_model_module": "@jupyter-widgets/controls",
            "_model_module_version": "1.5.0",
            "_model_name": "HTMLModel",
            "_view_count": null,
            "_view_module": "@jupyter-widgets/controls",
            "_view_module_version": "1.5.0",
            "_view_name": "HTMLView",
            "description": "",
            "description_tooltip": null,
            "layout": "IPY_MODEL_166e96d21bc94baab5eba7de194c498e",
            "placeholder": "​",
            "style": "IPY_MODEL_3efe023b3f7740809c997a3b2b4a97ee",
            "value": " 350/350 [00:00&lt;00:00, 19.1kB/s]"
          }
        },
        "076f11a3bf3d4dad9f10561638d828cf": {
          "model_module": "@jupyter-widgets/base",
          "model_name": "LayoutModel",
          "model_module_version": "1.2.0",
          "state": {
            "_model_module": "@jupyter-widgets/base",
            "_model_module_version": "1.2.0",
            "_model_name": "LayoutModel",
            "_view_count": null,
            "_view_module": "@jupyter-widgets/base",
            "_view_module_version": "1.2.0",
            "_view_name": "LayoutView",
            "align_content": null,
            "align_items": null,
            "align_self": null,
            "border": null,
            "bottom": null,
            "display": null,
            "flex": null,
            "flex_flow": null,
            "grid_area": null,
            "grid_auto_columns": null,
            "grid_auto_flow": null,
            "grid_auto_rows": null,
            "grid_column": null,
            "grid_gap": null,
            "grid_row": null,
            "grid_template_areas": null,
            "grid_template_columns": null,
            "grid_template_rows": null,
            "height": null,
            "justify_content": null,
            "justify_items": null,
            "left": null,
            "margin": null,
            "max_height": null,
            "max_width": null,
            "min_height": null,
            "min_width": null,
            "object_fit": null,
            "object_position": null,
            "order": null,
            "overflow": null,
            "overflow_x": null,
            "overflow_y": null,
            "padding": null,
            "right": null,
            "top": null,
            "visibility": null,
            "width": null
          }
        },
        "1c609e2c095b41adbb1d5c528b5a398a": {
          "model_module": "@jupyter-widgets/base",
          "model_name": "LayoutModel",
          "model_module_version": "1.2.0",
          "state": {
            "_model_module": "@jupyter-widgets/base",
            "_model_module_version": "1.2.0",
            "_model_name": "LayoutModel",
            "_view_count": null,
            "_view_module": "@jupyter-widgets/base",
            "_view_module_version": "1.2.0",
            "_view_name": "LayoutView",
            "align_content": null,
            "align_items": null,
            "align_self": null,
            "border": null,
            "bottom": null,
            "display": null,
            "flex": null,
            "flex_flow": null,
            "grid_area": null,
            "grid_auto_columns": null,
            "grid_auto_flow": null,
            "grid_auto_rows": null,
            "grid_column": null,
            "grid_gap": null,
            "grid_row": null,
            "grid_template_areas": null,
            "grid_template_columns": null,
            "grid_template_rows": null,
            "height": null,
            "justify_content": null,
            "justify_items": null,
            "left": null,
            "margin": null,
            "max_height": null,
            "max_width": null,
            "min_height": null,
            "min_width": null,
            "object_fit": null,
            "object_position": null,
            "order": null,
            "overflow": null,
            "overflow_x": null,
            "overflow_y": null,
            "padding": null,
            "right": null,
            "top": null,
            "visibility": null,
            "width": null
          }
        },
        "3ad2c12a6fd94456b3e01b14ec5f28c2": {
          "model_module": "@jupyter-widgets/controls",
          "model_name": "DescriptionStyleModel",
          "model_module_version": "1.5.0",
          "state": {
            "_model_module": "@jupyter-widgets/controls",
            "_model_module_version": "1.5.0",
            "_model_name": "DescriptionStyleModel",
            "_view_count": null,
            "_view_module": "@jupyter-widgets/base",
            "_view_module_version": "1.2.0",
            "_view_name": "StyleView",
            "description_width": ""
          }
        },
        "9a24455e1d824dac94b05faf72139c88": {
          "model_module": "@jupyter-widgets/base",
          "model_name": "LayoutModel",
          "model_module_version": "1.2.0",
          "state": {
            "_model_module": "@jupyter-widgets/base",
            "_model_module_version": "1.2.0",
            "_model_name": "LayoutModel",
            "_view_count": null,
            "_view_module": "@jupyter-widgets/base",
            "_view_module_version": "1.2.0",
            "_view_name": "LayoutView",
            "align_content": null,
            "align_items": null,
            "align_self": null,
            "border": null,
            "bottom": null,
            "display": null,
            "flex": null,
            "flex_flow": null,
            "grid_area": null,
            "grid_auto_columns": null,
            "grid_auto_flow": null,
            "grid_auto_rows": null,
            "grid_column": null,
            "grid_gap": null,
            "grid_row": null,
            "grid_template_areas": null,
            "grid_template_columns": null,
            "grid_template_rows": null,
            "height": null,
            "justify_content": null,
            "justify_items": null,
            "left": null,
            "margin": null,
            "max_height": null,
            "max_width": null,
            "min_height": null,
            "min_width": null,
            "object_fit": null,
            "object_position": null,
            "order": null,
            "overflow": null,
            "overflow_x": null,
            "overflow_y": null,
            "padding": null,
            "right": null,
            "top": null,
            "visibility": null,
            "width": null
          }
        },
        "e1557e7451c54337a6ea8f41630387d3": {
          "model_module": "@jupyter-widgets/controls",
          "model_name": "ProgressStyleModel",
          "model_module_version": "1.5.0",
          "state": {
            "_model_module": "@jupyter-widgets/controls",
            "_model_module_version": "1.5.0",
            "_model_name": "ProgressStyleModel",
            "_view_count": null,
            "_view_module": "@jupyter-widgets/base",
            "_view_module_version": "1.2.0",
            "_view_name": "StyleView",
            "bar_color": null,
            "description_width": ""
          }
        },
        "166e96d21bc94baab5eba7de194c498e": {
          "model_module": "@jupyter-widgets/base",
          "model_name": "LayoutModel",
          "model_module_version": "1.2.0",
          "state": {
            "_model_module": "@jupyter-widgets/base",
            "_model_module_version": "1.2.0",
            "_model_name": "LayoutModel",
            "_view_count": null,
            "_view_module": "@jupyter-widgets/base",
            "_view_module_version": "1.2.0",
            "_view_name": "LayoutView",
            "align_content": null,
            "align_items": null,
            "align_self": null,
            "border": null,
            "bottom": null,
            "display": null,
            "flex": null,
            "flex_flow": null,
            "grid_area": null,
            "grid_auto_columns": null,
            "grid_auto_flow": null,
            "grid_auto_rows": null,
            "grid_column": null,
            "grid_gap": null,
            "grid_row": null,
            "grid_template_areas": null,
            "grid_template_columns": null,
            "grid_template_rows": null,
            "height": null,
            "justify_content": null,
            "justify_items": null,
            "left": null,
            "margin": null,
            "max_height": null,
            "max_width": null,
            "min_height": null,
            "min_width": null,
            "object_fit": null,
            "object_position": null,
            "order": null,
            "overflow": null,
            "overflow_x": null,
            "overflow_y": null,
            "padding": null,
            "right": null,
            "top": null,
            "visibility": null,
            "width": null
          }
        },
        "3efe023b3f7740809c997a3b2b4a97ee": {
          "model_module": "@jupyter-widgets/controls",
          "model_name": "DescriptionStyleModel",
          "model_module_version": "1.5.0",
          "state": {
            "_model_module": "@jupyter-widgets/controls",
            "_model_module_version": "1.5.0",
            "_model_name": "DescriptionStyleModel",
            "_view_count": null,
            "_view_module": "@jupyter-widgets/base",
            "_view_module_version": "1.2.0",
            "_view_name": "StyleView",
            "description_width": ""
          }
        },
        "04a9bfdd2dc24d0ea4741f7e25e0050d": {
          "model_module": "@jupyter-widgets/controls",
          "model_name": "HBoxModel",
          "model_module_version": "1.5.0",
          "state": {
            "_dom_classes": [],
            "_model_module": "@jupyter-widgets/controls",
            "_model_module_version": "1.5.0",
            "_model_name": "HBoxModel",
            "_view_count": null,
            "_view_module": "@jupyter-widgets/controls",
            "_view_module_version": "1.5.0",
            "_view_name": "HBoxView",
            "box_style": "",
            "children": [
              "IPY_MODEL_f02db6bb269c49bfa8182abcd81d421f",
              "IPY_MODEL_927da627b36d403a852b3b8b28fe2f0f",
              "IPY_MODEL_f6c93a09a6774e53bef8a4d6245a2550"
            ],
            "layout": "IPY_MODEL_9555a6f41f4d405d8bbeb1307acbaf55"
          }
        },
        "f02db6bb269c49bfa8182abcd81d421f": {
          "model_module": "@jupyter-widgets/controls",
          "model_name": "HTMLModel",
          "model_module_version": "1.5.0",
          "state": {
            "_dom_classes": [],
            "_model_module": "@jupyter-widgets/controls",
            "_model_module_version": "1.5.0",
            "_model_name": "HTMLModel",
            "_view_count": null,
            "_view_module": "@jupyter-widgets/controls",
            "_view_module_version": "1.5.0",
            "_view_name": "HTMLView",
            "description": "",
            "description_tooltip": null,
            "layout": "IPY_MODEL_63670e2cd3f14e3c9d4106e7c907aea3",
            "placeholder": "​",
            "style": "IPY_MODEL_a844947978734e2095d46f00dd4fb0f5",
            "value": "vocab.txt: 100%"
          }
        },
        "927da627b36d403a852b3b8b28fe2f0f": {
          "model_module": "@jupyter-widgets/controls",
          "model_name": "FloatProgressModel",
          "model_module_version": "1.5.0",
          "state": {
            "_dom_classes": [],
            "_model_module": "@jupyter-widgets/controls",
            "_model_module_version": "1.5.0",
            "_model_name": "FloatProgressModel",
            "_view_count": null,
            "_view_module": "@jupyter-widgets/controls",
            "_view_module_version": "1.5.0",
            "_view_name": "ProgressView",
            "bar_style": "success",
            "description": "",
            "description_tooltip": null,
            "layout": "IPY_MODEL_73e79c484d154d99bf5ddb6f46e25c27",
            "max": 231508,
            "min": 0,
            "orientation": "horizontal",
            "style": "IPY_MODEL_3bd1c1fd98bc4bcdba4f18a95ae70d7b",
            "value": 231508
          }
        },
        "f6c93a09a6774e53bef8a4d6245a2550": {
          "model_module": "@jupyter-widgets/controls",
          "model_name": "HTMLModel",
          "model_module_version": "1.5.0",
          "state": {
            "_dom_classes": [],
            "_model_module": "@jupyter-widgets/controls",
            "_model_module_version": "1.5.0",
            "_model_name": "HTMLModel",
            "_view_count": null,
            "_view_module": "@jupyter-widgets/controls",
            "_view_module_version": "1.5.0",
            "_view_name": "HTMLView",
            "description": "",
            "description_tooltip": null,
            "layout": "IPY_MODEL_99241ac223984807ae9e5dd7c22f0ae2",
            "placeholder": "​",
            "style": "IPY_MODEL_1bf1f176fea9477b8056582aaceb7391",
            "value": " 232k/232k [00:00&lt;00:00, 2.90MB/s]"
          }
        },
        "9555a6f41f4d405d8bbeb1307acbaf55": {
          "model_module": "@jupyter-widgets/base",
          "model_name": "LayoutModel",
          "model_module_version": "1.2.0",
          "state": {
            "_model_module": "@jupyter-widgets/base",
            "_model_module_version": "1.2.0",
            "_model_name": "LayoutModel",
            "_view_count": null,
            "_view_module": "@jupyter-widgets/base",
            "_view_module_version": "1.2.0",
            "_view_name": "LayoutView",
            "align_content": null,
            "align_items": null,
            "align_self": null,
            "border": null,
            "bottom": null,
            "display": null,
            "flex": null,
            "flex_flow": null,
            "grid_area": null,
            "grid_auto_columns": null,
            "grid_auto_flow": null,
            "grid_auto_rows": null,
            "grid_column": null,
            "grid_gap": null,
            "grid_row": null,
            "grid_template_areas": null,
            "grid_template_columns": null,
            "grid_template_rows": null,
            "height": null,
            "justify_content": null,
            "justify_items": null,
            "left": null,
            "margin": null,
            "max_height": null,
            "max_width": null,
            "min_height": null,
            "min_width": null,
            "object_fit": null,
            "object_position": null,
            "order": null,
            "overflow": null,
            "overflow_x": null,
            "overflow_y": null,
            "padding": null,
            "right": null,
            "top": null,
            "visibility": null,
            "width": null
          }
        },
        "63670e2cd3f14e3c9d4106e7c907aea3": {
          "model_module": "@jupyter-widgets/base",
          "model_name": "LayoutModel",
          "model_module_version": "1.2.0",
          "state": {
            "_model_module": "@jupyter-widgets/base",
            "_model_module_version": "1.2.0",
            "_model_name": "LayoutModel",
            "_view_count": null,
            "_view_module": "@jupyter-widgets/base",
            "_view_module_version": "1.2.0",
            "_view_name": "LayoutView",
            "align_content": null,
            "align_items": null,
            "align_self": null,
            "border": null,
            "bottom": null,
            "display": null,
            "flex": null,
            "flex_flow": null,
            "grid_area": null,
            "grid_auto_columns": null,
            "grid_auto_flow": null,
            "grid_auto_rows": null,
            "grid_column": null,
            "grid_gap": null,
            "grid_row": null,
            "grid_template_areas": null,
            "grid_template_columns": null,
            "grid_template_rows": null,
            "height": null,
            "justify_content": null,
            "justify_items": null,
            "left": null,
            "margin": null,
            "max_height": null,
            "max_width": null,
            "min_height": null,
            "min_width": null,
            "object_fit": null,
            "object_position": null,
            "order": null,
            "overflow": null,
            "overflow_x": null,
            "overflow_y": null,
            "padding": null,
            "right": null,
            "top": null,
            "visibility": null,
            "width": null
          }
        },
        "a844947978734e2095d46f00dd4fb0f5": {
          "model_module": "@jupyter-widgets/controls",
          "model_name": "DescriptionStyleModel",
          "model_module_version": "1.5.0",
          "state": {
            "_model_module": "@jupyter-widgets/controls",
            "_model_module_version": "1.5.0",
            "_model_name": "DescriptionStyleModel",
            "_view_count": null,
            "_view_module": "@jupyter-widgets/base",
            "_view_module_version": "1.2.0",
            "_view_name": "StyleView",
            "description_width": ""
          }
        },
        "73e79c484d154d99bf5ddb6f46e25c27": {
          "model_module": "@jupyter-widgets/base",
          "model_name": "LayoutModel",
          "model_module_version": "1.2.0",
          "state": {
            "_model_module": "@jupyter-widgets/base",
            "_model_module_version": "1.2.0",
            "_model_name": "LayoutModel",
            "_view_count": null,
            "_view_module": "@jupyter-widgets/base",
            "_view_module_version": "1.2.0",
            "_view_name": "LayoutView",
            "align_content": null,
            "align_items": null,
            "align_self": null,
            "border": null,
            "bottom": null,
            "display": null,
            "flex": null,
            "flex_flow": null,
            "grid_area": null,
            "grid_auto_columns": null,
            "grid_auto_flow": null,
            "grid_auto_rows": null,
            "grid_column": null,
            "grid_gap": null,
            "grid_row": null,
            "grid_template_areas": null,
            "grid_template_columns": null,
            "grid_template_rows": null,
            "height": null,
            "justify_content": null,
            "justify_items": null,
            "left": null,
            "margin": null,
            "max_height": null,
            "max_width": null,
            "min_height": null,
            "min_width": null,
            "object_fit": null,
            "object_position": null,
            "order": null,
            "overflow": null,
            "overflow_x": null,
            "overflow_y": null,
            "padding": null,
            "right": null,
            "top": null,
            "visibility": null,
            "width": null
          }
        },
        "3bd1c1fd98bc4bcdba4f18a95ae70d7b": {
          "model_module": "@jupyter-widgets/controls",
          "model_name": "ProgressStyleModel",
          "model_module_version": "1.5.0",
          "state": {
            "_model_module": "@jupyter-widgets/controls",
            "_model_module_version": "1.5.0",
            "_model_name": "ProgressStyleModel",
            "_view_count": null,
            "_view_module": "@jupyter-widgets/base",
            "_view_module_version": "1.2.0",
            "_view_name": "StyleView",
            "bar_color": null,
            "description_width": ""
          }
        },
        "99241ac223984807ae9e5dd7c22f0ae2": {
          "model_module": "@jupyter-widgets/base",
          "model_name": "LayoutModel",
          "model_module_version": "1.2.0",
          "state": {
            "_model_module": "@jupyter-widgets/base",
            "_model_module_version": "1.2.0",
            "_model_name": "LayoutModel",
            "_view_count": null,
            "_view_module": "@jupyter-widgets/base",
            "_view_module_version": "1.2.0",
            "_view_name": "LayoutView",
            "align_content": null,
            "align_items": null,
            "align_self": null,
            "border": null,
            "bottom": null,
            "display": null,
            "flex": null,
            "flex_flow": null,
            "grid_area": null,
            "grid_auto_columns": null,
            "grid_auto_flow": null,
            "grid_auto_rows": null,
            "grid_column": null,
            "grid_gap": null,
            "grid_row": null,
            "grid_template_areas": null,
            "grid_template_columns": null,
            "grid_template_rows": null,
            "height": null,
            "justify_content": null,
            "justify_items": null,
            "left": null,
            "margin": null,
            "max_height": null,
            "max_width": null,
            "min_height": null,
            "min_width": null,
            "object_fit": null,
            "object_position": null,
            "order": null,
            "overflow": null,
            "overflow_x": null,
            "overflow_y": null,
            "padding": null,
            "right": null,
            "top": null,
            "visibility": null,
            "width": null
          }
        },
        "1bf1f176fea9477b8056582aaceb7391": {
          "model_module": "@jupyter-widgets/controls",
          "model_name": "DescriptionStyleModel",
          "model_module_version": "1.5.0",
          "state": {
            "_model_module": "@jupyter-widgets/controls",
            "_model_module_version": "1.5.0",
            "_model_name": "DescriptionStyleModel",
            "_view_count": null,
            "_view_module": "@jupyter-widgets/base",
            "_view_module_version": "1.2.0",
            "_view_name": "StyleView",
            "description_width": ""
          }
        },
        "9515bf9d583a401cbebef0fb974806aa": {
          "model_module": "@jupyter-widgets/controls",
          "model_name": "HBoxModel",
          "model_module_version": "1.5.0",
          "state": {
            "_dom_classes": [],
            "_model_module": "@jupyter-widgets/controls",
            "_model_module_version": "1.5.0",
            "_model_name": "HBoxModel",
            "_view_count": null,
            "_view_module": "@jupyter-widgets/controls",
            "_view_module_version": "1.5.0",
            "_view_name": "HBoxView",
            "box_style": "",
            "children": [
              "IPY_MODEL_c517a21aa1f54664a9353cda9ee56a87",
              "IPY_MODEL_c360b5902db64ce1ad07e291dd338fdb",
              "IPY_MODEL_aaf97141dbae4f6c8db8d044c4a009cc"
            ],
            "layout": "IPY_MODEL_12a92b9afae94eb89b69d5b4378d6b90"
          }
        },
        "c517a21aa1f54664a9353cda9ee56a87": {
          "model_module": "@jupyter-widgets/controls",
          "model_name": "HTMLModel",
          "model_module_version": "1.5.0",
          "state": {
            "_dom_classes": [],
            "_model_module": "@jupyter-widgets/controls",
            "_model_module_version": "1.5.0",
            "_model_name": "HTMLModel",
            "_view_count": null,
            "_view_module": "@jupyter-widgets/controls",
            "_view_module_version": "1.5.0",
            "_view_name": "HTMLView",
            "description": "",
            "description_tooltip": null,
            "layout": "IPY_MODEL_6c0af766583e436fad48e4e1fe3f6fc1",
            "placeholder": "​",
            "style": "IPY_MODEL_e80ca9678d084a2688358fd3ef6369e4",
            "value": "tokenizer.json: 100%"
          }
        },
        "c360b5902db64ce1ad07e291dd338fdb": {
          "model_module": "@jupyter-widgets/controls",
          "model_name": "FloatProgressModel",
          "model_module_version": "1.5.0",
          "state": {
            "_dom_classes": [],
            "_model_module": "@jupyter-widgets/controls",
            "_model_module_version": "1.5.0",
            "_model_name": "FloatProgressModel",
            "_view_count": null,
            "_view_module": "@jupyter-widgets/controls",
            "_view_module_version": "1.5.0",
            "_view_name": "ProgressView",
            "bar_style": "success",
            "description": "",
            "description_tooltip": null,
            "layout": "IPY_MODEL_8eced9d3eba04e75817d75ea1da1c698",
            "max": 466247,
            "min": 0,
            "orientation": "horizontal",
            "style": "IPY_MODEL_f27fae75192b4722bb83e8c546c7896c",
            "value": 466247
          }
        },
        "aaf97141dbae4f6c8db8d044c4a009cc": {
          "model_module": "@jupyter-widgets/controls",
          "model_name": "HTMLModel",
          "model_module_version": "1.5.0",
          "state": {
            "_dom_classes": [],
            "_model_module": "@jupyter-widgets/controls",
            "_model_module_version": "1.5.0",
            "_model_name": "HTMLModel",
            "_view_count": null,
            "_view_module": "@jupyter-widgets/controls",
            "_view_module_version": "1.5.0",
            "_view_name": "HTMLView",
            "description": "",
            "description_tooltip": null,
            "layout": "IPY_MODEL_35b26872155742739fe1d3ca36b1f213",
            "placeholder": "​",
            "style": "IPY_MODEL_35fef3233b444b4b9293f34020fac4d1",
            "value": " 466k/466k [00:00&lt;00:00, 5.35MB/s]"
          }
        },
        "12a92b9afae94eb89b69d5b4378d6b90": {
          "model_module": "@jupyter-widgets/base",
          "model_name": "LayoutModel",
          "model_module_version": "1.2.0",
          "state": {
            "_model_module": "@jupyter-widgets/base",
            "_model_module_version": "1.2.0",
            "_model_name": "LayoutModel",
            "_view_count": null,
            "_view_module": "@jupyter-widgets/base",
            "_view_module_version": "1.2.0",
            "_view_name": "LayoutView",
            "align_content": null,
            "align_items": null,
            "align_self": null,
            "border": null,
            "bottom": null,
            "display": null,
            "flex": null,
            "flex_flow": null,
            "grid_area": null,
            "grid_auto_columns": null,
            "grid_auto_flow": null,
            "grid_auto_rows": null,
            "grid_column": null,
            "grid_gap": null,
            "grid_row": null,
            "grid_template_areas": null,
            "grid_template_columns": null,
            "grid_template_rows": null,
            "height": null,
            "justify_content": null,
            "justify_items": null,
            "left": null,
            "margin": null,
            "max_height": null,
            "max_width": null,
            "min_height": null,
            "min_width": null,
            "object_fit": null,
            "object_position": null,
            "order": null,
            "overflow": null,
            "overflow_x": null,
            "overflow_y": null,
            "padding": null,
            "right": null,
            "top": null,
            "visibility": null,
            "width": null
          }
        },
        "6c0af766583e436fad48e4e1fe3f6fc1": {
          "model_module": "@jupyter-widgets/base",
          "model_name": "LayoutModel",
          "model_module_version": "1.2.0",
          "state": {
            "_model_module": "@jupyter-widgets/base",
            "_model_module_version": "1.2.0",
            "_model_name": "LayoutModel",
            "_view_count": null,
            "_view_module": "@jupyter-widgets/base",
            "_view_module_version": "1.2.0",
            "_view_name": "LayoutView",
            "align_content": null,
            "align_items": null,
            "align_self": null,
            "border": null,
            "bottom": null,
            "display": null,
            "flex": null,
            "flex_flow": null,
            "grid_area": null,
            "grid_auto_columns": null,
            "grid_auto_flow": null,
            "grid_auto_rows": null,
            "grid_column": null,
            "grid_gap": null,
            "grid_row": null,
            "grid_template_areas": null,
            "grid_template_columns": null,
            "grid_template_rows": null,
            "height": null,
            "justify_content": null,
            "justify_items": null,
            "left": null,
            "margin": null,
            "max_height": null,
            "max_width": null,
            "min_height": null,
            "min_width": null,
            "object_fit": null,
            "object_position": null,
            "order": null,
            "overflow": null,
            "overflow_x": null,
            "overflow_y": null,
            "padding": null,
            "right": null,
            "top": null,
            "visibility": null,
            "width": null
          }
        },
        "e80ca9678d084a2688358fd3ef6369e4": {
          "model_module": "@jupyter-widgets/controls",
          "model_name": "DescriptionStyleModel",
          "model_module_version": "1.5.0",
          "state": {
            "_model_module": "@jupyter-widgets/controls",
            "_model_module_version": "1.5.0",
            "_model_name": "DescriptionStyleModel",
            "_view_count": null,
            "_view_module": "@jupyter-widgets/base",
            "_view_module_version": "1.2.0",
            "_view_name": "StyleView",
            "description_width": ""
          }
        },
        "8eced9d3eba04e75817d75ea1da1c698": {
          "model_module": "@jupyter-widgets/base",
          "model_name": "LayoutModel",
          "model_module_version": "1.2.0",
          "state": {
            "_model_module": "@jupyter-widgets/base",
            "_model_module_version": "1.2.0",
            "_model_name": "LayoutModel",
            "_view_count": null,
            "_view_module": "@jupyter-widgets/base",
            "_view_module_version": "1.2.0",
            "_view_name": "LayoutView",
            "align_content": null,
            "align_items": null,
            "align_self": null,
            "border": null,
            "bottom": null,
            "display": null,
            "flex": null,
            "flex_flow": null,
            "grid_area": null,
            "grid_auto_columns": null,
            "grid_auto_flow": null,
            "grid_auto_rows": null,
            "grid_column": null,
            "grid_gap": null,
            "grid_row": null,
            "grid_template_areas": null,
            "grid_template_columns": null,
            "grid_template_rows": null,
            "height": null,
            "justify_content": null,
            "justify_items": null,
            "left": null,
            "margin": null,
            "max_height": null,
            "max_width": null,
            "min_height": null,
            "min_width": null,
            "object_fit": null,
            "object_position": null,
            "order": null,
            "overflow": null,
            "overflow_x": null,
            "overflow_y": null,
            "padding": null,
            "right": null,
            "top": null,
            "visibility": null,
            "width": null
          }
        },
        "f27fae75192b4722bb83e8c546c7896c": {
          "model_module": "@jupyter-widgets/controls",
          "model_name": "ProgressStyleModel",
          "model_module_version": "1.5.0",
          "state": {
            "_model_module": "@jupyter-widgets/controls",
            "_model_module_version": "1.5.0",
            "_model_name": "ProgressStyleModel",
            "_view_count": null,
            "_view_module": "@jupyter-widgets/base",
            "_view_module_version": "1.2.0",
            "_view_name": "StyleView",
            "bar_color": null,
            "description_width": ""
          }
        },
        "35b26872155742739fe1d3ca36b1f213": {
          "model_module": "@jupyter-widgets/base",
          "model_name": "LayoutModel",
          "model_module_version": "1.2.0",
          "state": {
            "_model_module": "@jupyter-widgets/base",
            "_model_module_version": "1.2.0",
            "_model_name": "LayoutModel",
            "_view_count": null,
            "_view_module": "@jupyter-widgets/base",
            "_view_module_version": "1.2.0",
            "_view_name": "LayoutView",
            "align_content": null,
            "align_items": null,
            "align_self": null,
            "border": null,
            "bottom": null,
            "display": null,
            "flex": null,
            "flex_flow": null,
            "grid_area": null,
            "grid_auto_columns": null,
            "grid_auto_flow": null,
            "grid_auto_rows": null,
            "grid_column": null,
            "grid_gap": null,
            "grid_row": null,
            "grid_template_areas": null,
            "grid_template_columns": null,
            "grid_template_rows": null,
            "height": null,
            "justify_content": null,
            "justify_items": null,
            "left": null,
            "margin": null,
            "max_height": null,
            "max_width": null,
            "min_height": null,
            "min_width": null,
            "object_fit": null,
            "object_position": null,
            "order": null,
            "overflow": null,
            "overflow_x": null,
            "overflow_y": null,
            "padding": null,
            "right": null,
            "top": null,
            "visibility": null,
            "width": null
          }
        },
        "35fef3233b444b4b9293f34020fac4d1": {
          "model_module": "@jupyter-widgets/controls",
          "model_name": "DescriptionStyleModel",
          "model_module_version": "1.5.0",
          "state": {
            "_model_module": "@jupyter-widgets/controls",
            "_model_module_version": "1.5.0",
            "_model_name": "DescriptionStyleModel",
            "_view_count": null,
            "_view_module": "@jupyter-widgets/base",
            "_view_module_version": "1.2.0",
            "_view_name": "StyleView",
            "description_width": ""
          }
        },
        "63ca6e262b23435f870300422dc979b6": {
          "model_module": "@jupyter-widgets/controls",
          "model_name": "HBoxModel",
          "model_module_version": "1.5.0",
          "state": {
            "_dom_classes": [],
            "_model_module": "@jupyter-widgets/controls",
            "_model_module_version": "1.5.0",
            "_model_name": "HBoxModel",
            "_view_count": null,
            "_view_module": "@jupyter-widgets/controls",
            "_view_module_version": "1.5.0",
            "_view_name": "HBoxView",
            "box_style": "",
            "children": [
              "IPY_MODEL_ff987cfbc8ba4c9099a363caae9c14cd",
              "IPY_MODEL_07f215ee9d5e41cea21826e52e6a2259",
              "IPY_MODEL_e82d7c18b79a4c3eb53baa259f40810a"
            ],
            "layout": "IPY_MODEL_1d7da468b683417291a5819c8d99f9a8"
          }
        },
        "ff987cfbc8ba4c9099a363caae9c14cd": {
          "model_module": "@jupyter-widgets/controls",
          "model_name": "HTMLModel",
          "model_module_version": "1.5.0",
          "state": {
            "_dom_classes": [],
            "_model_module": "@jupyter-widgets/controls",
            "_model_module_version": "1.5.0",
            "_model_name": "HTMLModel",
            "_view_count": null,
            "_view_module": "@jupyter-widgets/controls",
            "_view_module_version": "1.5.0",
            "_view_name": "HTMLView",
            "description": "",
            "description_tooltip": null,
            "layout": "IPY_MODEL_a4b7e7021ffb43b581544e7ca0309340",
            "placeholder": "​",
            "style": "IPY_MODEL_e4771465e0c246d9b3c45d40f126a178",
            "value": "special_tokens_map.json: 100%"
          }
        },
        "07f215ee9d5e41cea21826e52e6a2259": {
          "model_module": "@jupyter-widgets/controls",
          "model_name": "FloatProgressModel",
          "model_module_version": "1.5.0",
          "state": {
            "_dom_classes": [],
            "_model_module": "@jupyter-widgets/controls",
            "_model_module_version": "1.5.0",
            "_model_name": "FloatProgressModel",
            "_view_count": null,
            "_view_module": "@jupyter-widgets/controls",
            "_view_module_version": "1.5.0",
            "_view_name": "ProgressView",
            "bar_style": "success",
            "description": "",
            "description_tooltip": null,
            "layout": "IPY_MODEL_784685e2e2bc403ba2d961e8120b4712",
            "max": 112,
            "min": 0,
            "orientation": "horizontal",
            "style": "IPY_MODEL_18db85c3914a4c91aa04f53bb1ab2784",
            "value": 112
          }
        },
        "e82d7c18b79a4c3eb53baa259f40810a": {
          "model_module": "@jupyter-widgets/controls",
          "model_name": "HTMLModel",
          "model_module_version": "1.5.0",
          "state": {
            "_dom_classes": [],
            "_model_module": "@jupyter-widgets/controls",
            "_model_module_version": "1.5.0",
            "_model_name": "HTMLModel",
            "_view_count": null,
            "_view_module": "@jupyter-widgets/controls",
            "_view_module_version": "1.5.0",
            "_view_name": "HTMLView",
            "description": "",
            "description_tooltip": null,
            "layout": "IPY_MODEL_d8d24b3419e648d491e3976e19603ca7",
            "placeholder": "​",
            "style": "IPY_MODEL_f81fbf30ce04496e82565bd62203f93f",
            "value": " 112/112 [00:00&lt;00:00, 4.64kB/s]"
          }
        },
        "1d7da468b683417291a5819c8d99f9a8": {
          "model_module": "@jupyter-widgets/base",
          "model_name": "LayoutModel",
          "model_module_version": "1.2.0",
          "state": {
            "_model_module": "@jupyter-widgets/base",
            "_model_module_version": "1.2.0",
            "_model_name": "LayoutModel",
            "_view_count": null,
            "_view_module": "@jupyter-widgets/base",
            "_view_module_version": "1.2.0",
            "_view_name": "LayoutView",
            "align_content": null,
            "align_items": null,
            "align_self": null,
            "border": null,
            "bottom": null,
            "display": null,
            "flex": null,
            "flex_flow": null,
            "grid_area": null,
            "grid_auto_columns": null,
            "grid_auto_flow": null,
            "grid_auto_rows": null,
            "grid_column": null,
            "grid_gap": null,
            "grid_row": null,
            "grid_template_areas": null,
            "grid_template_columns": null,
            "grid_template_rows": null,
            "height": null,
            "justify_content": null,
            "justify_items": null,
            "left": null,
            "margin": null,
            "max_height": null,
            "max_width": null,
            "min_height": null,
            "min_width": null,
            "object_fit": null,
            "object_position": null,
            "order": null,
            "overflow": null,
            "overflow_x": null,
            "overflow_y": null,
            "padding": null,
            "right": null,
            "top": null,
            "visibility": null,
            "width": null
          }
        },
        "a4b7e7021ffb43b581544e7ca0309340": {
          "model_module": "@jupyter-widgets/base",
          "model_name": "LayoutModel",
          "model_module_version": "1.2.0",
          "state": {
            "_model_module": "@jupyter-widgets/base",
            "_model_module_version": "1.2.0",
            "_model_name": "LayoutModel",
            "_view_count": null,
            "_view_module": "@jupyter-widgets/base",
            "_view_module_version": "1.2.0",
            "_view_name": "LayoutView",
            "align_content": null,
            "align_items": null,
            "align_self": null,
            "border": null,
            "bottom": null,
            "display": null,
            "flex": null,
            "flex_flow": null,
            "grid_area": null,
            "grid_auto_columns": null,
            "grid_auto_flow": null,
            "grid_auto_rows": null,
            "grid_column": null,
            "grid_gap": null,
            "grid_row": null,
            "grid_template_areas": null,
            "grid_template_columns": null,
            "grid_template_rows": null,
            "height": null,
            "justify_content": null,
            "justify_items": null,
            "left": null,
            "margin": null,
            "max_height": null,
            "max_width": null,
            "min_height": null,
            "min_width": null,
            "object_fit": null,
            "object_position": null,
            "order": null,
            "overflow": null,
            "overflow_x": null,
            "overflow_y": null,
            "padding": null,
            "right": null,
            "top": null,
            "visibility": null,
            "width": null
          }
        },
        "e4771465e0c246d9b3c45d40f126a178": {
          "model_module": "@jupyter-widgets/controls",
          "model_name": "DescriptionStyleModel",
          "model_module_version": "1.5.0",
          "state": {
            "_model_module": "@jupyter-widgets/controls",
            "_model_module_version": "1.5.0",
            "_model_name": "DescriptionStyleModel",
            "_view_count": null,
            "_view_module": "@jupyter-widgets/base",
            "_view_module_version": "1.2.0",
            "_view_name": "StyleView",
            "description_width": ""
          }
        },
        "784685e2e2bc403ba2d961e8120b4712": {
          "model_module": "@jupyter-widgets/base",
          "model_name": "LayoutModel",
          "model_module_version": "1.2.0",
          "state": {
            "_model_module": "@jupyter-widgets/base",
            "_model_module_version": "1.2.0",
            "_model_name": "LayoutModel",
            "_view_count": null,
            "_view_module": "@jupyter-widgets/base",
            "_view_module_version": "1.2.0",
            "_view_name": "LayoutView",
            "align_content": null,
            "align_items": null,
            "align_self": null,
            "border": null,
            "bottom": null,
            "display": null,
            "flex": null,
            "flex_flow": null,
            "grid_area": null,
            "grid_auto_columns": null,
            "grid_auto_flow": null,
            "grid_auto_rows": null,
            "grid_column": null,
            "grid_gap": null,
            "grid_row": null,
            "grid_template_areas": null,
            "grid_template_columns": null,
            "grid_template_rows": null,
            "height": null,
            "justify_content": null,
            "justify_items": null,
            "left": null,
            "margin": null,
            "max_height": null,
            "max_width": null,
            "min_height": null,
            "min_width": null,
            "object_fit": null,
            "object_position": null,
            "order": null,
            "overflow": null,
            "overflow_x": null,
            "overflow_y": null,
            "padding": null,
            "right": null,
            "top": null,
            "visibility": null,
            "width": null
          }
        },
        "18db85c3914a4c91aa04f53bb1ab2784": {
          "model_module": "@jupyter-widgets/controls",
          "model_name": "ProgressStyleModel",
          "model_module_version": "1.5.0",
          "state": {
            "_model_module": "@jupyter-widgets/controls",
            "_model_module_version": "1.5.0",
            "_model_name": "ProgressStyleModel",
            "_view_count": null,
            "_view_module": "@jupyter-widgets/base",
            "_view_module_version": "1.2.0",
            "_view_name": "StyleView",
            "bar_color": null,
            "description_width": ""
          }
        },
        "d8d24b3419e648d491e3976e19603ca7": {
          "model_module": "@jupyter-widgets/base",
          "model_name": "LayoutModel",
          "model_module_version": "1.2.0",
          "state": {
            "_model_module": "@jupyter-widgets/base",
            "_model_module_version": "1.2.0",
            "_model_name": "LayoutModel",
            "_view_count": null,
            "_view_module": "@jupyter-widgets/base",
            "_view_module_version": "1.2.0",
            "_view_name": "LayoutView",
            "align_content": null,
            "align_items": null,
            "align_self": null,
            "border": null,
            "bottom": null,
            "display": null,
            "flex": null,
            "flex_flow": null,
            "grid_area": null,
            "grid_auto_columns": null,
            "grid_auto_flow": null,
            "grid_auto_rows": null,
            "grid_column": null,
            "grid_gap": null,
            "grid_row": null,
            "grid_template_areas": null,
            "grid_template_columns": null,
            "grid_template_rows": null,
            "height": null,
            "justify_content": null,
            "justify_items": null,
            "left": null,
            "margin": null,
            "max_height": null,
            "max_width": null,
            "min_height": null,
            "min_width": null,
            "object_fit": null,
            "object_position": null,
            "order": null,
            "overflow": null,
            "overflow_x": null,
            "overflow_y": null,
            "padding": null,
            "right": null,
            "top": null,
            "visibility": null,
            "width": null
          }
        },
        "f81fbf30ce04496e82565bd62203f93f": {
          "model_module": "@jupyter-widgets/controls",
          "model_name": "DescriptionStyleModel",
          "model_module_version": "1.5.0",
          "state": {
            "_model_module": "@jupyter-widgets/controls",
            "_model_module_version": "1.5.0",
            "_model_name": "DescriptionStyleModel",
            "_view_count": null,
            "_view_module": "@jupyter-widgets/base",
            "_view_module_version": "1.2.0",
            "_view_name": "StyleView",
            "description_width": ""
          }
        },
        "320ee947af104010984f0814973fff65": {
          "model_module": "@jupyter-widgets/controls",
          "model_name": "HBoxModel",
          "model_module_version": "1.5.0",
          "state": {
            "_dom_classes": [],
            "_model_module": "@jupyter-widgets/controls",
            "_model_module_version": "1.5.0",
            "_model_name": "HBoxModel",
            "_view_count": null,
            "_view_module": "@jupyter-widgets/controls",
            "_view_module_version": "1.5.0",
            "_view_name": "HBoxView",
            "box_style": "",
            "children": [
              "IPY_MODEL_6bac8c213dd44989a25cb275f823574a",
              "IPY_MODEL_6842c6cb8a0a4c3aaffc52ac3aa00982",
              "IPY_MODEL_0c2f0f327a5d488eb864f2f2a8ab58d5"
            ],
            "layout": "IPY_MODEL_6b90f28fe2eb454fbcb1178c68c5f429"
          }
        },
        "6bac8c213dd44989a25cb275f823574a": {
          "model_module": "@jupyter-widgets/controls",
          "model_name": "HTMLModel",
          "model_module_version": "1.5.0",
          "state": {
            "_dom_classes": [],
            "_model_module": "@jupyter-widgets/controls",
            "_model_module_version": "1.5.0",
            "_model_name": "HTMLModel",
            "_view_count": null,
            "_view_module": "@jupyter-widgets/controls",
            "_view_module_version": "1.5.0",
            "_view_name": "HTMLView",
            "description": "",
            "description_tooltip": null,
            "layout": "IPY_MODEL_2b494392ba5143c2896564d3207081a6",
            "placeholder": "​",
            "style": "IPY_MODEL_4a179517151146508b5ab180620d156b",
            "value": "1_Pooling/config.json: 100%"
          }
        },
        "6842c6cb8a0a4c3aaffc52ac3aa00982": {
          "model_module": "@jupyter-widgets/controls",
          "model_name": "FloatProgressModel",
          "model_module_version": "1.5.0",
          "state": {
            "_dom_classes": [],
            "_model_module": "@jupyter-widgets/controls",
            "_model_module_version": "1.5.0",
            "_model_name": "FloatProgressModel",
            "_view_count": null,
            "_view_module": "@jupyter-widgets/controls",
            "_view_module_version": "1.5.0",
            "_view_name": "ProgressView",
            "bar_style": "success",
            "description": "",
            "description_tooltip": null,
            "layout": "IPY_MODEL_69e23703e9af4be699d68366268228df",
            "max": 190,
            "min": 0,
            "orientation": "horizontal",
            "style": "IPY_MODEL_adc867d781bf4912b5522c29e92faa93",
            "value": 190
          }
        },
        "0c2f0f327a5d488eb864f2f2a8ab58d5": {
          "model_module": "@jupyter-widgets/controls",
          "model_name": "HTMLModel",
          "model_module_version": "1.5.0",
          "state": {
            "_dom_classes": [],
            "_model_module": "@jupyter-widgets/controls",
            "_model_module_version": "1.5.0",
            "_model_name": "HTMLModel",
            "_view_count": null,
            "_view_module": "@jupyter-widgets/controls",
            "_view_module_version": "1.5.0",
            "_view_name": "HTMLView",
            "description": "",
            "description_tooltip": null,
            "layout": "IPY_MODEL_59abf3ee21d14356b80a0f60e022bf3d",
            "placeholder": "​",
            "style": "IPY_MODEL_b389ba0d3a274df49ba671339defdfa5",
            "value": " 190/190 [00:00&lt;00:00, 8.69kB/s]"
          }
        },
        "6b90f28fe2eb454fbcb1178c68c5f429": {
          "model_module": "@jupyter-widgets/base",
          "model_name": "LayoutModel",
          "model_module_version": "1.2.0",
          "state": {
            "_model_module": "@jupyter-widgets/base",
            "_model_module_version": "1.2.0",
            "_model_name": "LayoutModel",
            "_view_count": null,
            "_view_module": "@jupyter-widgets/base",
            "_view_module_version": "1.2.0",
            "_view_name": "LayoutView",
            "align_content": null,
            "align_items": null,
            "align_self": null,
            "border": null,
            "bottom": null,
            "display": null,
            "flex": null,
            "flex_flow": null,
            "grid_area": null,
            "grid_auto_columns": null,
            "grid_auto_flow": null,
            "grid_auto_rows": null,
            "grid_column": null,
            "grid_gap": null,
            "grid_row": null,
            "grid_template_areas": null,
            "grid_template_columns": null,
            "grid_template_rows": null,
            "height": null,
            "justify_content": null,
            "justify_items": null,
            "left": null,
            "margin": null,
            "max_height": null,
            "max_width": null,
            "min_height": null,
            "min_width": null,
            "object_fit": null,
            "object_position": null,
            "order": null,
            "overflow": null,
            "overflow_x": null,
            "overflow_y": null,
            "padding": null,
            "right": null,
            "top": null,
            "visibility": null,
            "width": null
          }
        },
        "2b494392ba5143c2896564d3207081a6": {
          "model_module": "@jupyter-widgets/base",
          "model_name": "LayoutModel",
          "model_module_version": "1.2.0",
          "state": {
            "_model_module": "@jupyter-widgets/base",
            "_model_module_version": "1.2.0",
            "_model_name": "LayoutModel",
            "_view_count": null,
            "_view_module": "@jupyter-widgets/base",
            "_view_module_version": "1.2.0",
            "_view_name": "LayoutView",
            "align_content": null,
            "align_items": null,
            "align_self": null,
            "border": null,
            "bottom": null,
            "display": null,
            "flex": null,
            "flex_flow": null,
            "grid_area": null,
            "grid_auto_columns": null,
            "grid_auto_flow": null,
            "grid_auto_rows": null,
            "grid_column": null,
            "grid_gap": null,
            "grid_row": null,
            "grid_template_areas": null,
            "grid_template_columns": null,
            "grid_template_rows": null,
            "height": null,
            "justify_content": null,
            "justify_items": null,
            "left": null,
            "margin": null,
            "max_height": null,
            "max_width": null,
            "min_height": null,
            "min_width": null,
            "object_fit": null,
            "object_position": null,
            "order": null,
            "overflow": null,
            "overflow_x": null,
            "overflow_y": null,
            "padding": null,
            "right": null,
            "top": null,
            "visibility": null,
            "width": null
          }
        },
        "4a179517151146508b5ab180620d156b": {
          "model_module": "@jupyter-widgets/controls",
          "model_name": "DescriptionStyleModel",
          "model_module_version": "1.5.0",
          "state": {
            "_model_module": "@jupyter-widgets/controls",
            "_model_module_version": "1.5.0",
            "_model_name": "DescriptionStyleModel",
            "_view_count": null,
            "_view_module": "@jupyter-widgets/base",
            "_view_module_version": "1.2.0",
            "_view_name": "StyleView",
            "description_width": ""
          }
        },
        "69e23703e9af4be699d68366268228df": {
          "model_module": "@jupyter-widgets/base",
          "model_name": "LayoutModel",
          "model_module_version": "1.2.0",
          "state": {
            "_model_module": "@jupyter-widgets/base",
            "_model_module_version": "1.2.0",
            "_model_name": "LayoutModel",
            "_view_count": null,
            "_view_module": "@jupyter-widgets/base",
            "_view_module_version": "1.2.0",
            "_view_name": "LayoutView",
            "align_content": null,
            "align_items": null,
            "align_self": null,
            "border": null,
            "bottom": null,
            "display": null,
            "flex": null,
            "flex_flow": null,
            "grid_area": null,
            "grid_auto_columns": null,
            "grid_auto_flow": null,
            "grid_auto_rows": null,
            "grid_column": null,
            "grid_gap": null,
            "grid_row": null,
            "grid_template_areas": null,
            "grid_template_columns": null,
            "grid_template_rows": null,
            "height": null,
            "justify_content": null,
            "justify_items": null,
            "left": null,
            "margin": null,
            "max_height": null,
            "max_width": null,
            "min_height": null,
            "min_width": null,
            "object_fit": null,
            "object_position": null,
            "order": null,
            "overflow": null,
            "overflow_x": null,
            "overflow_y": null,
            "padding": null,
            "right": null,
            "top": null,
            "visibility": null,
            "width": null
          }
        },
        "adc867d781bf4912b5522c29e92faa93": {
          "model_module": "@jupyter-widgets/controls",
          "model_name": "ProgressStyleModel",
          "model_module_version": "1.5.0",
          "state": {
            "_model_module": "@jupyter-widgets/controls",
            "_model_module_version": "1.5.0",
            "_model_name": "ProgressStyleModel",
            "_view_count": null,
            "_view_module": "@jupyter-widgets/base",
            "_view_module_version": "1.2.0",
            "_view_name": "StyleView",
            "bar_color": null,
            "description_width": ""
          }
        },
        "59abf3ee21d14356b80a0f60e022bf3d": {
          "model_module": "@jupyter-widgets/base",
          "model_name": "LayoutModel",
          "model_module_version": "1.2.0",
          "state": {
            "_model_module": "@jupyter-widgets/base",
            "_model_module_version": "1.2.0",
            "_model_name": "LayoutModel",
            "_view_count": null,
            "_view_module": "@jupyter-widgets/base",
            "_view_module_version": "1.2.0",
            "_view_name": "LayoutView",
            "align_content": null,
            "align_items": null,
            "align_self": null,
            "border": null,
            "bottom": null,
            "display": null,
            "flex": null,
            "flex_flow": null,
            "grid_area": null,
            "grid_auto_columns": null,
            "grid_auto_flow": null,
            "grid_auto_rows": null,
            "grid_column": null,
            "grid_gap": null,
            "grid_row": null,
            "grid_template_areas": null,
            "grid_template_columns": null,
            "grid_template_rows": null,
            "height": null,
            "justify_content": null,
            "justify_items": null,
            "left": null,
            "margin": null,
            "max_height": null,
            "max_width": null,
            "min_height": null,
            "min_width": null,
            "object_fit": null,
            "object_position": null,
            "order": null,
            "overflow": null,
            "overflow_x": null,
            "overflow_y": null,
            "padding": null,
            "right": null,
            "top": null,
            "visibility": null,
            "width": null
          }
        },
        "b389ba0d3a274df49ba671339defdfa5": {
          "model_module": "@jupyter-widgets/controls",
          "model_name": "DescriptionStyleModel",
          "model_module_version": "1.5.0",
          "state": {
            "_model_module": "@jupyter-widgets/controls",
            "_model_module_version": "1.5.0",
            "_model_name": "DescriptionStyleModel",
            "_view_count": null,
            "_view_module": "@jupyter-widgets/base",
            "_view_module_version": "1.2.0",
            "_view_name": "StyleView",
            "description_width": ""
          }
        },
        "c1daf1e1617c4d42b60a4a68baf09409": {
          "model_module": "@jupyter-widgets/controls",
          "model_name": "HBoxModel",
          "model_module_version": "1.5.0",
          "state": {
            "_dom_classes": [],
            "_model_module": "@jupyter-widgets/controls",
            "_model_module_version": "1.5.0",
            "_model_name": "HBoxModel",
            "_view_count": null,
            "_view_module": "@jupyter-widgets/controls",
            "_view_module_version": "1.5.0",
            "_view_name": "HBoxView",
            "box_style": "",
            "children": [
              "IPY_MODEL_a4cce779e1244e2aa5b4c1340856e5e7",
              "IPY_MODEL_08a9144d14b340e88b96e92bd62e2c0e",
              "IPY_MODEL_68d56302fc8747c79e0ae30a5497423c"
            ],
            "layout": "IPY_MODEL_6a1f9ab1e73041c0826a13077b69193c"
          }
        },
        "a4cce779e1244e2aa5b4c1340856e5e7": {
          "model_module": "@jupyter-widgets/controls",
          "model_name": "HTMLModel",
          "model_module_version": "1.5.0",
          "state": {
            "_dom_classes": [],
            "_model_module": "@jupyter-widgets/controls",
            "_model_module_version": "1.5.0",
            "_model_name": "HTMLModel",
            "_view_count": null,
            "_view_module": "@jupyter-widgets/controls",
            "_view_module_version": "1.5.0",
            "_view_name": "HTMLView",
            "description": "",
            "description_tooltip": null,
            "layout": "IPY_MODEL_4d87494544ff40109a265d9af74956f7",
            "placeholder": "​",
            "style": "IPY_MODEL_74d67591a409417a82f7849fd0541c2b",
            "value": "Batches: 100%"
          }
        },
        "08a9144d14b340e88b96e92bd62e2c0e": {
          "model_module": "@jupyter-widgets/controls",
          "model_name": "FloatProgressModel",
          "model_module_version": "1.5.0",
          "state": {
            "_dom_classes": [],
            "_model_module": "@jupyter-widgets/controls",
            "_model_module_version": "1.5.0",
            "_model_name": "FloatProgressModel",
            "_view_count": null,
            "_view_module": "@jupyter-widgets/controls",
            "_view_module_version": "1.5.0",
            "_view_name": "ProgressView",
            "bar_style": "success",
            "description": "",
            "description_tooltip": null,
            "layout": "IPY_MODEL_0c8fe021277c44c7a11cca7d819023fc",
            "max": 305,
            "min": 0,
            "orientation": "horizontal",
            "style": "IPY_MODEL_79245b42b0e6481d83288354219ed996",
            "value": 305
          }
        },
        "68d56302fc8747c79e0ae30a5497423c": {
          "model_module": "@jupyter-widgets/controls",
          "model_name": "HTMLModel",
          "model_module_version": "1.5.0",
          "state": {
            "_dom_classes": [],
            "_model_module": "@jupyter-widgets/controls",
            "_model_module_version": "1.5.0",
            "_model_name": "HTMLModel",
            "_view_count": null,
            "_view_module": "@jupyter-widgets/controls",
            "_view_module_version": "1.5.0",
            "_view_name": "HTMLView",
            "description": "",
            "description_tooltip": null,
            "layout": "IPY_MODEL_d12947cc4288499690494ffc9d2d6ede",
            "placeholder": "​",
            "style": "IPY_MODEL_f2e0504ff8364f10a59c2c910a4964ec",
            "value": " 305/305 [01:02&lt;00:00,  8.82it/s]"
          }
        },
        "6a1f9ab1e73041c0826a13077b69193c": {
          "model_module": "@jupyter-widgets/base",
          "model_name": "LayoutModel",
          "model_module_version": "1.2.0",
          "state": {
            "_model_module": "@jupyter-widgets/base",
            "_model_module_version": "1.2.0",
            "_model_name": "LayoutModel",
            "_view_count": null,
            "_view_module": "@jupyter-widgets/base",
            "_view_module_version": "1.2.0",
            "_view_name": "LayoutView",
            "align_content": null,
            "align_items": null,
            "align_self": null,
            "border": null,
            "bottom": null,
            "display": null,
            "flex": null,
            "flex_flow": null,
            "grid_area": null,
            "grid_auto_columns": null,
            "grid_auto_flow": null,
            "grid_auto_rows": null,
            "grid_column": null,
            "grid_gap": null,
            "grid_row": null,
            "grid_template_areas": null,
            "grid_template_columns": null,
            "grid_template_rows": null,
            "height": null,
            "justify_content": null,
            "justify_items": null,
            "left": null,
            "margin": null,
            "max_height": null,
            "max_width": null,
            "min_height": null,
            "min_width": null,
            "object_fit": null,
            "object_position": null,
            "order": null,
            "overflow": null,
            "overflow_x": null,
            "overflow_y": null,
            "padding": null,
            "right": null,
            "top": null,
            "visibility": null,
            "width": null
          }
        },
        "4d87494544ff40109a265d9af74956f7": {
          "model_module": "@jupyter-widgets/base",
          "model_name": "LayoutModel",
          "model_module_version": "1.2.0",
          "state": {
            "_model_module": "@jupyter-widgets/base",
            "_model_module_version": "1.2.0",
            "_model_name": "LayoutModel",
            "_view_count": null,
            "_view_module": "@jupyter-widgets/base",
            "_view_module_version": "1.2.0",
            "_view_name": "LayoutView",
            "align_content": null,
            "align_items": null,
            "align_self": null,
            "border": null,
            "bottom": null,
            "display": null,
            "flex": null,
            "flex_flow": null,
            "grid_area": null,
            "grid_auto_columns": null,
            "grid_auto_flow": null,
            "grid_auto_rows": null,
            "grid_column": null,
            "grid_gap": null,
            "grid_row": null,
            "grid_template_areas": null,
            "grid_template_columns": null,
            "grid_template_rows": null,
            "height": null,
            "justify_content": null,
            "justify_items": null,
            "left": null,
            "margin": null,
            "max_height": null,
            "max_width": null,
            "min_height": null,
            "min_width": null,
            "object_fit": null,
            "object_position": null,
            "order": null,
            "overflow": null,
            "overflow_x": null,
            "overflow_y": null,
            "padding": null,
            "right": null,
            "top": null,
            "visibility": null,
            "width": null
          }
        },
        "74d67591a409417a82f7849fd0541c2b": {
          "model_module": "@jupyter-widgets/controls",
          "model_name": "DescriptionStyleModel",
          "model_module_version": "1.5.0",
          "state": {
            "_model_module": "@jupyter-widgets/controls",
            "_model_module_version": "1.5.0",
            "_model_name": "DescriptionStyleModel",
            "_view_count": null,
            "_view_module": "@jupyter-widgets/base",
            "_view_module_version": "1.2.0",
            "_view_name": "StyleView",
            "description_width": ""
          }
        },
        "0c8fe021277c44c7a11cca7d819023fc": {
          "model_module": "@jupyter-widgets/base",
          "model_name": "LayoutModel",
          "model_module_version": "1.2.0",
          "state": {
            "_model_module": "@jupyter-widgets/base",
            "_model_module_version": "1.2.0",
            "_model_name": "LayoutModel",
            "_view_count": null,
            "_view_module": "@jupyter-widgets/base",
            "_view_module_version": "1.2.0",
            "_view_name": "LayoutView",
            "align_content": null,
            "align_items": null,
            "align_self": null,
            "border": null,
            "bottom": null,
            "display": null,
            "flex": null,
            "flex_flow": null,
            "grid_area": null,
            "grid_auto_columns": null,
            "grid_auto_flow": null,
            "grid_auto_rows": null,
            "grid_column": null,
            "grid_gap": null,
            "grid_row": null,
            "grid_template_areas": null,
            "grid_template_columns": null,
            "grid_template_rows": null,
            "height": null,
            "justify_content": null,
            "justify_items": null,
            "left": null,
            "margin": null,
            "max_height": null,
            "max_width": null,
            "min_height": null,
            "min_width": null,
            "object_fit": null,
            "object_position": null,
            "order": null,
            "overflow": null,
            "overflow_x": null,
            "overflow_y": null,
            "padding": null,
            "right": null,
            "top": null,
            "visibility": null,
            "width": null
          }
        },
        "79245b42b0e6481d83288354219ed996": {
          "model_module": "@jupyter-widgets/controls",
          "model_name": "ProgressStyleModel",
          "model_module_version": "1.5.0",
          "state": {
            "_model_module": "@jupyter-widgets/controls",
            "_model_module_version": "1.5.0",
            "_model_name": "ProgressStyleModel",
            "_view_count": null,
            "_view_module": "@jupyter-widgets/base",
            "_view_module_version": "1.2.0",
            "_view_name": "StyleView",
            "bar_color": null,
            "description_width": ""
          }
        },
        "d12947cc4288499690494ffc9d2d6ede": {
          "model_module": "@jupyter-widgets/base",
          "model_name": "LayoutModel",
          "model_module_version": "1.2.0",
          "state": {
            "_model_module": "@jupyter-widgets/base",
            "_model_module_version": "1.2.0",
            "_model_name": "LayoutModel",
            "_view_count": null,
            "_view_module": "@jupyter-widgets/base",
            "_view_module_version": "1.2.0",
            "_view_name": "LayoutView",
            "align_content": null,
            "align_items": null,
            "align_self": null,
            "border": null,
            "bottom": null,
            "display": null,
            "flex": null,
            "flex_flow": null,
            "grid_area": null,
            "grid_auto_columns": null,
            "grid_auto_flow": null,
            "grid_auto_rows": null,
            "grid_column": null,
            "grid_gap": null,
            "grid_row": null,
            "grid_template_areas": null,
            "grid_template_columns": null,
            "grid_template_rows": null,
            "height": null,
            "justify_content": null,
            "justify_items": null,
            "left": null,
            "margin": null,
            "max_height": null,
            "max_width": null,
            "min_height": null,
            "min_width": null,
            "object_fit": null,
            "object_position": null,
            "order": null,
            "overflow": null,
            "overflow_x": null,
            "overflow_y": null,
            "padding": null,
            "right": null,
            "top": null,
            "visibility": null,
            "width": null
          }
        },
        "f2e0504ff8364f10a59c2c910a4964ec": {
          "model_module": "@jupyter-widgets/controls",
          "model_name": "DescriptionStyleModel",
          "model_module_version": "1.5.0",
          "state": {
            "_model_module": "@jupyter-widgets/controls",
            "_model_module_version": "1.5.0",
            "_model_name": "DescriptionStyleModel",
            "_view_count": null,
            "_view_module": "@jupyter-widgets/base",
            "_view_module_version": "1.2.0",
            "_view_name": "StyleView",
            "description_width": ""
          }
        }
      }
    }
  },
  "nbformat": 4,
  "nbformat_minor": 5
}